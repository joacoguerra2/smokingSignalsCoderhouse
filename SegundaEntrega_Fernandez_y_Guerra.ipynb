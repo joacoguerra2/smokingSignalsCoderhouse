{
  "cells": [
    {
      "cell_type": "markdown",
      "metadata": {
        "id": "view-in-github",
        "colab_type": "text"
      },
      "source": [
        "<a href=\"https://colab.research.google.com/github/joacoguerra2/smokingSignalsCoderhouse/blob/main/SegundaEntrega_Fernandez_y_Guerra.ipynb\" target=\"_parent\"><img src=\"https://colab.research.google.com/assets/colab-badge.svg\" alt=\"Open In Colab\"/></a>"
      ]
    },
    {
      "cell_type": "markdown",
      "metadata": {
        "id": "7_KhH45XJeWk"
      },
      "source": [
        "# **Primera Entrega**  \n",
        "  \n",
        "# Abstracto\n",
        "\n",
        "**Dataset elegido:** Señales de humo de cigarro en el cuerpo.\n",
        "  \n",
        "Fumar cigarrillos tiene graves impactos en la salud de quienes fuman y de las personas que los rodean.    \n",
        "Recientemente se han investigado varias modalidades de detección para recopilar datos objetivos sobre el tabaquismo diario, incluida la detección de episodios de tabaquismo a partir de patrones de respiración, comportamiento de mano a boca y gestos característicos de las manos o eventos de iluminación de cigarrillos.  \n",
        "Nos motiva proporcionar una nueva visión de estas investigaciones. Este modelo propone identificar a través de conjuntos de datos recolectados de señales biológicas de salud, si hay presencia o ausencia de tabaquismo y los problemas de salud o cambios fisiológicos que genera tanto la presencia o la ausencia.  \n",
        "La adicción a la nicotina es difícil de vencer porque cambia su cerebro. El cerebro desarrolla receptores de nicotina adicionales para acomodar las grandes dosis de nicotina del tabaco. Cuando el cerebro deja de recibir la nicotina a la que está acostumbrado, el resultado es la abstinencia de nicotina. Puede sentirse ansioso, irritable y tener fuertes antojos de nicotina.    \n",
        "El proyecto se dirige a todas aquellas personas que, tanto investigan sobre el impacto que tiene el tabaquismo para la salud como para aquellos que trabajan a diario con esta población.  \n",
        "\n",
        "\n",
        "\n"
      ]
    },
    {
      "cell_type": "markdown",
      "metadata": {
        "id": "crEV6RqBDY9I"
      },
      "source": [
        "# Preguntas/Hipotesis\n",
        "Los datos extraídos nos permiten hacer las siguientes preguntas:\n",
        "\n",
        "* ¿Cómo afecta el humo de tabaco a los órganos y al cuerpo en general? \n",
        "* ¿Las personas que fuman tienen mayor poder visual que las personas que no fuman?  \n",
        "* ¿Los fumadores tienen una mayor probabilidad de enfermedades del corazón? \n",
        "* ¿Fumar aumenta el colesterol? ¿El promedio de este es mayor para fumadores?   \n",
        "* ¿Los fumadores tienen la hemoglobina mas alta?  \n",
        "  \n",
        "Esta demostrado que fumar es perjudicial para la salud, pero nuestra hipótesis se basa en respaldar estas preguntas a través del modelo que crearemos a partir de los datos extraídos.  \n",
        "Creemos que puede variar los cambios en la salud, sin importar si fuman o no. Es decir, hay mas chances de contraer enfermedades por fumar, pero tambien hay posibilidad de que algunos fumadores tengan mejor estado de salud en algunas señales biologicas que los que no fuman.\n",
        "Para esto trataremos de contestar las preguntas planteadas y demostrar a traves de visualizaciones y del modelo, esta hipotesis."
      ]
    },
    {
      "cell_type": "markdown",
      "metadata": {
        "id": "ENTW9BuWLMdg"
      },
      "source": [
        "# Definicion de objetivo\n",
        "El objetivo es determinar la presencia o ausencia de tabaquismo a través de bioseñales, usando un modelo de clasificación."
      ]
    },
    {
      "cell_type": "markdown",
      "metadata": {
        "id": "ossSUBalLeER"
      },
      "source": [
        "# Contexto Comercial\n",
        "La estrategia para llegar a nuestro objetivo es crear un modelo de clasificación y comparar estos modelos para ver cual soluciona mejor nuestro problema. A futuro necesitamos que este modelo siga funcionando de forma eficiente para ello:\n",
        "Utilizando machine learning , habilitando la tecnología utilizada para analizar estos datos y “training -a ”constantemente para hacerlo aún mejor (en términos de habilidades predictivas, incorporando nuevos conocimientos y factores de impacto).  \n",
        "Como entrega seran los conocimientos, información y datos nuevos que respaldarán la toma de decisiones. La implementación de acciones y la medición precisa de sus resultados en diferentes aspectos del negocio."
      ]
    },
    {
      "cell_type": "markdown",
      "metadata": {
        "id": "AZPQ-rKdLgGa"
      },
      "source": [
        "# Problema Comercial\n",
        "El problema actual es poder resolver como afecta el humo de tabaco en el cuerpo a traves del dataset elegido, entonces a traves de este modelo podremos ayudar a consolidar la informacion y poder sacar insights para responder a las preguntas de hipotesis. "
      ]
    },
    {
      "cell_type": "markdown",
      "metadata": {
        "id": "nmZmvB44LlK6"
      },
      "source": [
        "# Contexto analitico\n",
        "El set de datos consta de una colección de datos básicos de señales biológicas de salud.\n",
        "Se extrajo la informacion de la siguiente pagina: https://www.kaggle.com/\n",
        "haciendo foco a \"Body signal of smoking\".\n",
        "Consta de un solo dataset con variables que describen las diferente señales biologicas de salud, como por ejemplo, la hemoglobina en sangre, colesterol, etc. Tambien cuenta con el genero y edades de las personas en el dataset y descripciones fiosologicas como el peso y altura.\n",
        "\n",
        "Sabiendo el contexto y el porque queremos investigar sobre el humo de tabaco en el cuerpo, cargamos nuestro dataset y nos proponemos a explorarlo, manejando outliers y limpieza de datos:"
      ]
    },
    {
      "cell_type": "markdown",
      "metadata": {
        "id": "z7tDsoMJKOuS"
      },
      "source": [
        "# **Importación de los datos**\n",
        "\n",
        "Elegimos la api de kaggle tanto para importar nuestro set de datos principal como para complementar el mismo con otros."
      ]
    },
    {
      "cell_type": "markdown",
      "metadata": {
        "id": "IXENEesyKSnL"
      },
      "source": [
        "Dandole permisos a Colab para que se integre con Drive:"
      ]
    },
    {
      "cell_type": "code",
      "execution_count": null,
      "metadata": {
        "colab": {
          "base_uri": "https://localhost:8080/"
        },
        "id": "i6Z5KuumKVHo",
        "outputId": "0c6455f3-380d-4312-b8ac-84bb72c57e5d"
      },
      "outputs": [
        {
          "output_type": "stream",
          "name": "stdout",
          "text": [
            "Mounted at /content/drive\n"
          ]
        }
      ],
      "source": [
        "from google.colab import drive\n",
        "drive.mount('/content/drive')"
      ]
    },
    {
      "cell_type": "markdown",
      "metadata": {
        "id": "F6naVTFrKhVD"
      },
      "source": [
        "Se importan las librerías a utilizar:"
      ]
    },
    {
      "cell_type": "code",
      "execution_count": null,
      "metadata": {
        "colab": {
          "base_uri": "https://localhost:8080/"
        },
        "id": "PhrDFYdQKjx2",
        "outputId": "a40ceb04-20a1-45e6-feab-122a02a86b14"
      },
      "outputs": [
        {
          "output_type": "stream",
          "name": "stdout",
          "text": [
            "Looking in indexes: https://pypi.org/simple, https://us-python.pkg.dev/colab-wheels/public/simple/\n",
            "Requirement already satisfied: kaggle in /usr/local/lib/python3.7/dist-packages (1.5.12)\n",
            "Requirement already satisfied: urllib3 in /usr/local/lib/python3.7/dist-packages (from kaggle) (1.24.3)\n",
            "Requirement already satisfied: python-slugify in /usr/local/lib/python3.7/dist-packages (from kaggle) (6.1.2)\n",
            "Requirement already satisfied: tqdm in /usr/local/lib/python3.7/dist-packages (from kaggle) (4.64.1)\n",
            "Requirement already satisfied: python-dateutil in /usr/local/lib/python3.7/dist-packages (from kaggle) (2.8.2)\n",
            "Requirement already satisfied: requests in /usr/local/lib/python3.7/dist-packages (from kaggle) (2.23.0)\n",
            "Requirement already satisfied: six>=1.10 in /usr/local/lib/python3.7/dist-packages (from kaggle) (1.15.0)\n",
            "Requirement already satisfied: certifi in /usr/local/lib/python3.7/dist-packages (from kaggle) (2022.9.24)\n",
            "Requirement already satisfied: text-unidecode>=1.3 in /usr/local/lib/python3.7/dist-packages (from python-slugify->kaggle) (1.3)\n",
            "Requirement already satisfied: chardet<4,>=3.0.2 in /usr/local/lib/python3.7/dist-packages (from requests->kaggle) (3.0.4)\n",
            "Requirement already satisfied: idna<3,>=2.5 in /usr/local/lib/python3.7/dist-packages (from requests->kaggle) (2.10)\n"
          ]
        }
      ],
      "source": [
        "!pip install kaggle\n",
        "import pandas as pd\n",
        "import math\n",
        "pd.set_option('max_columns', None)    # Configuracion pandas\n",
        "from prettytable import PrettyTable\n",
        "import numpy as np\n",
        "import matplotlib.pyplot as plt\n",
        "plt.style.use(\"ggplot\")\n",
        "import seaborn as sns\n",
        "%matplotlib inline\n",
        "import plotly.graph_objects as go\n",
        "import plotly.express as px\n",
        "from google.colab import files"
      ]
    },
    {
      "cell_type": "code",
      "source": [
        "%cd /content/drive/MyDrive/Github/"
      ],
      "metadata": {
        "colab": {
          "base_uri": "https://localhost:8080/"
        },
        "id": "i11ZtS_6Cd_C",
        "outputId": "62d3a0ac-cfde-496c-fe50-701bf65f043f"
      },
      "execution_count": null,
      "outputs": [
        {
          "output_type": "stream",
          "name": "stdout",
          "text": [
            "[Errno 2] No such file or directory: '/content/drive/MyDrive/Github/'\n",
            "/content\n"
          ]
        }
      ]
    },
    {
      "cell_type": "markdown",
      "metadata": {
        "id": "a9J-HbkNDLdB"
      },
      "source": [
        "Para poder conectarse con la API de kaggle es necesario contar un archivo que se debe descargar de la cuenta personal en Kaggle, llamado Kaggle.json. Es un API Token, este json contiene las credenciales de la API. \n",
        "El siguiente codigo es para levantar este archivo dentro de colab:"
      ]
    },
    {
      "cell_type": "code",
      "execution_count": null,
      "metadata": {
        "colab": {
          "base_uri": "https://localhost:8080/",
          "height": 110
        },
        "id": "S6XgXMmlDfR7",
        "outputId": "28c7e124-ca7f-4d57-d2c9-acf99c659f82"
      },
      "outputs": [
        {
          "output_type": "stream",
          "name": "stdout",
          "text": [
            "Upload kaggle.json file with your kaggle API token\n"
          ]
        },
        {
          "output_type": "display_data",
          "data": {
            "text/plain": [
              "<IPython.core.display.HTML object>"
            ],
            "text/html": [
              "\n",
              "     <input type=\"file\" id=\"files-7eea811f-f58d-4a18-8bc3-fc9e31d4b49e\" name=\"files[]\" multiple disabled\n",
              "        style=\"border:none\" />\n",
              "     <output id=\"result-7eea811f-f58d-4a18-8bc3-fc9e31d4b49e\">\n",
              "      Upload widget is only available when the cell has been executed in the\n",
              "      current browser session. Please rerun this cell to enable.\n",
              "      </output>\n",
              "      <script>// Copyright 2017 Google LLC\n",
              "//\n",
              "// Licensed under the Apache License, Version 2.0 (the \"License\");\n",
              "// you may not use this file except in compliance with the License.\n",
              "// You may obtain a copy of the License at\n",
              "//\n",
              "//      http://www.apache.org/licenses/LICENSE-2.0\n",
              "//\n",
              "// Unless required by applicable law or agreed to in writing, software\n",
              "// distributed under the License is distributed on an \"AS IS\" BASIS,\n",
              "// WITHOUT WARRANTIES OR CONDITIONS OF ANY KIND, either express or implied.\n",
              "// See the License for the specific language governing permissions and\n",
              "// limitations under the License.\n",
              "\n",
              "/**\n",
              " * @fileoverview Helpers for google.colab Python module.\n",
              " */\n",
              "(function(scope) {\n",
              "function span(text, styleAttributes = {}) {\n",
              "  const element = document.createElement('span');\n",
              "  element.textContent = text;\n",
              "  for (const key of Object.keys(styleAttributes)) {\n",
              "    element.style[key] = styleAttributes[key];\n",
              "  }\n",
              "  return element;\n",
              "}\n",
              "\n",
              "// Max number of bytes which will be uploaded at a time.\n",
              "const MAX_PAYLOAD_SIZE = 100 * 1024;\n",
              "\n",
              "function _uploadFiles(inputId, outputId) {\n",
              "  const steps = uploadFilesStep(inputId, outputId);\n",
              "  const outputElement = document.getElementById(outputId);\n",
              "  // Cache steps on the outputElement to make it available for the next call\n",
              "  // to uploadFilesContinue from Python.\n",
              "  outputElement.steps = steps;\n",
              "\n",
              "  return _uploadFilesContinue(outputId);\n",
              "}\n",
              "\n",
              "// This is roughly an async generator (not supported in the browser yet),\n",
              "// where there are multiple asynchronous steps and the Python side is going\n",
              "// to poll for completion of each step.\n",
              "// This uses a Promise to block the python side on completion of each step,\n",
              "// then passes the result of the previous step as the input to the next step.\n",
              "function _uploadFilesContinue(outputId) {\n",
              "  const outputElement = document.getElementById(outputId);\n",
              "  const steps = outputElement.steps;\n",
              "\n",
              "  const next = steps.next(outputElement.lastPromiseValue);\n",
              "  return Promise.resolve(next.value.promise).then((value) => {\n",
              "    // Cache the last promise value to make it available to the next\n",
              "    // step of the generator.\n",
              "    outputElement.lastPromiseValue = value;\n",
              "    return next.value.response;\n",
              "  });\n",
              "}\n",
              "\n",
              "/**\n",
              " * Generator function which is called between each async step of the upload\n",
              " * process.\n",
              " * @param {string} inputId Element ID of the input file picker element.\n",
              " * @param {string} outputId Element ID of the output display.\n",
              " * @return {!Iterable<!Object>} Iterable of next steps.\n",
              " */\n",
              "function* uploadFilesStep(inputId, outputId) {\n",
              "  const inputElement = document.getElementById(inputId);\n",
              "  inputElement.disabled = false;\n",
              "\n",
              "  const outputElement = document.getElementById(outputId);\n",
              "  outputElement.innerHTML = '';\n",
              "\n",
              "  const pickedPromise = new Promise((resolve) => {\n",
              "    inputElement.addEventListener('change', (e) => {\n",
              "      resolve(e.target.files);\n",
              "    });\n",
              "  });\n",
              "\n",
              "  const cancel = document.createElement('button');\n",
              "  inputElement.parentElement.appendChild(cancel);\n",
              "  cancel.textContent = 'Cancel upload';\n",
              "  const cancelPromise = new Promise((resolve) => {\n",
              "    cancel.onclick = () => {\n",
              "      resolve(null);\n",
              "    };\n",
              "  });\n",
              "\n",
              "  // Wait for the user to pick the files.\n",
              "  const files = yield {\n",
              "    promise: Promise.race([pickedPromise, cancelPromise]),\n",
              "    response: {\n",
              "      action: 'starting',\n",
              "    }\n",
              "  };\n",
              "\n",
              "  cancel.remove();\n",
              "\n",
              "  // Disable the input element since further picks are not allowed.\n",
              "  inputElement.disabled = true;\n",
              "\n",
              "  if (!files) {\n",
              "    return {\n",
              "      response: {\n",
              "        action: 'complete',\n",
              "      }\n",
              "    };\n",
              "  }\n",
              "\n",
              "  for (const file of files) {\n",
              "    const li = document.createElement('li');\n",
              "    li.append(span(file.name, {fontWeight: 'bold'}));\n",
              "    li.append(span(\n",
              "        `(${file.type || 'n/a'}) - ${file.size} bytes, ` +\n",
              "        `last modified: ${\n",
              "            file.lastModifiedDate ? file.lastModifiedDate.toLocaleDateString() :\n",
              "                                    'n/a'} - `));\n",
              "    const percent = span('0% done');\n",
              "    li.appendChild(percent);\n",
              "\n",
              "    outputElement.appendChild(li);\n",
              "\n",
              "    const fileDataPromise = new Promise((resolve) => {\n",
              "      const reader = new FileReader();\n",
              "      reader.onload = (e) => {\n",
              "        resolve(e.target.result);\n",
              "      };\n",
              "      reader.readAsArrayBuffer(file);\n",
              "    });\n",
              "    // Wait for the data to be ready.\n",
              "    let fileData = yield {\n",
              "      promise: fileDataPromise,\n",
              "      response: {\n",
              "        action: 'continue',\n",
              "      }\n",
              "    };\n",
              "\n",
              "    // Use a chunked sending to avoid message size limits. See b/62115660.\n",
              "    let position = 0;\n",
              "    do {\n",
              "      const length = Math.min(fileData.byteLength - position, MAX_PAYLOAD_SIZE);\n",
              "      const chunk = new Uint8Array(fileData, position, length);\n",
              "      position += length;\n",
              "\n",
              "      const base64 = btoa(String.fromCharCode.apply(null, chunk));\n",
              "      yield {\n",
              "        response: {\n",
              "          action: 'append',\n",
              "          file: file.name,\n",
              "          data: base64,\n",
              "        },\n",
              "      };\n",
              "\n",
              "      let percentDone = fileData.byteLength === 0 ?\n",
              "          100 :\n",
              "          Math.round((position / fileData.byteLength) * 100);\n",
              "      percent.textContent = `${percentDone}% done`;\n",
              "\n",
              "    } while (position < fileData.byteLength);\n",
              "  }\n",
              "\n",
              "  // All done.\n",
              "  yield {\n",
              "    response: {\n",
              "      action: 'complete',\n",
              "    }\n",
              "  };\n",
              "}\n",
              "\n",
              "scope.google = scope.google || {};\n",
              "scope.google.colab = scope.google.colab || {};\n",
              "scope.google.colab._files = {\n",
              "  _uploadFiles,\n",
              "  _uploadFilesContinue,\n",
              "};\n",
              "})(self);\n",
              "</script> "
            ]
          },
          "metadata": {}
        },
        {
          "output_type": "stream",
          "name": "stdout",
          "text": [
            "Saving kaggle.json to kaggle.json\n",
            "User uploaded file \"kaggle.json\" with length 70 bytes\n"
          ]
        }
      ],
      "source": [
        "print(\"Upload kaggle.json file with your kaggle API token\")\n",
        "\n",
        "uploaded = files.upload()\n",
        "\n",
        "for fn in uploaded.keys():\n",
        "  print('User uploaded file \"{name}\" with length {length} bytes'.format(\n",
        "      name=fn, length=len(uploaded[fn])))\n",
        "  \n",
        "# Then move kaggle.json into the folder where the API expects to find it.\n",
        "!mkdir -p ~/.kaggle/ && mv kaggle.json ~/.kaggle/ && chmod 600 ~/.kaggle/kaggle.json"
      ]
    },
    {
      "cell_type": "markdown",
      "metadata": {
        "id": "Z7I6FyiFDzM-"
      },
      "source": [
        "Una vez conectados con la API de kaggle, buscamos el data set a utilizar en nuestro proyecto \"Body signal of smoking\". La API permite buscar mediante una palabra clave, los set de datos relacionados a esta."
      ]
    },
    {
      "cell_type": "code",
      "execution_count": null,
      "metadata": {
        "colab": {
          "base_uri": "https://localhost:8080/"
        },
        "id": "koE_mIEAD1EP",
        "outputId": "f54247e1-950d-47df-95a2-62cd67f34084"
      },
      "outputs": [
        {
          "output_type": "stream",
          "name": "stdout",
          "text": [
            "ref                              title                   size  lastUpdated          downloadCount  voteCount  usabilityRating  \n",
            "-------------------------------  ----------------------  ----  -------------------  -------------  ---------  ---------------  \n",
            "kukuroo3/body-signal-of-smoking  Body signal of smoking   3MB  2022-05-15 01:20:24           2826         79  0.7058824        \n",
            "aahanmehra/signalsmoking         signalsmoking            1MB  2022-05-15 18:59:39              7          1  0.1764706        \n"
          ]
        }
      ],
      "source": [
        "!kaggle datasets list -s 'body signal of smoking'"
      ]
    },
    {
      "cell_type": "markdown",
      "metadata": {
        "id": "xStzY8PlEfdq"
      },
      "source": [
        "Con el valor ubicado en el campo \"ref\" devuelto, se descarga el set de datos en formato zip, luego lo descomprimimos y lo asignamos a la variable df_smoking seteando como indice del dataframe a la columna 'ID'."
      ]
    },
    {
      "cell_type": "code",
      "execution_count": null,
      "metadata": {
        "id": "zclGihXOE6PD",
        "colab": {
          "base_uri": "https://localhost:8080/"
        },
        "outputId": "deed150a-8b48-475f-8742-ad176a98619a"
      },
      "outputs": [
        {
          "output_type": "stream",
          "name": "stdout",
          "text": [
            "Downloading body-signal-of-smoking .zip to /content\n",
            "\r  0% 0.00/3.40M [00:00<?, ?B/s]\n",
            "\r100% 3.40M/3.40M [00:00<00:00, 209MB/s]\n"
          ]
        }
      ],
      "source": [
        "!kaggle datasets download -d 'kukuroo3/body-signal-of-smoking '"
      ]
    },
    {
      "cell_type": "code",
      "execution_count": null,
      "metadata": {
        "id": "1e8qJ8-GE97N",
        "colab": {
          "base_uri": "https://localhost:8080/"
        },
        "outputId": "700f66c4-654d-4fe1-9bae-4e065e899095"
      },
      "outputs": [
        {
          "output_type": "stream",
          "name": "stdout",
          "text": [
            "Archive:  body-signal-of-smoking .zip\n",
            "  inflating: competition_format/x_test.csv  \n",
            "  inflating: competition_format/x_train.csv  \n",
            "  inflating: competition_format/y_test.csv  \n",
            "  inflating: competition_format/y_train.csv  \n",
            "  inflating: smoking.csv             \n"
          ]
        }
      ],
      "source": [
        "!unzip 'body-signal-of-smoking .zip'"
      ]
    },
    {
      "cell_type": "code",
      "execution_count": null,
      "metadata": {
        "id": "LdcXrlh3FF5P"
      },
      "outputs": [],
      "source": [
        "basepath = \"/content/\"\n",
        "df_smoking = pd.read_csv(basepath + \"smoking.csv\",index_col=0)"
      ]
    },
    {
      "cell_type": "markdown",
      "metadata": {
        "id": "xA5DQA1XFbzr"
      },
      "source": [
        "# **Importación de set de datos complementario**\n",
        "\n",
        "Volvemos a utilizar la API de kaggle para importar un set de datos complementario que contiene información sobre usuarios afiliados a un seguro de salud y realizamos un join para agregar información a nuestro análisis."
      ]
    },
    {
      "cell_type": "code",
      "execution_count": null,
      "metadata": {
        "id": "vk9LHg0BMN4T",
        "colab": {
          "base_uri": "https://localhost:8080/"
        },
        "outputId": "5a7b7d20-5589-4a6a-f5bb-7f5d7c8835f6"
      },
      "outputs": [
        {
          "output_type": "stream",
          "name": "stdout",
          "text": [
            "ref                                                         title                                                size  lastUpdated          downloadCount  voteCount  usabilityRating  \n",
            "----------------------------------------------------------  --------------------------------------------------  -----  -------------------  -------------  ---------  ---------------  \n",
            "simranjain17/insurance                                      Insurance Premium Data                               16KB  2020-09-09 08:34:47           3062         57  1.0              \n",
            "anmolkumar/health-insurance-cross-sell-prediction           Health Insurance Cross Sell Prediction 🏠 🏥            6MB  2020-09-11 18:39:31          27627        627  1.0              \n",
            "arashnic/imbalanced-data-practice                           Learning from  Imbalanced Insurance Data              7MB  2020-11-23 20:47:34           2598         53  1.0              \n",
            "teertha/ushealthinsurancedataset                            US Health Insurance Dataset                          16KB  2020-02-16 04:43:53           6511         71  0.9411765        \n",
            "tejashvi14/medical-insurance-premium-prediction             Medical Insurance Premium Prediction                  7KB  2021-08-04 05:48:58           3213         75  1.0              \n",
            "ycanario/home-insurance                                     Home Insurance                                        7MB  2017-11-14 23:10:34           3600         59  0.8235294        \n",
            "rodrigodomingos/brazilian-insurance-motor-market            Brazilian Motor Insurance Market                    366KB  2017-01-11 09:16:34            915         22  0.7058824        \n",
            "soham1024/av-janatahack-crosssell-prediction                AV  Janatahack: Cross-sell Prediction                 6MB  2020-09-13 05:31:19             50          9  0.64705884       \n",
            "rupakroy/auto-insurance                                     auto-insurance                                       830B  2022-04-02 04:56:15            198         19  0.88235295       \n",
            "shivan118/crosssell-prediction                              JantaHack : Health Insurance Cross sell Prediction    6MB  2020-09-17 11:33:18            163         29  0.88235295       \n",
            "sureshmecad/health-insurance-lead-prediction                Health Insurance Lead Prediction                      1MB  2021-05-15 15:29:16            353         18  0.8235294        \n",
            "lynma01/femas-national-flood-insurance-policy-database      FEMA's National Flood Insurance Policy Database       3GB  2020-05-29 23:19:21            510         14  0.9411765        \n",
            "redwankarimsony/auto-insurance-in-sweden                    Auto Insurance in Sweden                             438B  2020-09-22 02:16:34            467         12  0.47058824       \n",
            "floser/swedish-motor-insurance                              Swedish Motor Insurance                              20KB  2018-02-10 21:51:15           1287         10  0.5882353        \n",
            "kbambardekar/av-jantahackathon                              AV: JantaHackathon                                    6MB  2020-09-12 06:01:20             30          3  0.9411765        \n",
            "blackclover1/life-insurance-policy-data                     Life Insurance Policy Data                            1MB  2019-10-25 18:15:09            638         19  0.47058824       \n",
            "thedevastator/insurance-credit-scoring                      Predicting The Financial Health Of Insurance Firms  169KB  2022-09-24 18:26:59             37          5  0.7647059        \n",
            "msaurav/janatahack-crosssell-prediction                     Janatahack cross-sell prediction                      6MB  2020-09-13 12:58:04             51          3  0.6764706        \n",
            "pyatakov/india-pmfby-statistics                             India PMFBY statistics                                1MB  2022-08-13 16:01:52             82          5  0.88235295       \n",
            "bharatsahu/house-price-prediction-dataset-insurancehub-usa  House Price Prediction Dataset : InsuranceHub- USA    9MB  2020-08-02 06:33:01            317          6  0.64705884       \n"
          ]
        }
      ],
      "source": [
        "!kaggle datasets list -s 'Insurance Premium Data'"
      ]
    },
    {
      "cell_type": "code",
      "execution_count": null,
      "metadata": {
        "id": "v3Sms6JDGNEB",
        "colab": {
          "base_uri": "https://localhost:8080/"
        },
        "outputId": "8b66541d-a5d2-4969-c6a2-fee6e3f1b76e"
      },
      "outputs": [
        {
          "output_type": "stream",
          "name": "stdout",
          "text": [
            "Downloading insurance .zip to /content\n",
            "\r  0% 0.00/16.0k [00:00<?, ?B/s]\n",
            "\r100% 16.0k/16.0k [00:00<00:00, 13.7MB/s]\n"
          ]
        }
      ],
      "source": [
        "!kaggle datasets download -d 'simranjain17/insurance '"
      ]
    },
    {
      "cell_type": "code",
      "execution_count": null,
      "metadata": {
        "id": "-3UHRi7emd3b",
        "colab": {
          "base_uri": "https://localhost:8080/"
        },
        "outputId": "cbeaf5f9-5836-4ca4-e8c5-7fca58fcaac9"
      },
      "outputs": [
        {
          "output_type": "stream",
          "name": "stdout",
          "text": [
            "Archive:  insurance .zip\n",
            "  inflating: insurance.csv           \n"
          ]
        }
      ],
      "source": [
        "!unzip 'insurance '"
      ]
    },
    {
      "cell_type": "markdown",
      "metadata": {
        "id": "_IvZ7qaQHf_0"
      },
      "source": [
        "Se realizan las siguientes transformaciones al set de datos complementario para poder, relacionarlo con el set principal a partir de algunas variables en común:\n",
        "\n",
        "\n",
        "\n",
        "*   Reemplazar los valores de la columna smoker \"yes\" y \"no\" por 1 y 0 respectivamente ya que así están representados en el otro dataframe.\n",
        "*   Reemplazar los valores \"female\" y \"male\" en la columna sex por \"F\" y \"M\" por el mismo motivo.\n",
        "*   Se crea el campo age_round que agrupa a los usuarios por edades de a 5 años al igual que el campo age del dataframe original.\n",
        "\n",
        "\n",
        "\n"
      ]
    },
    {
      "cell_type": "code",
      "execution_count": null,
      "metadata": {
        "id": "07_DNCzFmpZY",
        "colab": {
          "base_uri": "https://localhost:8080/",
          "height": 206
        },
        "outputId": "e1ad8315-9c39-4dd6-c1b3-7db45398d0ca"
      },
      "outputs": [
        {
          "output_type": "execute_result",
          "data": {
            "text/plain": [
              "   age sex     bmi  children  smoker     region      charges  age_round\n",
              "0   19   F  27.900         0       1  southwest  16884.92400         15\n",
              "1   18   M  33.770         1       0  southeast   1725.55230         15\n",
              "2   28   M  33.000         3       0  southeast   4449.46200         25\n",
              "3   33   M  22.705         0       0  northwest  21984.47061         30\n",
              "4   32   M  28.880         0       0  northwest   3866.85520         30"
            ],
            "text/html": [
              "\n",
              "  <div id=\"df-43c6508f-1f10-41a8-8b7d-eda07126cec0\">\n",
              "    <div class=\"colab-df-container\">\n",
              "      <div>\n",
              "<style scoped>\n",
              "    .dataframe tbody tr th:only-of-type {\n",
              "        vertical-align: middle;\n",
              "    }\n",
              "\n",
              "    .dataframe tbody tr th {\n",
              "        vertical-align: top;\n",
              "    }\n",
              "\n",
              "    .dataframe thead th {\n",
              "        text-align: right;\n",
              "    }\n",
              "</style>\n",
              "<table border=\"1\" class=\"dataframe\">\n",
              "  <thead>\n",
              "    <tr style=\"text-align: right;\">\n",
              "      <th></th>\n",
              "      <th>age</th>\n",
              "      <th>sex</th>\n",
              "      <th>bmi</th>\n",
              "      <th>children</th>\n",
              "      <th>smoker</th>\n",
              "      <th>region</th>\n",
              "      <th>charges</th>\n",
              "      <th>age_round</th>\n",
              "    </tr>\n",
              "  </thead>\n",
              "  <tbody>\n",
              "    <tr>\n",
              "      <th>0</th>\n",
              "      <td>19</td>\n",
              "      <td>F</td>\n",
              "      <td>27.900</td>\n",
              "      <td>0</td>\n",
              "      <td>1</td>\n",
              "      <td>southwest</td>\n",
              "      <td>16884.92400</td>\n",
              "      <td>15</td>\n",
              "    </tr>\n",
              "    <tr>\n",
              "      <th>1</th>\n",
              "      <td>18</td>\n",
              "      <td>M</td>\n",
              "      <td>33.770</td>\n",
              "      <td>1</td>\n",
              "      <td>0</td>\n",
              "      <td>southeast</td>\n",
              "      <td>1725.55230</td>\n",
              "      <td>15</td>\n",
              "    </tr>\n",
              "    <tr>\n",
              "      <th>2</th>\n",
              "      <td>28</td>\n",
              "      <td>M</td>\n",
              "      <td>33.000</td>\n",
              "      <td>3</td>\n",
              "      <td>0</td>\n",
              "      <td>southeast</td>\n",
              "      <td>4449.46200</td>\n",
              "      <td>25</td>\n",
              "    </tr>\n",
              "    <tr>\n",
              "      <th>3</th>\n",
              "      <td>33</td>\n",
              "      <td>M</td>\n",
              "      <td>22.705</td>\n",
              "      <td>0</td>\n",
              "      <td>0</td>\n",
              "      <td>northwest</td>\n",
              "      <td>21984.47061</td>\n",
              "      <td>30</td>\n",
              "    </tr>\n",
              "    <tr>\n",
              "      <th>4</th>\n",
              "      <td>32</td>\n",
              "      <td>M</td>\n",
              "      <td>28.880</td>\n",
              "      <td>0</td>\n",
              "      <td>0</td>\n",
              "      <td>northwest</td>\n",
              "      <td>3866.85520</td>\n",
              "      <td>30</td>\n",
              "    </tr>\n",
              "  </tbody>\n",
              "</table>\n",
              "</div>\n",
              "      <button class=\"colab-df-convert\" onclick=\"convertToInteractive('df-43c6508f-1f10-41a8-8b7d-eda07126cec0')\"\n",
              "              title=\"Convert this dataframe to an interactive table.\"\n",
              "              style=\"display:none;\">\n",
              "        \n",
              "  <svg xmlns=\"http://www.w3.org/2000/svg\" height=\"24px\"viewBox=\"0 0 24 24\"\n",
              "       width=\"24px\">\n",
              "    <path d=\"M0 0h24v24H0V0z\" fill=\"none\"/>\n",
              "    <path d=\"M18.56 5.44l.94 2.06.94-2.06 2.06-.94-2.06-.94-.94-2.06-.94 2.06-2.06.94zm-11 1L8.5 8.5l.94-2.06 2.06-.94-2.06-.94L8.5 2.5l-.94 2.06-2.06.94zm10 10l.94 2.06.94-2.06 2.06-.94-2.06-.94-.94-2.06-.94 2.06-2.06.94z\"/><path d=\"M17.41 7.96l-1.37-1.37c-.4-.4-.92-.59-1.43-.59-.52 0-1.04.2-1.43.59L10.3 9.45l-7.72 7.72c-.78.78-.78 2.05 0 2.83L4 21.41c.39.39.9.59 1.41.59.51 0 1.02-.2 1.41-.59l7.78-7.78 2.81-2.81c.8-.78.8-2.07 0-2.86zM5.41 20L4 18.59l7.72-7.72 1.47 1.35L5.41 20z\"/>\n",
              "  </svg>\n",
              "      </button>\n",
              "      \n",
              "  <style>\n",
              "    .colab-df-container {\n",
              "      display:flex;\n",
              "      flex-wrap:wrap;\n",
              "      gap: 12px;\n",
              "    }\n",
              "\n",
              "    .colab-df-convert {\n",
              "      background-color: #E8F0FE;\n",
              "      border: none;\n",
              "      border-radius: 50%;\n",
              "      cursor: pointer;\n",
              "      display: none;\n",
              "      fill: #1967D2;\n",
              "      height: 32px;\n",
              "      padding: 0 0 0 0;\n",
              "      width: 32px;\n",
              "    }\n",
              "\n",
              "    .colab-df-convert:hover {\n",
              "      background-color: #E2EBFA;\n",
              "      box-shadow: 0px 1px 2px rgba(60, 64, 67, 0.3), 0px 1px 3px 1px rgba(60, 64, 67, 0.15);\n",
              "      fill: #174EA6;\n",
              "    }\n",
              "\n",
              "    [theme=dark] .colab-df-convert {\n",
              "      background-color: #3B4455;\n",
              "      fill: #D2E3FC;\n",
              "    }\n",
              "\n",
              "    [theme=dark] .colab-df-convert:hover {\n",
              "      background-color: #434B5C;\n",
              "      box-shadow: 0px 1px 3px 1px rgba(0, 0, 0, 0.15);\n",
              "      filter: drop-shadow(0px 1px 2px rgba(0, 0, 0, 0.3));\n",
              "      fill: #FFFFFF;\n",
              "    }\n",
              "  </style>\n",
              "\n",
              "      <script>\n",
              "        const buttonEl =\n",
              "          document.querySelector('#df-43c6508f-1f10-41a8-8b7d-eda07126cec0 button.colab-df-convert');\n",
              "        buttonEl.style.display =\n",
              "          google.colab.kernel.accessAllowed ? 'block' : 'none';\n",
              "\n",
              "        async function convertToInteractive(key) {\n",
              "          const element = document.querySelector('#df-43c6508f-1f10-41a8-8b7d-eda07126cec0');\n",
              "          const dataTable =\n",
              "            await google.colab.kernel.invokeFunction('convertToInteractive',\n",
              "                                                     [key], {});\n",
              "          if (!dataTable) return;\n",
              "\n",
              "          const docLinkHtml = 'Like what you see? Visit the ' +\n",
              "            '<a target=\"_blank\" href=https://colab.research.google.com/notebooks/data_table.ipynb>data table notebook</a>'\n",
              "            + ' to learn more about interactive tables.';\n",
              "          element.innerHTML = '';\n",
              "          dataTable['output_type'] = 'display_data';\n",
              "          await google.colab.output.renderOutput(dataTable, element);\n",
              "          const docLink = document.createElement('div');\n",
              "          docLink.innerHTML = docLinkHtml;\n",
              "          element.appendChild(docLink);\n",
              "        }\n",
              "      </script>\n",
              "    </div>\n",
              "  </div>\n",
              "  "
            ]
          },
          "metadata": {},
          "execution_count": 11
        }
      ],
      "source": [
        "df_insurance = pd.read_csv(basepath + \"insurance.csv\")\n",
        "df_insurance.smoker.replace(to_replace=\"yes\",value=1,inplace=True)\n",
        "df_insurance.smoker.replace(to_replace=\"no\",value=0,inplace=True)\n",
        "df_insurance.sex.replace(to_replace=\"female\",value='F',inplace=True)\n",
        "df_insurance.sex.replace(to_replace=\"male\",value='M',inplace=True)\n",
        "df_insurance['age_round']=(df_insurance.age/5).astype(int)*5\n",
        "df_insurance.head()"
      ]
    },
    {
      "cell_type": "markdown",
      "metadata": {
        "id": "PndcVwNMMjd-"
      },
      "source": [
        "Creamos el dataframe \"grouped_insurance\" que contiene el promedio del indice de masa corporal (\"bmi\") agrupado por las columnas \"sex\" y \"age_round\" ya que son dos variables que podemos relacionar con el set original para luego poder comparar nuestros registros con los registros de las personas afiliadas al sistema de salud."
      ]
    },
    {
      "cell_type": "code",
      "execution_count": null,
      "metadata": {
        "id": "WbWXSAvaoYK4",
        "colab": {
          "base_uri": "https://localhost:8080/"
        },
        "outputId": "9ed7ae0c-2c5b-4206-c0de-a9da6d239ac2"
      },
      "outputs": [
        {
          "output_type": "stream",
          "name": "stdout",
          "text": [
            "                     bmi\n",
            "sex age_round           \n",
            "F   15         30.991288\n",
            "    20         29.287868\n",
            "    25         28.505896\n",
            "    30         29.823154\n",
            "    35         29.665161\n"
          ]
        }
      ],
      "source": [
        "grouped_insurance = (df_insurance.groupby(by=['sex','age_round']).mean().bmi).to_frame()\n",
        "print(grouped_insurance.head())"
      ]
    },
    {
      "cell_type": "code",
      "execution_count": null,
      "metadata": {
        "id": "MloPuTcpqkkZ",
        "colab": {
          "base_uri": "https://localhost:8080/",
          "height": 305
        },
        "outputId": "98f1c997-8b9e-4980-af18-742838a486c2"
      },
      "outputs": [
        {
          "output_type": "execute_result",
          "data": {
            "text/plain": [
              "  gender  age  height(cm)  weight(kg)  waist(cm)  eyesight(left)  \\\n",
              "0      F   40         155          60       81.3             1.2   \n",
              "1      F   40         160          60       81.0             0.8   \n",
              "2      M   55         170          60       80.0             0.8   \n",
              "3      M   40         165          70       88.0             1.5   \n",
              "4      F   40         155          60       86.0             1.0   \n",
              "\n",
              "   eyesight(right)  hearing(left)  hearing(right)  systolic  relaxation  \\\n",
              "0              1.0            1.0             1.0     114.0        73.0   \n",
              "1              0.6            1.0             1.0     119.0        70.0   \n",
              "2              0.8            1.0             1.0     138.0        86.0   \n",
              "3              1.5            1.0             1.0     100.0        60.0   \n",
              "4              1.0            1.0             1.0     120.0        74.0   \n",
              "\n",
              "   fasting blood sugar  Cholesterol  triglyceride   HDL    LDL  hemoglobin  \\\n",
              "0                 94.0        215.0          82.0  73.0  126.0        12.9   \n",
              "1                130.0        192.0         115.0  42.0  127.0        12.7   \n",
              "2                 89.0        242.0         182.0  55.0  151.0        15.8   \n",
              "3                 96.0        322.0         254.0  45.0  226.0        14.7   \n",
              "4                 80.0        184.0          74.0  62.0  107.0        12.5   \n",
              "\n",
              "   Urine protein  serum creatinine   AST   ALT   Gtp oral  dental caries  \\\n",
              "0            1.0               0.7  18.0  19.0  27.0    Y              0   \n",
              "1            1.0               0.6  22.0  19.0  18.0    Y              0   \n",
              "2            1.0               1.0  21.0  16.0  22.0    Y              0   \n",
              "3            1.0               1.0  19.0  26.0  18.0    Y              0   \n",
              "4            1.0               0.6  16.0  14.0  22.0    Y              0   \n",
              "\n",
              "  tartar  smoking        bmi  \n",
              "0      Y        0  30.821418  \n",
              "1      Y        0  30.821418  \n",
              "2      N        1  32.269048  \n",
              "3      Y        0  30.390882  \n",
              "4      N        0  30.821418  "
            ],
            "text/html": [
              "\n",
              "  <div id=\"df-b9563e43-5a30-44bf-8565-6830e59d6f03\">\n",
              "    <div class=\"colab-df-container\">\n",
              "      <div>\n",
              "<style scoped>\n",
              "    .dataframe tbody tr th:only-of-type {\n",
              "        vertical-align: middle;\n",
              "    }\n",
              "\n",
              "    .dataframe tbody tr th {\n",
              "        vertical-align: top;\n",
              "    }\n",
              "\n",
              "    .dataframe thead th {\n",
              "        text-align: right;\n",
              "    }\n",
              "</style>\n",
              "<table border=\"1\" class=\"dataframe\">\n",
              "  <thead>\n",
              "    <tr style=\"text-align: right;\">\n",
              "      <th></th>\n",
              "      <th>gender</th>\n",
              "      <th>age</th>\n",
              "      <th>height(cm)</th>\n",
              "      <th>weight(kg)</th>\n",
              "      <th>waist(cm)</th>\n",
              "      <th>eyesight(left)</th>\n",
              "      <th>eyesight(right)</th>\n",
              "      <th>hearing(left)</th>\n",
              "      <th>hearing(right)</th>\n",
              "      <th>systolic</th>\n",
              "      <th>relaxation</th>\n",
              "      <th>fasting blood sugar</th>\n",
              "      <th>Cholesterol</th>\n",
              "      <th>triglyceride</th>\n",
              "      <th>HDL</th>\n",
              "      <th>LDL</th>\n",
              "      <th>hemoglobin</th>\n",
              "      <th>Urine protein</th>\n",
              "      <th>serum creatinine</th>\n",
              "      <th>AST</th>\n",
              "      <th>ALT</th>\n",
              "      <th>Gtp</th>\n",
              "      <th>oral</th>\n",
              "      <th>dental caries</th>\n",
              "      <th>tartar</th>\n",
              "      <th>smoking</th>\n",
              "      <th>bmi</th>\n",
              "    </tr>\n",
              "  </thead>\n",
              "  <tbody>\n",
              "    <tr>\n",
              "      <th>0</th>\n",
              "      <td>F</td>\n",
              "      <td>40</td>\n",
              "      <td>155</td>\n",
              "      <td>60</td>\n",
              "      <td>81.3</td>\n",
              "      <td>1.2</td>\n",
              "      <td>1.0</td>\n",
              "      <td>1.0</td>\n",
              "      <td>1.0</td>\n",
              "      <td>114.0</td>\n",
              "      <td>73.0</td>\n",
              "      <td>94.0</td>\n",
              "      <td>215.0</td>\n",
              "      <td>82.0</td>\n",
              "      <td>73.0</td>\n",
              "      <td>126.0</td>\n",
              "      <td>12.9</td>\n",
              "      <td>1.0</td>\n",
              "      <td>0.7</td>\n",
              "      <td>18.0</td>\n",
              "      <td>19.0</td>\n",
              "      <td>27.0</td>\n",
              "      <td>Y</td>\n",
              "      <td>0</td>\n",
              "      <td>Y</td>\n",
              "      <td>0</td>\n",
              "      <td>30.821418</td>\n",
              "    </tr>\n",
              "    <tr>\n",
              "      <th>1</th>\n",
              "      <td>F</td>\n",
              "      <td>40</td>\n",
              "      <td>160</td>\n",
              "      <td>60</td>\n",
              "      <td>81.0</td>\n",
              "      <td>0.8</td>\n",
              "      <td>0.6</td>\n",
              "      <td>1.0</td>\n",
              "      <td>1.0</td>\n",
              "      <td>119.0</td>\n",
              "      <td>70.0</td>\n",
              "      <td>130.0</td>\n",
              "      <td>192.0</td>\n",
              "      <td>115.0</td>\n",
              "      <td>42.0</td>\n",
              "      <td>127.0</td>\n",
              "      <td>12.7</td>\n",
              "      <td>1.0</td>\n",
              "      <td>0.6</td>\n",
              "      <td>22.0</td>\n",
              "      <td>19.0</td>\n",
              "      <td>18.0</td>\n",
              "      <td>Y</td>\n",
              "      <td>0</td>\n",
              "      <td>Y</td>\n",
              "      <td>0</td>\n",
              "      <td>30.821418</td>\n",
              "    </tr>\n",
              "    <tr>\n",
              "      <th>2</th>\n",
              "      <td>M</td>\n",
              "      <td>55</td>\n",
              "      <td>170</td>\n",
              "      <td>60</td>\n",
              "      <td>80.0</td>\n",
              "      <td>0.8</td>\n",
              "      <td>0.8</td>\n",
              "      <td>1.0</td>\n",
              "      <td>1.0</td>\n",
              "      <td>138.0</td>\n",
              "      <td>86.0</td>\n",
              "      <td>89.0</td>\n",
              "      <td>242.0</td>\n",
              "      <td>182.0</td>\n",
              "      <td>55.0</td>\n",
              "      <td>151.0</td>\n",
              "      <td>15.8</td>\n",
              "      <td>1.0</td>\n",
              "      <td>1.0</td>\n",
              "      <td>21.0</td>\n",
              "      <td>16.0</td>\n",
              "      <td>22.0</td>\n",
              "      <td>Y</td>\n",
              "      <td>0</td>\n",
              "      <td>N</td>\n",
              "      <td>1</td>\n",
              "      <td>32.269048</td>\n",
              "    </tr>\n",
              "    <tr>\n",
              "      <th>3</th>\n",
              "      <td>M</td>\n",
              "      <td>40</td>\n",
              "      <td>165</td>\n",
              "      <td>70</td>\n",
              "      <td>88.0</td>\n",
              "      <td>1.5</td>\n",
              "      <td>1.5</td>\n",
              "      <td>1.0</td>\n",
              "      <td>1.0</td>\n",
              "      <td>100.0</td>\n",
              "      <td>60.0</td>\n",
              "      <td>96.0</td>\n",
              "      <td>322.0</td>\n",
              "      <td>254.0</td>\n",
              "      <td>45.0</td>\n",
              "      <td>226.0</td>\n",
              "      <td>14.7</td>\n",
              "      <td>1.0</td>\n",
              "      <td>1.0</td>\n",
              "      <td>19.0</td>\n",
              "      <td>26.0</td>\n",
              "      <td>18.0</td>\n",
              "      <td>Y</td>\n",
              "      <td>0</td>\n",
              "      <td>Y</td>\n",
              "      <td>0</td>\n",
              "      <td>30.390882</td>\n",
              "    </tr>\n",
              "    <tr>\n",
              "      <th>4</th>\n",
              "      <td>F</td>\n",
              "      <td>40</td>\n",
              "      <td>155</td>\n",
              "      <td>60</td>\n",
              "      <td>86.0</td>\n",
              "      <td>1.0</td>\n",
              "      <td>1.0</td>\n",
              "      <td>1.0</td>\n",
              "      <td>1.0</td>\n",
              "      <td>120.0</td>\n",
              "      <td>74.0</td>\n",
              "      <td>80.0</td>\n",
              "      <td>184.0</td>\n",
              "      <td>74.0</td>\n",
              "      <td>62.0</td>\n",
              "      <td>107.0</td>\n",
              "      <td>12.5</td>\n",
              "      <td>1.0</td>\n",
              "      <td>0.6</td>\n",
              "      <td>16.0</td>\n",
              "      <td>14.0</td>\n",
              "      <td>22.0</td>\n",
              "      <td>Y</td>\n",
              "      <td>0</td>\n",
              "      <td>N</td>\n",
              "      <td>0</td>\n",
              "      <td>30.821418</td>\n",
              "    </tr>\n",
              "  </tbody>\n",
              "</table>\n",
              "</div>\n",
              "      <button class=\"colab-df-convert\" onclick=\"convertToInteractive('df-b9563e43-5a30-44bf-8565-6830e59d6f03')\"\n",
              "              title=\"Convert this dataframe to an interactive table.\"\n",
              "              style=\"display:none;\">\n",
              "        \n",
              "  <svg xmlns=\"http://www.w3.org/2000/svg\" height=\"24px\"viewBox=\"0 0 24 24\"\n",
              "       width=\"24px\">\n",
              "    <path d=\"M0 0h24v24H0V0z\" fill=\"none\"/>\n",
              "    <path d=\"M18.56 5.44l.94 2.06.94-2.06 2.06-.94-2.06-.94-.94-2.06-.94 2.06-2.06.94zm-11 1L8.5 8.5l.94-2.06 2.06-.94-2.06-.94L8.5 2.5l-.94 2.06-2.06.94zm10 10l.94 2.06.94-2.06 2.06-.94-2.06-.94-.94-2.06-.94 2.06-2.06.94z\"/><path d=\"M17.41 7.96l-1.37-1.37c-.4-.4-.92-.59-1.43-.59-.52 0-1.04.2-1.43.59L10.3 9.45l-7.72 7.72c-.78.78-.78 2.05 0 2.83L4 21.41c.39.39.9.59 1.41.59.51 0 1.02-.2 1.41-.59l7.78-7.78 2.81-2.81c.8-.78.8-2.07 0-2.86zM5.41 20L4 18.59l7.72-7.72 1.47 1.35L5.41 20z\"/>\n",
              "  </svg>\n",
              "      </button>\n",
              "      \n",
              "  <style>\n",
              "    .colab-df-container {\n",
              "      display:flex;\n",
              "      flex-wrap:wrap;\n",
              "      gap: 12px;\n",
              "    }\n",
              "\n",
              "    .colab-df-convert {\n",
              "      background-color: #E8F0FE;\n",
              "      border: none;\n",
              "      border-radius: 50%;\n",
              "      cursor: pointer;\n",
              "      display: none;\n",
              "      fill: #1967D2;\n",
              "      height: 32px;\n",
              "      padding: 0 0 0 0;\n",
              "      width: 32px;\n",
              "    }\n",
              "\n",
              "    .colab-df-convert:hover {\n",
              "      background-color: #E2EBFA;\n",
              "      box-shadow: 0px 1px 2px rgba(60, 64, 67, 0.3), 0px 1px 3px 1px rgba(60, 64, 67, 0.15);\n",
              "      fill: #174EA6;\n",
              "    }\n",
              "\n",
              "    [theme=dark] .colab-df-convert {\n",
              "      background-color: #3B4455;\n",
              "      fill: #D2E3FC;\n",
              "    }\n",
              "\n",
              "    [theme=dark] .colab-df-convert:hover {\n",
              "      background-color: #434B5C;\n",
              "      box-shadow: 0px 1px 3px 1px rgba(0, 0, 0, 0.15);\n",
              "      filter: drop-shadow(0px 1px 2px rgba(0, 0, 0, 0.3));\n",
              "      fill: #FFFFFF;\n",
              "    }\n",
              "  </style>\n",
              "\n",
              "      <script>\n",
              "        const buttonEl =\n",
              "          document.querySelector('#df-b9563e43-5a30-44bf-8565-6830e59d6f03 button.colab-df-convert');\n",
              "        buttonEl.style.display =\n",
              "          google.colab.kernel.accessAllowed ? 'block' : 'none';\n",
              "\n",
              "        async function convertToInteractive(key) {\n",
              "          const element = document.querySelector('#df-b9563e43-5a30-44bf-8565-6830e59d6f03');\n",
              "          const dataTable =\n",
              "            await google.colab.kernel.invokeFunction('convertToInteractive',\n",
              "                                                     [key], {});\n",
              "          if (!dataTable) return;\n",
              "\n",
              "          const docLinkHtml = 'Like what you see? Visit the ' +\n",
              "            '<a target=\"_blank\" href=https://colab.research.google.com/notebooks/data_table.ipynb>data table notebook</a>'\n",
              "            + ' to learn more about interactive tables.';\n",
              "          element.innerHTML = '';\n",
              "          dataTable['output_type'] = 'display_data';\n",
              "          await google.colab.output.renderOutput(dataTable, element);\n",
              "          const docLink = document.createElement('div');\n",
              "          docLink.innerHTML = docLinkHtml;\n",
              "          element.appendChild(docLink);\n",
              "        }\n",
              "      </script>\n",
              "    </div>\n",
              "  </div>\n",
              "  "
            ]
          },
          "metadata": {},
          "execution_count": 14
        }
      ],
      "source": [
        "df_final = df_smoking.merge(grouped_insurance,how='left',right_on=['age_round','sex'],left_on=['age','gender'],suffixes=('_smoking','_insurance'))\n",
        "df_final.head()"
      ]
    },
    {
      "cell_type": "markdown",
      "metadata": {
        "id": "S8J0jGqNPr3F"
      },
      "source": [
        "Agregamos al set de datos la columna \"calc_bmi\" que calcula el indice de masa corporal del usuario para compararlo contra el promedio obtenido del set complementario y la columna \"bmi_comp\" que contiene True si el indice de masa corporal es mayor que el promedio obtenido para su grupo etario y sexo y False en caso contrario."
      ]
    },
    {
      "cell_type": "code",
      "execution_count": null,
      "metadata": {
        "id": "_I17EOrwQzw2"
      },
      "outputs": [],
      "source": [
        "df_final['calc_bmi'] = df_final['weight(kg)']/((df_final['height(cm)']/100)**2)\n",
        "df_final['bmi_comp'] = df_final['calc_bmi'] > df_final['bmi']"
      ]
    },
    {
      "cell_type": "markdown",
      "metadata": {
        "id": "9swwhYV6L37r"
      },
      "source": [
        "# EDA - EXPLORACIÓN DE LOS DATOS"
      ]
    },
    {
      "cell_type": "code",
      "execution_count": null,
      "metadata": {
        "id": "5IPl9moxKv3_",
        "colab": {
          "base_uri": "https://localhost:8080/"
        },
        "outputId": "6d7ee01e-140c-4782-a5da-aa6cf9c573fe"
      },
      "outputs": [
        {
          "output_type": "stream",
          "name": "stdout",
          "text": [
            "Forma del dataset:\n",
            "(55692, 29)\n"
          ]
        }
      ],
      "source": [
        "df_eda=df_final.copy()\n",
        "print('Forma del dataset:')\n",
        "print(df_eda.shape)"
      ]
    },
    {
      "cell_type": "markdown",
      "metadata": {
        "id": "qJZrWGunKyql"
      },
      "source": [
        "Tamaño del dataframe: 55692 filas y 29 columnas."
      ]
    },
    {
      "cell_type": "markdown",
      "metadata": {
        "id": "MBQcFj-5W7nH"
      },
      "source": [
        "A continuación presentamos las estadisticas descriptivas de las variables numericas para comprender mejor nuestros datos:"
      ]
    },
    {
      "cell_type": "code",
      "execution_count": null,
      "metadata": {
        "id": "e0388tlcKuLL",
        "colab": {
          "base_uri": "https://localhost:8080/",
          "height": 833
        },
        "outputId": "75b01c99-22e0-40f4-d90d-41a96c991e5a"
      },
      "outputs": [
        {
          "output_type": "execute_result",
          "data": {
            "text/plain": [
              "<pandas.io.formats.style.Styler at 0x7f3c5e103750>"
            ],
            "text/html": [
              "<style type=\"text/css\">\n",
              "#T_3d31c_row0_col0, #T_3d31c_row1_col0, #T_3d31c_row1_col3, #T_3d31c_row2_col0, #T_3d31c_row3_col0, #T_3d31c_row4_col0, #T_3d31c_row5_col0, #T_3d31c_row6_col0, #T_3d31c_row7_col0, #T_3d31c_row8_col0, #T_3d31c_row9_col0, #T_3d31c_row10_col0, #T_3d31c_row11_col0, #T_3d31c_row11_col1, #T_3d31c_row11_col4, #T_3d31c_row11_col5, #T_3d31c_row11_col6, #T_3d31c_row12_col0, #T_3d31c_row12_col2, #T_3d31c_row13_col0, #T_3d31c_row14_col0, #T_3d31c_row15_col0, #T_3d31c_row16_col0, #T_3d31c_row17_col0, #T_3d31c_row18_col0, #T_3d31c_row19_col0, #T_3d31c_row19_col7, #T_3d31c_row20_col0, #T_3d31c_row21_col0, #T_3d31c_row22_col0, #T_3d31c_row24_col0 {\n",
              "  background-color: #3b4cc0;\n",
              "  color: #f1f1f1;\n",
              "}\n",
              "#T_3d31c_row0_col1 {\n",
              "  background-color: #f18f71;\n",
              "  color: #f1f1f1;\n",
              "}\n",
              "#T_3d31c_row0_col2 {\n",
              "  background-color: #e7745b;\n",
              "  color: #f1f1f1;\n",
              "}\n",
              "#T_3d31c_row0_col3, #T_3d31c_row11_col7 {\n",
              "  background-color: #e46e56;\n",
              "  color: #f1f1f1;\n",
              "}\n",
              "#T_3d31c_row0_col4, #T_3d31c_row2_col3 {\n",
              "  background-color: #f29274;\n",
              "  color: #f1f1f1;\n",
              "}\n",
              "#T_3d31c_row0_col5, #T_3d31c_row13_col2 {\n",
              "  background-color: #ee8669;\n",
              "  color: #f1f1f1;\n",
              "}\n",
              "#T_3d31c_row0_col6 {\n",
              "  background-color: #f49a7b;\n",
              "  color: #000000;\n",
              "}\n",
              "#T_3d31c_row0_col7, #T_3d31c_row13_col3 {\n",
              "  background-color: #be242e;\n",
              "  color: #f1f1f1;\n",
              "}\n",
              "#T_3d31c_row1_col1 {\n",
              "  background-color: #6e90f2;\n",
              "  color: #f1f1f1;\n",
              "}\n",
              "#T_3d31c_row1_col2, #T_3d31c_row3_col2, #T_3d31c_row18_col6, #T_3d31c_row20_col5, #T_3d31c_row24_col4 {\n",
              "  background-color: #de614d;\n",
              "  color: #f1f1f1;\n",
              "}\n",
              "#T_3d31c_row1_col4 {\n",
              "  background-color: #4f69d9;\n",
              "  color: #f1f1f1;\n",
              "}\n",
              "#T_3d31c_row1_col5 {\n",
              "  background-color: #6b8df0;\n",
              "  color: #f1f1f1;\n",
              "}\n",
              "#T_3d31c_row1_col6 {\n",
              "  background-color: #85a8fc;\n",
              "  color: #f1f1f1;\n",
              "}\n",
              "#T_3d31c_row1_col7 {\n",
              "  background-color: #cb3e38;\n",
              "  color: #f1f1f1;\n",
              "}\n",
              "#T_3d31c_row2_col1, #T_3d31c_row2_col5 {\n",
              "  background-color: #f7b89c;\n",
              "  color: #000000;\n",
              "}\n",
              "#T_3d31c_row2_col2, #T_3d31c_row23_col4 {\n",
              "  background-color: #e97a5f;\n",
              "  color: #f1f1f1;\n",
              "}\n",
              "#T_3d31c_row2_col4 {\n",
              "  background-color: #f7b396;\n",
              "  color: #000000;\n",
              "}\n",
              "#T_3d31c_row2_col6, #T_3d31c_row12_col7, #T_3d31c_row20_col7 {\n",
              "  background-color: #f7ba9f;\n",
              "  color: #000000;\n",
              "}\n",
              "#T_3d31c_row2_col7, #T_3d31c_row3_col7, #T_3d31c_row18_col3, #T_3d31c_row24_col2 {\n",
              "  background-color: #c43032;\n",
              "  color: #f1f1f1;\n",
              "}\n",
              "#T_3d31c_row3_col1 {\n",
              "  background-color: #efcebd;\n",
              "  color: #000000;\n",
              "}\n",
              "#T_3d31c_row3_col3 {\n",
              "  background-color: #f2c9b4;\n",
              "  color: #000000;\n",
              "}\n",
              "#T_3d31c_row3_col4 {\n",
              "  background-color: #ead4c8;\n",
              "  color: #000000;\n",
              "}\n",
              "#T_3d31c_row3_col5 {\n",
              "  background-color: #efcfbf;\n",
              "  color: #000000;\n",
              "}\n",
              "#T_3d31c_row3_col6 {\n",
              "  background-color: #f2cbb7;\n",
              "  color: #000000;\n",
              "}\n",
              "#T_3d31c_row4_col1, #T_3d31c_row4_col2, #T_3d31c_row4_col4, #T_3d31c_row4_col5, #T_3d31c_row4_col6, #T_3d31c_row5_col1, #T_3d31c_row5_col2, #T_3d31c_row5_col4, #T_3d31c_row5_col5, #T_3d31c_row5_col6, #T_3d31c_row6_col1, #T_3d31c_row6_col3, #T_3d31c_row6_col4, #T_3d31c_row6_col5, #T_3d31c_row6_col6, #T_3d31c_row7_col1, #T_3d31c_row7_col3, #T_3d31c_row7_col4, #T_3d31c_row7_col5, #T_3d31c_row7_col6, #T_3d31c_row14_col3, #T_3d31c_row15_col7, #T_3d31c_row16_col1, #T_3d31c_row16_col3, #T_3d31c_row16_col4, #T_3d31c_row16_col5, #T_3d31c_row16_col6, #T_3d31c_row17_col4, #T_3d31c_row17_col5, #T_3d31c_row17_col6, #T_3d31c_row19_col3, #T_3d31c_row20_col3, #T_3d31c_row22_col2, #T_3d31c_row22_col6, #T_3d31c_row23_col2 {\n",
              "  background-color: #b50927;\n",
              "  color: #f1f1f1;\n",
              "}\n",
              "#T_3d31c_row4_col3, #T_3d31c_row4_col7, #T_3d31c_row5_col3, #T_3d31c_row5_col7, #T_3d31c_row6_col2, #T_3d31c_row6_col7, #T_3d31c_row7_col2, #T_3d31c_row7_col7, #T_3d31c_row16_col2, #T_3d31c_row16_col7, #T_3d31c_row17_col1, #T_3d31c_row17_col2, #T_3d31c_row17_col3, #T_3d31c_row17_col7, #T_3d31c_row21_col1, #T_3d31c_row21_col2, #T_3d31c_row21_col3, #T_3d31c_row21_col4, #T_3d31c_row21_col5, #T_3d31c_row21_col6, #T_3d31c_row21_col7, #T_3d31c_row22_col1, #T_3d31c_row22_col3, #T_3d31c_row22_col4, #T_3d31c_row22_col5, #T_3d31c_row22_col7, #T_3d31c_row23_col0 {\n",
              "  background-color: #b40426;\n",
              "  color: #f1f1f1;\n",
              "}\n",
              "#T_3d31c_row8_col1, #T_3d31c_row8_col5 {\n",
              "  background-color: #bbd1f8;\n",
              "  color: #000000;\n",
              "}\n",
              "#T_3d31c_row8_col2 {\n",
              "  background-color: #ec7f63;\n",
              "  color: #f1f1f1;\n",
              "}\n",
              "#T_3d31c_row8_col3 {\n",
              "  background-color: #d1dae9;\n",
              "  color: #000000;\n",
              "}\n",
              "#T_3d31c_row8_col4 {\n",
              "  background-color: #afcafc;\n",
              "  color: #000000;\n",
              "}\n",
              "#T_3d31c_row8_col6 {\n",
              "  background-color: #c3d5f4;\n",
              "  color: #000000;\n",
              "}\n",
              "#T_3d31c_row8_col7 {\n",
              "  background-color: #d1493f;\n",
              "  color: #f1f1f1;\n",
              "}\n",
              "#T_3d31c_row9_col1 {\n",
              "  background-color: #f3c7b1;\n",
              "  color: #000000;\n",
              "}\n",
              "#T_3d31c_row9_col2, #T_3d31c_row19_col1 {\n",
              "  background-color: #e0654f;\n",
              "  color: #f1f1f1;\n",
              "}\n",
              "#T_3d31c_row9_col3 {\n",
              "  background-color: #f7af91;\n",
              "  color: #000000;\n",
              "}\n",
              "#T_3d31c_row9_col4 {\n",
              "  background-color: #f1cdba;\n",
              "  color: #000000;\n",
              "}\n",
              "#T_3d31c_row9_col5 {\n",
              "  background-color: #f3c8b2;\n",
              "  color: #000000;\n",
              "}\n",
              "#T_3d31c_row9_col6 {\n",
              "  background-color: #f5c4ac;\n",
              "  color: #000000;\n",
              "}\n",
              "#T_3d31c_row9_col7 {\n",
              "  background-color: #c53334;\n",
              "  color: #f1f1f1;\n",
              "}\n",
              "#T_3d31c_row10_col1 {\n",
              "  background-color: #dcdddd;\n",
              "  color: #000000;\n",
              "}\n",
              "#T_3d31c_row10_col2 {\n",
              "  background-color: #f7a889;\n",
              "  color: #000000;\n",
              "}\n",
              "#T_3d31c_row10_col3 {\n",
              "  background-color: #f6bea4;\n",
              "  color: #000000;\n",
              "}\n",
              "#T_3d31c_row10_col4 {\n",
              "  background-color: #d8dce2;\n",
              "  color: #000000;\n",
              "}\n",
              "#T_3d31c_row10_col5 {\n",
              "  background-color: #dedcdb;\n",
              "  color: #000000;\n",
              "}\n",
              "#T_3d31c_row10_col6 {\n",
              "  background-color: #e3d9d3;\n",
              "  color: #000000;\n",
              "}\n",
              "#T_3d31c_row10_col7 {\n",
              "  background-color: #e9785d;\n",
              "  color: #f1f1f1;\n",
              "}\n",
              "#T_3d31c_row11_col2 {\n",
              "  background-color: #dbdcde;\n",
              "  color: #000000;\n",
              "}\n",
              "#T_3d31c_row11_col3 {\n",
              "  background-color: #eed0c0;\n",
              "  color: #000000;\n",
              "}\n",
              "#T_3d31c_row12_col1 {\n",
              "  background-color: #b2ccfb;\n",
              "  color: #000000;\n",
              "}\n",
              "#T_3d31c_row12_col3 {\n",
              "  background-color: #ca3b37;\n",
              "  color: #f1f1f1;\n",
              "}\n",
              "#T_3d31c_row12_col4, #T_3d31c_row19_col2 {\n",
              "  background-color: #edd2c3;\n",
              "  color: #000000;\n",
              "}\n",
              "#T_3d31c_row12_col5 {\n",
              "  background-color: #cedaeb;\n",
              "  color: #000000;\n",
              "}\n",
              "#T_3d31c_row12_col6 {\n",
              "  background-color: #94b6ff;\n",
              "  color: #000000;\n",
              "}\n",
              "#T_3d31c_row13_col1 {\n",
              "  background-color: #f7a98b;\n",
              "  color: #000000;\n",
              "}\n",
              "#T_3d31c_row13_col4 {\n",
              "  background-color: #f6a283;\n",
              "  color: #000000;\n",
              "}\n",
              "#T_3d31c_row13_col5 {\n",
              "  background-color: #f7a688;\n",
              "  color: #000000;\n",
              "}\n",
              "#T_3d31c_row13_col6 {\n",
              "  background-color: #f7ac8e;\n",
              "  color: #000000;\n",
              "}\n",
              "#T_3d31c_row13_col7 {\n",
              "  background-color: #f08a6c;\n",
              "  color: #f1f1f1;\n",
              "}\n",
              "#T_3d31c_row14_col1 {\n",
              "  background-color: #c5d6f2;\n",
              "  color: #000000;\n",
              "}\n",
              "#T_3d31c_row14_col2 {\n",
              "  background-color: #c9d7f0;\n",
              "  color: #000000;\n",
              "}\n",
              "#T_3d31c_row14_col4 {\n",
              "  background-color: #d4dbe6;\n",
              "  color: #000000;\n",
              "}\n",
              "#T_3d31c_row14_col5 {\n",
              "  background-color: #c6d6f1;\n",
              "  color: #000000;\n",
              "}\n",
              "#T_3d31c_row14_col6 {\n",
              "  background-color: #bad0f8;\n",
              "  color: #000000;\n",
              "}\n",
              "#T_3d31c_row14_col7 {\n",
              "  background-color: #b3cdfb;\n",
              "  color: #000000;\n",
              "}\n",
              "#T_3d31c_row15_col1, #T_3d31c_row15_col6 {\n",
              "  background-color: #cd423b;\n",
              "  color: #f1f1f1;\n",
              "}\n",
              "#T_3d31c_row15_col2 {\n",
              "  background-color: #bb1b2c;\n",
              "  color: #f1f1f1;\n",
              "}\n",
              "#T_3d31c_row15_col3 {\n",
              "  background-color: #c12b30;\n",
              "  color: #f1f1f1;\n",
              "}\n",
              "#T_3d31c_row15_col4 {\n",
              "  background-color: #d0473d;\n",
              "  color: #f1f1f1;\n",
              "}\n",
              "#T_3d31c_row15_col5 {\n",
              "  background-color: #cf453c;\n",
              "  color: #f1f1f1;\n",
              "}\n",
              "#T_3d31c_row18_col1 {\n",
              "  background-color: #df634e;\n",
              "  color: #f1f1f1;\n",
              "}\n",
              "#T_3d31c_row18_col2 {\n",
              "  background-color: #f5a081;\n",
              "  color: #000000;\n",
              "}\n",
              "#T_3d31c_row18_col4, #T_3d31c_row24_col3 {\n",
              "  background-color: #d95847;\n",
              "  color: #f1f1f1;\n",
              "}\n",
              "#T_3d31c_row18_col5, #T_3d31c_row24_col6 {\n",
              "  background-color: #dc5d4a;\n",
              "  color: #f1f1f1;\n",
              "}\n",
              "#T_3d31c_row18_col7 {\n",
              "  background-color: #e9d5cb;\n",
              "  color: #000000;\n",
              "}\n",
              "#T_3d31c_row19_col4 {\n",
              "  background-color: #d24b40;\n",
              "  color: #f1f1f1;\n",
              "}\n",
              "#T_3d31c_row19_col5 {\n",
              "  background-color: #d85646;\n",
              "  color: #f1f1f1;\n",
              "}\n",
              "#T_3d31c_row19_col6, #T_3d31c_row23_col6 {\n",
              "  background-color: #e26952;\n",
              "  color: #f1f1f1;\n",
              "}\n",
              "#T_3d31c_row20_col1 {\n",
              "  background-color: #ee8468;\n",
              "  color: #f1f1f1;\n",
              "}\n",
              "#T_3d31c_row20_col2 {\n",
              "  background-color: #9ebeff;\n",
              "  color: #000000;\n",
              "}\n",
              "#T_3d31c_row20_col4 {\n",
              "  background-color: #d65244;\n",
              "  color: #f1f1f1;\n",
              "}\n",
              "#T_3d31c_row20_col6 {\n",
              "  background-color: #ed8366;\n",
              "  color: #f1f1f1;\n",
              "}\n",
              "#T_3d31c_row23_col1, #T_3d31c_row23_col5 {\n",
              "  background-color: #e57058;\n",
              "  color: #f1f1f1;\n",
              "}\n",
              "#T_3d31c_row23_col3 {\n",
              "  background-color: #f18d6f;\n",
              "  color: #f1f1f1;\n",
              "}\n",
              "#T_3d31c_row23_col7 {\n",
              "  background-color: #b70d28;\n",
              "  color: #f1f1f1;\n",
              "}\n",
              "#T_3d31c_row24_col1, #T_3d31c_row24_col5 {\n",
              "  background-color: #dd5f4b;\n",
              "  color: #f1f1f1;\n",
              "}\n",
              "#T_3d31c_row24_col7 {\n",
              "  background-color: #b8122a;\n",
              "  color: #f1f1f1;\n",
              "}\n",
              "</style>\n",
              "<table id=\"T_3d31c_\" class=\"dataframe\">\n",
              "  <thead>\n",
              "    <tr>\n",
              "      <th class=\"blank level0\" >&nbsp;</th>\n",
              "      <th class=\"col_heading level0 col0\" >count</th>\n",
              "      <th class=\"col_heading level0 col1\" >mean</th>\n",
              "      <th class=\"col_heading level0 col2\" >std</th>\n",
              "      <th class=\"col_heading level0 col3\" >min</th>\n",
              "      <th class=\"col_heading level0 col4\" >25%</th>\n",
              "      <th class=\"col_heading level0 col5\" >50%</th>\n",
              "      <th class=\"col_heading level0 col6\" >75%</th>\n",
              "      <th class=\"col_heading level0 col7\" >max</th>\n",
              "    </tr>\n",
              "  </thead>\n",
              "  <tbody>\n",
              "    <tr>\n",
              "      <th id=\"T_3d31c_level0_row0\" class=\"row_heading level0 row0\" >age</th>\n",
              "      <td id=\"T_3d31c_row0_col0\" class=\"data row0 col0\" >55692.000000</td>\n",
              "      <td id=\"T_3d31c_row0_col1\" class=\"data row0 col1\" >44.180000</td>\n",
              "      <td id=\"T_3d31c_row0_col2\" class=\"data row0 col2\" >12.070000</td>\n",
              "      <td id=\"T_3d31c_row0_col3\" class=\"data row0 col3\" >20.000000</td>\n",
              "      <td id=\"T_3d31c_row0_col4\" class=\"data row0 col4\" >40.000000</td>\n",
              "      <td id=\"T_3d31c_row0_col5\" class=\"data row0 col5\" >40.000000</td>\n",
              "      <td id=\"T_3d31c_row0_col6\" class=\"data row0 col6\" >55.000000</td>\n",
              "      <td id=\"T_3d31c_row0_col7\" class=\"data row0 col7\" >85.000000</td>\n",
              "    </tr>\n",
              "    <tr>\n",
              "      <th id=\"T_3d31c_level0_row1\" class=\"row_heading level0 row1\" >height(cm)</th>\n",
              "      <td id=\"T_3d31c_row1_col0\" class=\"data row1 col0\" >55692.000000</td>\n",
              "      <td id=\"T_3d31c_row1_col1\" class=\"data row1 col1\" >164.650000</td>\n",
              "      <td id=\"T_3d31c_row1_col2\" class=\"data row1 col2\" >9.190000</td>\n",
              "      <td id=\"T_3d31c_row1_col3\" class=\"data row1 col3\" >130.000000</td>\n",
              "      <td id=\"T_3d31c_row1_col4\" class=\"data row1 col4\" >160.000000</td>\n",
              "      <td id=\"T_3d31c_row1_col5\" class=\"data row1 col5\" >165.000000</td>\n",
              "      <td id=\"T_3d31c_row1_col6\" class=\"data row1 col6\" >170.000000</td>\n",
              "      <td id=\"T_3d31c_row1_col7\" class=\"data row1 col7\" >190.000000</td>\n",
              "    </tr>\n",
              "    <tr>\n",
              "      <th id=\"T_3d31c_level0_row2\" class=\"row_heading level0 row2\" >weight(kg)</th>\n",
              "      <td id=\"T_3d31c_row2_col0\" class=\"data row2 col0\" >55692.000000</td>\n",
              "      <td id=\"T_3d31c_row2_col1\" class=\"data row2 col1\" >65.860000</td>\n",
              "      <td id=\"T_3d31c_row2_col2\" class=\"data row2 col2\" >12.820000</td>\n",
              "      <td id=\"T_3d31c_row2_col3\" class=\"data row2 col3\" >30.000000</td>\n",
              "      <td id=\"T_3d31c_row2_col4\" class=\"data row2 col4\" >55.000000</td>\n",
              "      <td id=\"T_3d31c_row2_col5\" class=\"data row2 col5\" >65.000000</td>\n",
              "      <td id=\"T_3d31c_row2_col6\" class=\"data row2 col6\" >75.000000</td>\n",
              "      <td id=\"T_3d31c_row2_col7\" class=\"data row2 col7\" >135.000000</td>\n",
              "    </tr>\n",
              "    <tr>\n",
              "      <th id=\"T_3d31c_level0_row3\" class=\"row_heading level0 row3\" >waist(cm)</th>\n",
              "      <td id=\"T_3d31c_row3_col0\" class=\"data row3 col0\" >55692.000000</td>\n",
              "      <td id=\"T_3d31c_row3_col1\" class=\"data row3 col1\" >82.050000</td>\n",
              "      <td id=\"T_3d31c_row3_col2\" class=\"data row3 col2\" >9.270000</td>\n",
              "      <td id=\"T_3d31c_row3_col3\" class=\"data row3 col3\" >51.000000</td>\n",
              "      <td id=\"T_3d31c_row3_col4\" class=\"data row3 col4\" >76.000000</td>\n",
              "      <td id=\"T_3d31c_row3_col5\" class=\"data row3 col5\" >82.000000</td>\n",
              "      <td id=\"T_3d31c_row3_col6\" class=\"data row3 col6\" >88.000000</td>\n",
              "      <td id=\"T_3d31c_row3_col7\" class=\"data row3 col7\" >129.000000</td>\n",
              "    </tr>\n",
              "    <tr>\n",
              "      <th id=\"T_3d31c_level0_row4\" class=\"row_heading level0 row4\" >eyesight(left)</th>\n",
              "      <td id=\"T_3d31c_row4_col0\" class=\"data row4 col0\" >55692.000000</td>\n",
              "      <td id=\"T_3d31c_row4_col1\" class=\"data row4 col1\" >1.010000</td>\n",
              "      <td id=\"T_3d31c_row4_col2\" class=\"data row4 col2\" >0.490000</td>\n",
              "      <td id=\"T_3d31c_row4_col3\" class=\"data row4 col3\" >0.100000</td>\n",
              "      <td id=\"T_3d31c_row4_col4\" class=\"data row4 col4\" >0.800000</td>\n",
              "      <td id=\"T_3d31c_row4_col5\" class=\"data row4 col5\" >1.000000</td>\n",
              "      <td id=\"T_3d31c_row4_col6\" class=\"data row4 col6\" >1.200000</td>\n",
              "      <td id=\"T_3d31c_row4_col7\" class=\"data row4 col7\" >9.900000</td>\n",
              "    </tr>\n",
              "    <tr>\n",
              "      <th id=\"T_3d31c_level0_row5\" class=\"row_heading level0 row5\" >eyesight(right)</th>\n",
              "      <td id=\"T_3d31c_row5_col0\" class=\"data row5 col0\" >55692.000000</td>\n",
              "      <td id=\"T_3d31c_row5_col1\" class=\"data row5 col1\" >1.010000</td>\n",
              "      <td id=\"T_3d31c_row5_col2\" class=\"data row5 col2\" >0.490000</td>\n",
              "      <td id=\"T_3d31c_row5_col3\" class=\"data row5 col3\" >0.100000</td>\n",
              "      <td id=\"T_3d31c_row5_col4\" class=\"data row5 col4\" >0.800000</td>\n",
              "      <td id=\"T_3d31c_row5_col5\" class=\"data row5 col5\" >1.000000</td>\n",
              "      <td id=\"T_3d31c_row5_col6\" class=\"data row5 col6\" >1.200000</td>\n",
              "      <td id=\"T_3d31c_row5_col7\" class=\"data row5 col7\" >9.900000</td>\n",
              "    </tr>\n",
              "    <tr>\n",
              "      <th id=\"T_3d31c_level0_row6\" class=\"row_heading level0 row6\" >hearing(left)</th>\n",
              "      <td id=\"T_3d31c_row6_col0\" class=\"data row6 col0\" >55692.000000</td>\n",
              "      <td id=\"T_3d31c_row6_col1\" class=\"data row6 col1\" >1.030000</td>\n",
              "      <td id=\"T_3d31c_row6_col2\" class=\"data row6 col2\" >0.160000</td>\n",
              "      <td id=\"T_3d31c_row6_col3\" class=\"data row6 col3\" >1.000000</td>\n",
              "      <td id=\"T_3d31c_row6_col4\" class=\"data row6 col4\" >1.000000</td>\n",
              "      <td id=\"T_3d31c_row6_col5\" class=\"data row6 col5\" >1.000000</td>\n",
              "      <td id=\"T_3d31c_row6_col6\" class=\"data row6 col6\" >1.000000</td>\n",
              "      <td id=\"T_3d31c_row6_col7\" class=\"data row6 col7\" >2.000000</td>\n",
              "    </tr>\n",
              "    <tr>\n",
              "      <th id=\"T_3d31c_level0_row7\" class=\"row_heading level0 row7\" >hearing(right)</th>\n",
              "      <td id=\"T_3d31c_row7_col0\" class=\"data row7 col0\" >55692.000000</td>\n",
              "      <td id=\"T_3d31c_row7_col1\" class=\"data row7 col1\" >1.030000</td>\n",
              "      <td id=\"T_3d31c_row7_col2\" class=\"data row7 col2\" >0.160000</td>\n",
              "      <td id=\"T_3d31c_row7_col3\" class=\"data row7 col3\" >1.000000</td>\n",
              "      <td id=\"T_3d31c_row7_col4\" class=\"data row7 col4\" >1.000000</td>\n",
              "      <td id=\"T_3d31c_row7_col5\" class=\"data row7 col5\" >1.000000</td>\n",
              "      <td id=\"T_3d31c_row7_col6\" class=\"data row7 col6\" >1.000000</td>\n",
              "      <td id=\"T_3d31c_row7_col7\" class=\"data row7 col7\" >2.000000</td>\n",
              "    </tr>\n",
              "    <tr>\n",
              "      <th id=\"T_3d31c_level0_row8\" class=\"row_heading level0 row8\" >systolic</th>\n",
              "      <td id=\"T_3d31c_row8_col0\" class=\"data row8 col0\" >55692.000000</td>\n",
              "      <td id=\"T_3d31c_row8_col1\" class=\"data row8 col1\" >121.490000</td>\n",
              "      <td id=\"T_3d31c_row8_col2\" class=\"data row8 col2\" >13.680000</td>\n",
              "      <td id=\"T_3d31c_row8_col3\" class=\"data row8 col3\" >71.000000</td>\n",
              "      <td id=\"T_3d31c_row8_col4\" class=\"data row8 col4\" >112.000000</td>\n",
              "      <td id=\"T_3d31c_row8_col5\" class=\"data row8 col5\" >120.000000</td>\n",
              "      <td id=\"T_3d31c_row8_col6\" class=\"data row8 col6\" >130.000000</td>\n",
              "      <td id=\"T_3d31c_row8_col7\" class=\"data row8 col7\" >240.000000</td>\n",
              "    </tr>\n",
              "    <tr>\n",
              "      <th id=\"T_3d31c_level0_row9\" class=\"row_heading level0 row9\" >relaxation</th>\n",
              "      <td id=\"T_3d31c_row9_col0\" class=\"data row9 col0\" >55692.000000</td>\n",
              "      <td id=\"T_3d31c_row9_col1\" class=\"data row9 col1\" >76.000000</td>\n",
              "      <td id=\"T_3d31c_row9_col2\" class=\"data row9 col2\" >9.680000</td>\n",
              "      <td id=\"T_3d31c_row9_col3\" class=\"data row9 col3\" >40.000000</td>\n",
              "      <td id=\"T_3d31c_row9_col4\" class=\"data row9 col4\" >70.000000</td>\n",
              "      <td id=\"T_3d31c_row9_col5\" class=\"data row9 col5\" >76.000000</td>\n",
              "      <td id=\"T_3d31c_row9_col6\" class=\"data row9 col6\" >82.000000</td>\n",
              "      <td id=\"T_3d31c_row9_col7\" class=\"data row9 col7\" >146.000000</td>\n",
              "    </tr>\n",
              "    <tr>\n",
              "      <th id=\"T_3d31c_level0_row10\" class=\"row_heading level0 row10\" >fasting blood sugar</th>\n",
              "      <td id=\"T_3d31c_row10_col0\" class=\"data row10 col0\" >55692.000000</td>\n",
              "      <td id=\"T_3d31c_row10_col1\" class=\"data row10 col1\" >99.310000</td>\n",
              "      <td id=\"T_3d31c_row10_col2\" class=\"data row10 col2\" >20.800000</td>\n",
              "      <td id=\"T_3d31c_row10_col3\" class=\"data row10 col3\" >46.000000</td>\n",
              "      <td id=\"T_3d31c_row10_col4\" class=\"data row10 col4\" >89.000000</td>\n",
              "      <td id=\"T_3d31c_row10_col5\" class=\"data row10 col5\" >96.000000</td>\n",
              "      <td id=\"T_3d31c_row10_col6\" class=\"data row10 col6\" >104.000000</td>\n",
              "      <td id=\"T_3d31c_row10_col7\" class=\"data row10 col7\" >505.000000</td>\n",
              "    </tr>\n",
              "    <tr>\n",
              "      <th id=\"T_3d31c_level0_row11\" class=\"row_heading level0 row11\" >Cholesterol</th>\n",
              "      <td id=\"T_3d31c_row11_col0\" class=\"data row11 col0\" >55692.000000</td>\n",
              "      <td id=\"T_3d31c_row11_col1\" class=\"data row11 col1\" >196.900000</td>\n",
              "      <td id=\"T_3d31c_row11_col2\" class=\"data row11 col2\" >36.300000</td>\n",
              "      <td id=\"T_3d31c_row11_col3\" class=\"data row11 col3\" >55.000000</td>\n",
              "      <td id=\"T_3d31c_row11_col4\" class=\"data row11 col4\" >172.000000</td>\n",
              "      <td id=\"T_3d31c_row11_col5\" class=\"data row11 col5\" >195.000000</td>\n",
              "      <td id=\"T_3d31c_row11_col6\" class=\"data row11 col6\" >220.000000</td>\n",
              "      <td id=\"T_3d31c_row11_col7\" class=\"data row11 col7\" >445.000000</td>\n",
              "    </tr>\n",
              "    <tr>\n",
              "      <th id=\"T_3d31c_level0_row12\" class=\"row_heading level0 row12\" >triglyceride</th>\n",
              "      <td id=\"T_3d31c_row12_col0\" class=\"data row12 col0\" >55692.000000</td>\n",
              "      <td id=\"T_3d31c_row12_col1\" class=\"data row12 col1\" >126.670000</td>\n",
              "      <td id=\"T_3d31c_row12_col2\" class=\"data row12 col2\" >71.640000</td>\n",
              "      <td id=\"T_3d31c_row12_col3\" class=\"data row12 col3\" >8.000000</td>\n",
              "      <td id=\"T_3d31c_row12_col4\" class=\"data row12 col4\" >74.000000</td>\n",
              "      <td id=\"T_3d31c_row12_col5\" class=\"data row12 col5\" >108.000000</td>\n",
              "      <td id=\"T_3d31c_row12_col6\" class=\"data row12 col6\" >160.000000</td>\n",
              "      <td id=\"T_3d31c_row12_col7\" class=\"data row12 col7\" >999.000000</td>\n",
              "    </tr>\n",
              "    <tr>\n",
              "      <th id=\"T_3d31c_level0_row13\" class=\"row_heading level0 row13\" >HDL</th>\n",
              "      <td id=\"T_3d31c_row13_col0\" class=\"data row13 col0\" >55692.000000</td>\n",
              "      <td id=\"T_3d31c_row13_col1\" class=\"data row13 col1\" >57.290000</td>\n",
              "      <td id=\"T_3d31c_row13_col2\" class=\"data row13 col2\" >14.740000</td>\n",
              "      <td id=\"T_3d31c_row13_col3\" class=\"data row13 col3\" >4.000000</td>\n",
              "      <td id=\"T_3d31c_row13_col4\" class=\"data row13 col4\" >47.000000</td>\n",
              "      <td id=\"T_3d31c_row13_col5\" class=\"data row13 col5\" >55.000000</td>\n",
              "      <td id=\"T_3d31c_row13_col6\" class=\"data row13 col6\" >66.000000</td>\n",
              "      <td id=\"T_3d31c_row13_col7\" class=\"data row13 col7\" >618.000000</td>\n",
              "    </tr>\n",
              "    <tr>\n",
              "      <th id=\"T_3d31c_level0_row14\" class=\"row_heading level0 row14\" >LDL</th>\n",
              "      <td id=\"T_3d31c_row14_col0\" class=\"data row14 col0\" >55692.000000</td>\n",
              "      <td id=\"T_3d31c_row14_col1\" class=\"data row14 col1\" >114.960000</td>\n",
              "      <td id=\"T_3d31c_row14_col2\" class=\"data row14 col2\" >40.930000</td>\n",
              "      <td id=\"T_3d31c_row14_col3\" class=\"data row14 col3\" >1.000000</td>\n",
              "      <td id=\"T_3d31c_row14_col4\" class=\"data row14 col4\" >92.000000</td>\n",
              "      <td id=\"T_3d31c_row14_col5\" class=\"data row14 col5\" >113.000000</td>\n",
              "      <td id=\"T_3d31c_row14_col6\" class=\"data row14 col6\" >136.000000</td>\n",
              "      <td id=\"T_3d31c_row14_col7\" class=\"data row14 col7\" >1860.000000</td>\n",
              "    </tr>\n",
              "    <tr>\n",
              "      <th id=\"T_3d31c_level0_row15\" class=\"row_heading level0 row15\" >hemoglobin</th>\n",
              "      <td id=\"T_3d31c_row15_col0\" class=\"data row15 col0\" >55692.000000</td>\n",
              "      <td id=\"T_3d31c_row15_col1\" class=\"data row15 col1\" >14.620000</td>\n",
              "      <td id=\"T_3d31c_row15_col2\" class=\"data row15 col2\" >1.560000</td>\n",
              "      <td id=\"T_3d31c_row15_col3\" class=\"data row15 col3\" >4.900000</td>\n",
              "      <td id=\"T_3d31c_row15_col4\" class=\"data row15 col4\" >13.600000</td>\n",
              "      <td id=\"T_3d31c_row15_col5\" class=\"data row15 col5\" >14.800000</td>\n",
              "      <td id=\"T_3d31c_row15_col6\" class=\"data row15 col6\" >15.800000</td>\n",
              "      <td id=\"T_3d31c_row15_col7\" class=\"data row15 col7\" >21.100000</td>\n",
              "    </tr>\n",
              "    <tr>\n",
              "      <th id=\"T_3d31c_level0_row16\" class=\"row_heading level0 row16\" >Urine protein</th>\n",
              "      <td id=\"T_3d31c_row16_col0\" class=\"data row16 col0\" >55692.000000</td>\n",
              "      <td id=\"T_3d31c_row16_col1\" class=\"data row16 col1\" >1.090000</td>\n",
              "      <td id=\"T_3d31c_row16_col2\" class=\"data row16 col2\" >0.400000</td>\n",
              "      <td id=\"T_3d31c_row16_col3\" class=\"data row16 col3\" >1.000000</td>\n",
              "      <td id=\"T_3d31c_row16_col4\" class=\"data row16 col4\" >1.000000</td>\n",
              "      <td id=\"T_3d31c_row16_col5\" class=\"data row16 col5\" >1.000000</td>\n",
              "      <td id=\"T_3d31c_row16_col6\" class=\"data row16 col6\" >1.000000</td>\n",
              "      <td id=\"T_3d31c_row16_col7\" class=\"data row16 col7\" >6.000000</td>\n",
              "    </tr>\n",
              "    <tr>\n",
              "      <th id=\"T_3d31c_level0_row17\" class=\"row_heading level0 row17\" >serum creatinine</th>\n",
              "      <td id=\"T_3d31c_row17_col0\" class=\"data row17 col0\" >55692.000000</td>\n",
              "      <td id=\"T_3d31c_row17_col1\" class=\"data row17 col1\" >0.890000</td>\n",
              "      <td id=\"T_3d31c_row17_col2\" class=\"data row17 col2\" >0.220000</td>\n",
              "      <td id=\"T_3d31c_row17_col3\" class=\"data row17 col3\" >0.100000</td>\n",
              "      <td id=\"T_3d31c_row17_col4\" class=\"data row17 col4\" >0.800000</td>\n",
              "      <td id=\"T_3d31c_row17_col5\" class=\"data row17 col5\" >0.900000</td>\n",
              "      <td id=\"T_3d31c_row17_col6\" class=\"data row17 col6\" >1.000000</td>\n",
              "      <td id=\"T_3d31c_row17_col7\" class=\"data row17 col7\" >11.600000</td>\n",
              "    </tr>\n",
              "    <tr>\n",
              "      <th id=\"T_3d31c_level0_row18\" class=\"row_heading level0 row18\" >AST</th>\n",
              "      <td id=\"T_3d31c_row18_col0\" class=\"data row18 col0\" >55692.000000</td>\n",
              "      <td id=\"T_3d31c_row18_col1\" class=\"data row18 col1\" >26.180000</td>\n",
              "      <td id=\"T_3d31c_row18_col2\" class=\"data row18 col2\" >19.360000</td>\n",
              "      <td id=\"T_3d31c_row18_col3\" class=\"data row18 col3\" >6.000000</td>\n",
              "      <td id=\"T_3d31c_row18_col4\" class=\"data row18 col4\" >19.000000</td>\n",
              "      <td id=\"T_3d31c_row18_col5\" class=\"data row18 col5\" >23.000000</td>\n",
              "      <td id=\"T_3d31c_row18_col6\" class=\"data row18 col6\" >28.000000</td>\n",
              "      <td id=\"T_3d31c_row18_col7\" class=\"data row18 col7\" >1311.000000</td>\n",
              "    </tr>\n",
              "    <tr>\n",
              "      <th id=\"T_3d31c_level0_row19\" class=\"row_heading level0 row19\" >ALT</th>\n",
              "      <td id=\"T_3d31c_row19_col0\" class=\"data row19 col0\" >55692.000000</td>\n",
              "      <td id=\"T_3d31c_row19_col1\" class=\"data row19 col1\" >27.040000</td>\n",
              "      <td id=\"T_3d31c_row19_col2\" class=\"data row19 col2\" >30.950000</td>\n",
              "      <td id=\"T_3d31c_row19_col3\" class=\"data row19 col3\" >1.000000</td>\n",
              "      <td id=\"T_3d31c_row19_col4\" class=\"data row19 col4\" >15.000000</td>\n",
              "      <td id=\"T_3d31c_row19_col5\" class=\"data row19 col5\" >21.000000</td>\n",
              "      <td id=\"T_3d31c_row19_col6\" class=\"data row19 col6\" >31.000000</td>\n",
              "      <td id=\"T_3d31c_row19_col7\" class=\"data row19 col7\" >2914.000000</td>\n",
              "    </tr>\n",
              "    <tr>\n",
              "      <th id=\"T_3d31c_level0_row20\" class=\"row_heading level0 row20\" >Gtp</th>\n",
              "      <td id=\"T_3d31c_row20_col0\" class=\"data row20 col0\" >55692.000000</td>\n",
              "      <td id=\"T_3d31c_row20_col1\" class=\"data row20 col1\" >39.950000</td>\n",
              "      <td id=\"T_3d31c_row20_col2\" class=\"data row20 col2\" >50.290000</td>\n",
              "      <td id=\"T_3d31c_row20_col3\" class=\"data row20 col3\" >1.000000</td>\n",
              "      <td id=\"T_3d31c_row20_col4\" class=\"data row20 col4\" >17.000000</td>\n",
              "      <td id=\"T_3d31c_row20_col5\" class=\"data row20 col5\" >25.000000</td>\n",
              "      <td id=\"T_3d31c_row20_col6\" class=\"data row20 col6\" >43.000000</td>\n",
              "      <td id=\"T_3d31c_row20_col7\" class=\"data row20 col7\" >999.000000</td>\n",
              "    </tr>\n",
              "    <tr>\n",
              "      <th id=\"T_3d31c_level0_row21\" class=\"row_heading level0 row21\" >dental caries</th>\n",
              "      <td id=\"T_3d31c_row21_col0\" class=\"data row21 col0\" >55692.000000</td>\n",
              "      <td id=\"T_3d31c_row21_col1\" class=\"data row21 col1\" >0.210000</td>\n",
              "      <td id=\"T_3d31c_row21_col2\" class=\"data row21 col2\" >0.410000</td>\n",
              "      <td id=\"T_3d31c_row21_col3\" class=\"data row21 col3\" >0.000000</td>\n",
              "      <td id=\"T_3d31c_row21_col4\" class=\"data row21 col4\" >0.000000</td>\n",
              "      <td id=\"T_3d31c_row21_col5\" class=\"data row21 col5\" >0.000000</td>\n",
              "      <td id=\"T_3d31c_row21_col6\" class=\"data row21 col6\" >0.000000</td>\n",
              "      <td id=\"T_3d31c_row21_col7\" class=\"data row21 col7\" >1.000000</td>\n",
              "    </tr>\n",
              "    <tr>\n",
              "      <th id=\"T_3d31c_level0_row22\" class=\"row_heading level0 row22\" >smoking</th>\n",
              "      <td id=\"T_3d31c_row22_col0\" class=\"data row22 col0\" >55692.000000</td>\n",
              "      <td id=\"T_3d31c_row22_col1\" class=\"data row22 col1\" >0.370000</td>\n",
              "      <td id=\"T_3d31c_row22_col2\" class=\"data row22 col2\" >0.480000</td>\n",
              "      <td id=\"T_3d31c_row22_col3\" class=\"data row22 col3\" >0.000000</td>\n",
              "      <td id=\"T_3d31c_row22_col4\" class=\"data row22 col4\" >0.000000</td>\n",
              "      <td id=\"T_3d31c_row22_col5\" class=\"data row22 col5\" >0.000000</td>\n",
              "      <td id=\"T_3d31c_row22_col6\" class=\"data row22 col6\" >1.000000</td>\n",
              "      <td id=\"T_3d31c_row22_col7\" class=\"data row22 col7\" >1.000000</td>\n",
              "    </tr>\n",
              "    <tr>\n",
              "      <th id=\"T_3d31c_level0_row23\" class=\"row_heading level0 row23\" >bmi</th>\n",
              "      <td id=\"T_3d31c_row23_col0\" class=\"data row23 col0\" >52620.000000</td>\n",
              "      <td id=\"T_3d31c_row23_col1\" class=\"data row23 col1\" >31.050000</td>\n",
              "      <td id=\"T_3d31c_row23_col2\" class=\"data row23 col2\" >0.650000</td>\n",
              "      <td id=\"T_3d31c_row23_col3\" class=\"data row23 col3\" >28.510000</td>\n",
              "      <td id=\"T_3d31c_row23_col4\" class=\"data row23 col4\" >30.650000</td>\n",
              "      <td id=\"T_3d31c_row23_col5\" class=\"data row23 col5\" >30.820000</td>\n",
              "      <td id=\"T_3d31c_row23_col6\" class=\"data row23 col6\" >31.440000</td>\n",
              "      <td id=\"T_3d31c_row23_col7\" class=\"data row23 col7\" >32.730000</td>\n",
              "    </tr>\n",
              "    <tr>\n",
              "      <th id=\"T_3d31c_level0_row24\" class=\"row_heading level0 row24\" >calc_bmi</th>\n",
              "      <td id=\"T_3d31c_row24_col0\" class=\"data row24 col0\" >55692.000000</td>\n",
              "      <td id=\"T_3d31c_row24_col1\" class=\"data row24 col1\" >24.170000</td>\n",
              "      <td id=\"T_3d31c_row24_col2\" class=\"data row24 col2\" >3.480000</td>\n",
              "      <td id=\"T_3d31c_row24_col3\" class=\"data row24 col3\" >14.270000</td>\n",
              "      <td id=\"T_3d31c_row24_col4\" class=\"data row24 col4\" >21.600000</td>\n",
              "      <td id=\"T_3d31c_row24_col5\" class=\"data row24 col5\" >23.880000</td>\n",
              "      <td id=\"T_3d31c_row24_col6\" class=\"data row24 col6\" >26.120000</td>\n",
              "      <td id=\"T_3d31c_row24_col7\" class=\"data row24 col7\" >42.450000</td>\n",
              "    </tr>\n",
              "  </tbody>\n",
              "</table>\n"
            ]
          },
          "metadata": {},
          "execution_count": 17
        }
      ],
      "source": [
        "df_eda.describe().round(2).T.style.background_gradient(cmap = \"coolwarm_r\")"
      ]
    },
    {
      "cell_type": "markdown",
      "metadata": {
        "id": "Ujj_Ad5dK17x"
      },
      "source": [
        "Veamos todas las variables:"
      ]
    },
    {
      "cell_type": "code",
      "execution_count": null,
      "metadata": {
        "id": "at8G9aMeK3wO",
        "colab": {
          "base_uri": "https://localhost:8080/"
        },
        "outputId": "49d4affb-581e-48da-9abe-9229e0011ce9"
      },
      "outputs": [
        {
          "output_type": "stream",
          "name": "stdout",
          "text": [
            "Index(['gender', 'age', 'height(cm)', 'weight(kg)', 'waist(cm)',\n",
            "       'eyesight(left)', 'eyesight(right)', 'hearing(left)', 'hearing(right)',\n",
            "       'systolic', 'relaxation', 'fasting blood sugar', 'Cholesterol',\n",
            "       'triglyceride', 'HDL', 'LDL', 'hemoglobin', 'Urine protein',\n",
            "       'serum creatinine', 'AST', 'ALT', 'Gtp', 'oral', 'dental caries',\n",
            "       'tartar', 'smoking', 'bmi', 'calc_bmi', 'bmi_comp'],\n",
            "      dtype='object')\n"
          ]
        }
      ],
      "source": [
        "print(df_eda.columns)"
      ]
    },
    {
      "cell_type": "markdown",
      "metadata": {
        "id": "xbW_umOSK8ya"
      },
      "source": [
        "**Variables:**\n",
        "\n",
        "\n",
        "*   ID : índice \n",
        "*   género\n",
        "*   edad : Brecha de 5 años\n",
        "*   altura (cm)\n",
        "*   peso (kg) \n",
        "*   cintura (cm) : Longitud de la circunferencia de la cintura\n",
        "*   vista (izquierda)\n",
        "*   vista (derecha)\n",
        "*   audición (izquierda)\n",
        "*   audición(derecha)\n",
        "*   sistólica : Presión arterial\n",
        "*   relajación : Presión arterial\n",
        "*   azúcar en la sangre en ayunas\n",
        "*   Colesterol : total\n",
        "*   triglicérido\n",
        "*   HDL : tipo de colesterol\n",
        "*   LDL : tipo de colesterol\n",
        "*   hemoglobina\n",
        "*   Proteína en orina\n",
        "*   creatinina sérica\n",
        "*   AST : tipo de transaminasa oxaloacética glutámica\n",
        "*   ALT : tipo glutámico oxaloacético transaminasa\n",
        "*   Gtp : γ-GTP\n",
        "*   oral : Estado del examen oral\n",
        "*   caries\n",
        "*   sarro : estado del sarro\n",
        "*   tabaquismo\n",
        "*   bmi: índice de masa corporal promedio para su grupo etario y sexo dentro cálculado a partir de los usuarios de un seguro de salud.\n",
        "*   calc_bmi: Índice de masa corporal\n",
        "*   bmi_comp: Comparación entre bmi y calc_bmi. Si calc_bmi es mayor a bmi, el campo es True, de lo contrario es False\n",
        "\n"
      ]
    },
    {
      "cell_type": "markdown",
      "metadata": {
        "id": "BVoA2fMYLDuc"
      },
      "source": [
        "**En este caso creemos que muchas de las variables son potencialmente importantes, ya que se podrá estudiar la correlación de cada una de ellas con el tabaquismo.**\n",
        "\n",
        "A continuación describiremos algunas de estas:\n",
        "*   género: indica el sexo de la persona (\"F\"y \"M\").\n",
        "*   edad: indica la edad de la persona en un rango de 5 años.\n",
        "*   altura (cm): indica la altura de la persona en centímetros.\n",
        "*   peso (kg): indica el peso de la persona en kilogramos.\n",
        "*   sistólica y relajación: corresponden a la presión arterial del individuo.\n",
        "*   HDL y LDL: son indicadores de colesterol.\n",
        "*   caries: indica si la persona tiene caries  o no (1 o 0).\n",
        "*   tabaquismo: es la variable de estudio, indica si la persona es fumadora o no."
      ]
    },
    {
      "cell_type": "markdown",
      "metadata": {
        "id": "bnZpcx7yXBbL"
      },
      "source": [
        "Chequeamos valores unicos, tipo de datos de las columnas y si hay valores faltantes:"
      ]
    },
    {
      "cell_type": "code",
      "execution_count": null,
      "metadata": {
        "id": "BvN4wAeYYEzN",
        "colab": {
          "base_uri": "https://localhost:8080/"
        },
        "outputId": "fa68980b-6c3e-46ec-c43e-3cb51a959609"
      },
      "outputs": [
        {
          "output_type": "stream",
          "name": "stdout",
          "text": [
            "Shape:  (55692, 29)\n",
            "+---------------------+---------+----------+-------+--------+-------------------+\n",
            "|        Column       |   Type  | Non-Null | Nulls | Unique |      Example      |\n",
            "+---------------------+---------+----------+-------+--------+-------------------+\n",
            "|        gender       |  object |  55692   |   0   |   2    |         F         |\n",
            "|         age         |  int64  |  55692   |   0   |   14   |         40        |\n",
            "|      height(cm)     |  int64  |  55692   |   0   |   13   |        155        |\n",
            "|      weight(kg)     |  int64  |  55692   |   0   |   22   |         60        |\n",
            "|      waist(cm)      | float64 |  55692   |   0   |  566   |        81.3       |\n",
            "|    eyesight(left)   | float64 |  55692   |   0   |   19   |        1.2        |\n",
            "|   eyesight(right)   | float64 |  55692   |   0   |   17   |        1.0        |\n",
            "|    hearing(left)    | float64 |  55692   |   0   |   2    |        1.0        |\n",
            "|    hearing(right)   | float64 |  55692   |   0   |   2    |        1.0        |\n",
            "|       systolic      | float64 |  55692   |   0   |  130   |       114.0       |\n",
            "|      relaxation     | float64 |  55692   |   0   |   95   |        73.0       |\n",
            "| fasting blood sugar | float64 |  55692   |   0   |  276   |        94.0       |\n",
            "|     Cholesterol     | float64 |  55692   |   0   |  286   |       215.0       |\n",
            "|     triglyceride    | float64 |  55692   |   0   |  390   |        82.0       |\n",
            "|         HDL         | float64 |  55692   |   0   |  126   |        73.0       |\n",
            "|         LDL         | float64 |  55692   |   0   |  289   |       126.0       |\n",
            "|      hemoglobin     | float64 |  55692   |   0   |  145   |        12.9       |\n",
            "|    Urine protein    | float64 |  55692   |   0   |   6    |        1.0        |\n",
            "|   serum creatinine  | float64 |  55692   |   0   |   38   |        0.7        |\n",
            "|         AST         | float64 |  55692   |   0   |  219   |        18.0       |\n",
            "|         ALT         | float64 |  55692   |   0   |  245   |        19.0       |\n",
            "|         Gtp         | float64 |  55692   |   0   |  488   |        27.0       |\n",
            "|         oral        |  object |  55692   |   0   |   1    |         Y         |\n",
            "|    dental caries    |  int64  |  55692   |   0   |   1    |         0         |\n",
            "|        tartar       |  object |  55692   |   0   |   2    |         Y         |\n",
            "|       smoking       |  int64  |  55692   |   0   |   1    |         0         |\n",
            "|         bmi         | float64 |  52620   |  3072 |   18   | 30.82141791044776 |\n",
            "|       calc_bmi      | float64 |  55692   |   0   |  148   | 24.97398543184183 |\n",
            "|       bmi_comp      |   bool  |  55692   |   0   |   1    |       False       |\n",
            "+---------------------+---------+----------+-------+--------+-------------------+\n",
            "\n"
          ]
        }
      ],
      "source": [
        "def df_explore(df):\n",
        "    print( 'Shape: ', df.shape)\n",
        "    \n",
        "    t = PrettyTable(['Column', \n",
        "                     'Type',\n",
        "                     'Non-Null',\n",
        "                     'Nulls',\n",
        "                     'Unique',\n",
        "                     'Example',\n",
        "                    ])\n",
        "    \n",
        "    for c in df.columns:\n",
        "        t.add_row([c,\n",
        "                   df[c].dtype,\n",
        "                   len(df[c])-np.sum(df[c].isna()),\n",
        "                   np.sum(df[c].isna()),\n",
        "                   np.count_nonzero(df[c].unique()),\n",
        "                   df[~df[c].isnull()][c].iloc[0],\n",
        "                  ]) \n",
        "    print(t)\n",
        "    print()\n",
        "    return\n",
        "\n",
        "df_explore(df_eda)"
      ]
    },
    {
      "cell_type": "markdown",
      "metadata": {
        "id": "bfaT_SmcXYPe"
      },
      "source": [
        "*Hay 29 columnas y 55692 filas en el dataset. De las variables, 20 son flotantes, 5 son enteros, 1 es booleana y 3 son object.  \n",
        "*La variable bmi cuenta con 3072 valores faltantes por lo que a estos valores les reasignamos el promedio de esta columna.\n",
        "\n",
        "**La variable oral que indica el estado del examen oral, cuenta con un único valor, por lo que no va a ser una variable de utilidad a la hora de analizar cuales son las bioseñales que diferencian a un fumador de un no fumador."
      ]
    },
    {
      "cell_type": "code",
      "execution_count": null,
      "metadata": {
        "id": "HdrSoN2IVz3N"
      },
      "outputs": [],
      "source": [
        "df_eda.bmi.fillna(value=df_eda.bmi.mean(),inplace=True)\n",
        "df_final.bmi.fillna(value=df_final.bmi.mean(),inplace=True)"
      ]
    },
    {
      "cell_type": "markdown",
      "metadata": {
        "id": "42debpEoWGI7"
      },
      "source": [
        "Volvemos a aplicar la función df_explore sobre el data frame y vemos que ya no existen valores faltantes para ninguna columna."
      ]
    },
    {
      "cell_type": "code",
      "execution_count": null,
      "metadata": {
        "id": "A9Bhg--WWCWQ",
        "colab": {
          "base_uri": "https://localhost:8080/"
        },
        "outputId": "c44303e4-4847-4791-c30a-3950488414d7"
      },
      "outputs": [
        {
          "output_type": "stream",
          "name": "stdout",
          "text": [
            "Shape:  (55692, 29)\n",
            "+---------------------+---------+----------+-------+--------+-------------------+\n",
            "|        Column       |   Type  | Non-Null | Nulls | Unique |      Example      |\n",
            "+---------------------+---------+----------+-------+--------+-------------------+\n",
            "|        gender       |  object |  55692   |   0   |   2    |         F         |\n",
            "|         age         |  int64  |  55692   |   0   |   14   |         40        |\n",
            "|      height(cm)     |  int64  |  55692   |   0   |   13   |        155        |\n",
            "|      weight(kg)     |  int64  |  55692   |   0   |   22   |         60        |\n",
            "|      waist(cm)      | float64 |  55692   |   0   |  566   |        81.3       |\n",
            "|    eyesight(left)   | float64 |  55692   |   0   |   19   |        1.2        |\n",
            "|   eyesight(right)   | float64 |  55692   |   0   |   17   |        1.0        |\n",
            "|    hearing(left)    | float64 |  55692   |   0   |   2    |        1.0        |\n",
            "|    hearing(right)   | float64 |  55692   |   0   |   2    |        1.0        |\n",
            "|       systolic      | float64 |  55692   |   0   |  130   |       114.0       |\n",
            "|      relaxation     | float64 |  55692   |   0   |   95   |        73.0       |\n",
            "| fasting blood sugar | float64 |  55692   |   0   |  276   |        94.0       |\n",
            "|     Cholesterol     | float64 |  55692   |   0   |  286   |       215.0       |\n",
            "|     triglyceride    | float64 |  55692   |   0   |  390   |        82.0       |\n",
            "|         HDL         | float64 |  55692   |   0   |  126   |        73.0       |\n",
            "|         LDL         | float64 |  55692   |   0   |  289   |       126.0       |\n",
            "|      hemoglobin     | float64 |  55692   |   0   |  145   |        12.9       |\n",
            "|    Urine protein    | float64 |  55692   |   0   |   6    |        1.0        |\n",
            "|   serum creatinine  | float64 |  55692   |   0   |   38   |        0.7        |\n",
            "|         AST         | float64 |  55692   |   0   |  219   |        18.0       |\n",
            "|         ALT         | float64 |  55692   |   0   |  245   |        19.0       |\n",
            "|         Gtp         | float64 |  55692   |   0   |  488   |        27.0       |\n",
            "|         oral        |  object |  55692   |   0   |   1    |         Y         |\n",
            "|    dental caries    |  int64  |  55692   |   0   |   1    |         0         |\n",
            "|        tartar       |  object |  55692   |   0   |   2    |         Y         |\n",
            "|       smoking       |  int64  |  55692   |   0   |   1    |         0         |\n",
            "|         bmi         | float64 |  55692   |   0   |   18   | 30.82141791044776 |\n",
            "|       calc_bmi      | float64 |  55692   |   0   |  148   | 24.97398543184183 |\n",
            "|       bmi_comp      |   bool  |  55692   |   0   |   1    |       False       |\n",
            "+---------------------+---------+----------+-------+--------+-------------------+\n",
            "\n"
          ]
        }
      ],
      "source": [
        "df_explore(df_eda)"
      ]
    },
    {
      "cell_type": "markdown",
      "metadata": {
        "id": "BdQFf2IXh2sb"
      },
      "source": [
        "Verificamos valores unicos de las variables object:"
      ]
    },
    {
      "cell_type": "code",
      "execution_count": null,
      "metadata": {
        "id": "8jJ3rHzhhcCt"
      },
      "outputs": [],
      "source": [
        "def df_unique_val_col(df, col_list = [] ):\n",
        "    \n",
        "    #Contamos la máxima cantidad de valores unicos que tienen los campos\n",
        "    cant_table_col = 0\n",
        "    for i in col_list:\n",
        "        l = len(df[i].unique())\n",
        "        if cant_table_col < l:\n",
        "            cant_table_col = l\n",
        "    \n",
        "    # Creamos la lista de campos \"value_x\" para armar el indice y definir el tamaño de la tabla (altura)\n",
        "    A = []\n",
        "    for i in range(cant_table_col):\n",
        "        A.append('Value : '+str(i))\n",
        "    \n",
        "    #creamos un dataframe vacio\n",
        "    dg = pd.DataFrame(index = A,\n",
        "                          columns = df[col_list].columns)    \n",
        "\n",
        "    #Completamos el dataframe con los valores unicos sino lo rellenamos con '-'\n",
        "    for m in df[col_list]:\n",
        "        uni = df[m].unique()\n",
        "        le = len(uni)\n",
        "        \n",
        "        for j in range(cant_table_col):\n",
        "            if j < le:\n",
        "                dg[m][j] = uni[j]\n",
        "            else:\n",
        "                dg[m][j] = '-'\n",
        "\n",
        "    print('Valores únicos de las variables object')\n",
        "    return dg"
      ]
    },
    {
      "cell_type": "code",
      "execution_count": null,
      "metadata": {
        "id": "5xn2UR-khlXk",
        "colab": {
          "base_uri": "https://localhost:8080/",
          "height": 130
        },
        "outputId": "bf8e1be5-10d0-49d4-dd13-07babace1538"
      },
      "outputs": [
        {
          "output_type": "stream",
          "name": "stdout",
          "text": [
            "Valores únicos de las variables object\n"
          ]
        },
        {
          "output_type": "execute_result",
          "data": {
            "text/plain": [
              "          tartar oral gender\n",
              "Value : 0      Y    Y      F\n",
              "Value : 1      N    -      M"
            ],
            "text/html": [
              "\n",
              "  <div id=\"df-f3c3e189-714d-47f9-b0ad-838f54bf29ba\">\n",
              "    <div class=\"colab-df-container\">\n",
              "      <div>\n",
              "<style scoped>\n",
              "    .dataframe tbody tr th:only-of-type {\n",
              "        vertical-align: middle;\n",
              "    }\n",
              "\n",
              "    .dataframe tbody tr th {\n",
              "        vertical-align: top;\n",
              "    }\n",
              "\n",
              "    .dataframe thead th {\n",
              "        text-align: right;\n",
              "    }\n",
              "</style>\n",
              "<table border=\"1\" class=\"dataframe\">\n",
              "  <thead>\n",
              "    <tr style=\"text-align: right;\">\n",
              "      <th></th>\n",
              "      <th>tartar</th>\n",
              "      <th>oral</th>\n",
              "      <th>gender</th>\n",
              "    </tr>\n",
              "  </thead>\n",
              "  <tbody>\n",
              "    <tr>\n",
              "      <th>Value : 0</th>\n",
              "      <td>Y</td>\n",
              "      <td>Y</td>\n",
              "      <td>F</td>\n",
              "    </tr>\n",
              "    <tr>\n",
              "      <th>Value : 1</th>\n",
              "      <td>N</td>\n",
              "      <td>-</td>\n",
              "      <td>M</td>\n",
              "    </tr>\n",
              "  </tbody>\n",
              "</table>\n",
              "</div>\n",
              "      <button class=\"colab-df-convert\" onclick=\"convertToInteractive('df-f3c3e189-714d-47f9-b0ad-838f54bf29ba')\"\n",
              "              title=\"Convert this dataframe to an interactive table.\"\n",
              "              style=\"display:none;\">\n",
              "        \n",
              "  <svg xmlns=\"http://www.w3.org/2000/svg\" height=\"24px\"viewBox=\"0 0 24 24\"\n",
              "       width=\"24px\">\n",
              "    <path d=\"M0 0h24v24H0V0z\" fill=\"none\"/>\n",
              "    <path d=\"M18.56 5.44l.94 2.06.94-2.06 2.06-.94-2.06-.94-.94-2.06-.94 2.06-2.06.94zm-11 1L8.5 8.5l.94-2.06 2.06-.94-2.06-.94L8.5 2.5l-.94 2.06-2.06.94zm10 10l.94 2.06.94-2.06 2.06-.94-2.06-.94-.94-2.06-.94 2.06-2.06.94z\"/><path d=\"M17.41 7.96l-1.37-1.37c-.4-.4-.92-.59-1.43-.59-.52 0-1.04.2-1.43.59L10.3 9.45l-7.72 7.72c-.78.78-.78 2.05 0 2.83L4 21.41c.39.39.9.59 1.41.59.51 0 1.02-.2 1.41-.59l7.78-7.78 2.81-2.81c.8-.78.8-2.07 0-2.86zM5.41 20L4 18.59l7.72-7.72 1.47 1.35L5.41 20z\"/>\n",
              "  </svg>\n",
              "      </button>\n",
              "      \n",
              "  <style>\n",
              "    .colab-df-container {\n",
              "      display:flex;\n",
              "      flex-wrap:wrap;\n",
              "      gap: 12px;\n",
              "    }\n",
              "\n",
              "    .colab-df-convert {\n",
              "      background-color: #E8F0FE;\n",
              "      border: none;\n",
              "      border-radius: 50%;\n",
              "      cursor: pointer;\n",
              "      display: none;\n",
              "      fill: #1967D2;\n",
              "      height: 32px;\n",
              "      padding: 0 0 0 0;\n",
              "      width: 32px;\n",
              "    }\n",
              "\n",
              "    .colab-df-convert:hover {\n",
              "      background-color: #E2EBFA;\n",
              "      box-shadow: 0px 1px 2px rgba(60, 64, 67, 0.3), 0px 1px 3px 1px rgba(60, 64, 67, 0.15);\n",
              "      fill: #174EA6;\n",
              "    }\n",
              "\n",
              "    [theme=dark] .colab-df-convert {\n",
              "      background-color: #3B4455;\n",
              "      fill: #D2E3FC;\n",
              "    }\n",
              "\n",
              "    [theme=dark] .colab-df-convert:hover {\n",
              "      background-color: #434B5C;\n",
              "      box-shadow: 0px 1px 3px 1px rgba(0, 0, 0, 0.15);\n",
              "      filter: drop-shadow(0px 1px 2px rgba(0, 0, 0, 0.3));\n",
              "      fill: #FFFFFF;\n",
              "    }\n",
              "  </style>\n",
              "\n",
              "      <script>\n",
              "        const buttonEl =\n",
              "          document.querySelector('#df-f3c3e189-714d-47f9-b0ad-838f54bf29ba button.colab-df-convert');\n",
              "        buttonEl.style.display =\n",
              "          google.colab.kernel.accessAllowed ? 'block' : 'none';\n",
              "\n",
              "        async function convertToInteractive(key) {\n",
              "          const element = document.querySelector('#df-f3c3e189-714d-47f9-b0ad-838f54bf29ba');\n",
              "          const dataTable =\n",
              "            await google.colab.kernel.invokeFunction('convertToInteractive',\n",
              "                                                     [key], {});\n",
              "          if (!dataTable) return;\n",
              "\n",
              "          const docLinkHtml = 'Like what you see? Visit the ' +\n",
              "            '<a target=\"_blank\" href=https://colab.research.google.com/notebooks/data_table.ipynb>data table notebook</a>'\n",
              "            + ' to learn more about interactive tables.';\n",
              "          element.innerHTML = '';\n",
              "          dataTable['output_type'] = 'display_data';\n",
              "          await google.colab.output.renderOutput(dataTable, element);\n",
              "          const docLink = document.createElement('div');\n",
              "          docLink.innerHTML = docLinkHtml;\n",
              "          element.appendChild(docLink);\n",
              "        }\n",
              "      </script>\n",
              "    </div>\n",
              "  </div>\n",
              "  "
            ]
          },
          "metadata": {},
          "execution_count": 23
        }
      ],
      "source": [
        "# Variables de tipo object:\n",
        "L = ['tartar','oral','gender']\n",
        "df_unique_val_col(df_eda,L)"
      ]
    },
    {
      "cell_type": "markdown",
      "metadata": {
        "id": "Bn4iDmcJhBpT"
      },
      "source": [
        "# Analisis univariado:"
      ]
    },
    {
      "cell_type": "markdown",
      "metadata": {
        "id": "uf2uxvENNkM9"
      },
      "source": [
        "# **¿Qué sabemos de las personas en el dataset?**"
      ]
    },
    {
      "cell_type": "code",
      "execution_count": null,
      "metadata": {
        "id": "BE4bKiczOZ4q",
        "colab": {
          "base_uri": "https://localhost:8080/",
          "height": 248
        },
        "outputId": "fb863ded-d411-424c-841f-5983e6fe6929"
      },
      "outputs": [
        {
          "output_type": "display_data",
          "data": {
            "text/plain": [
              "<Figure size 432x288 with 1 Axes>"
            ],
            "image/png": "[encoded data removed]"
          },
          "metadata": {}
        }
      ],
      "source": [
        "gender_count = df_eda.gender.value_counts() #con el método value_counts() creamos la serie que cuenta la cantidad de registros por cada valor de gender\n",
        "gender_count.index = [\"Hombre\",\"Mujer\"] #renombramos los indices\n",
        "plt.pie(gender_count, labels = gender_count.index, autopct=\"%0.1f %%\")\n",
        "plt.show()"
      ]
    },
    {
      "cell_type": "markdown",
      "metadata": {
        "id": "8vjeCV2BNGmN"
      },
      "source": [
        "**El portentaje de genero en el dataset es el siguiente:** \\\n",
        "\n",
        "\n",
        "*   Hombres = 63.6 %\n",
        "*   Mujeres = 36.4 %\n",
        "\n"
      ]
    },
    {
      "cell_type": "markdown",
      "metadata": {
        "id": "zGeA8BL4a_kI"
      },
      "source": [
        "Agregamos otra gráfica de Torta para tener en cuenta el porcentaje de fumadores:"
      ]
    },
    {
      "cell_type": "code",
      "execution_count": null,
      "metadata": {
        "id": "CHcnHv2ObG_7",
        "colab": {
          "base_uri": "https://localhost:8080/",
          "height": 248
        },
        "outputId": "52b89d62-fbef-44a5-fa4f-66b426b1426f"
      },
      "outputs": [
        {
          "output_type": "display_data",
          "data": {
            "text/plain": [
              "<Figure size 432x288 with 1 Axes>"
            ],
            "image/png": "[encoded data removed]"
          },
          "metadata": {}
        }
      ],
      "source": [
        "smoking_count = df_eda.smoking.value_counts()\n",
        "smoking_count.index = [\"No fumadores\",\"Fumadores\"] #renombramos los indices\n",
        "plt.pie(smoking_count, labels = smoking_count.index, autopct=\"%0.1f %%\")\n",
        "plt.show()"
      ]
    },
    {
      "cell_type": "markdown",
      "metadata": {
        "id": "hBYVh6Rucvv4"
      },
      "source": [
        "**El porcentaje de fumadores:** \\\n",
        "No fumadores = 63.3%\\\n",
        "Fumadores = 36.7%"
      ]
    },
    {
      "cell_type": "markdown",
      "metadata": {
        "id": "lBRjCn1EljrG"
      },
      "source": [
        "Creamos un rango de edad en base al genero:"
      ]
    },
    {
      "cell_type": "code",
      "execution_count": null,
      "metadata": {
        "id": "wBgO6NRldXAX",
        "colab": {
          "base_uri": "https://localhost:8080/",
          "height": 143
        },
        "outputId": "57a2585c-3343-474a-f3e1-5663de1b585c"
      },
      "outputs": [
        {
          "output_type": "execute_result",
          "data": {
            "text/plain": [
              "gender         F      M\n",
              "age                    \n",
              "(18, 60]   19044  33576\n",
              "(60, 100]   1247   1825"
            ],
            "text/html": [
              "\n",
              "  <div id=\"df-85f8f2b0-9432-4d54-8529-c9f675551215\">\n",
              "    <div class=\"colab-df-container\">\n",
              "      <div>\n",
              "<style scoped>\n",
              "    .dataframe tbody tr th:only-of-type {\n",
              "        vertical-align: middle;\n",
              "    }\n",
              "\n",
              "    .dataframe tbody tr th {\n",
              "        vertical-align: top;\n",
              "    }\n",
              "\n",
              "    .dataframe thead th {\n",
              "        text-align: right;\n",
              "    }\n",
              "</style>\n",
              "<table border=\"1\" class=\"dataframe\">\n",
              "  <thead>\n",
              "    <tr style=\"text-align: right;\">\n",
              "      <th>gender</th>\n",
              "      <th>F</th>\n",
              "      <th>M</th>\n",
              "    </tr>\n",
              "    <tr>\n",
              "      <th>age</th>\n",
              "      <th></th>\n",
              "      <th></th>\n",
              "    </tr>\n",
              "  </thead>\n",
              "  <tbody>\n",
              "    <tr>\n",
              "      <th>(18, 60]</th>\n",
              "      <td>19044</td>\n",
              "      <td>33576</td>\n",
              "    </tr>\n",
              "    <tr>\n",
              "      <th>(60, 100]</th>\n",
              "      <td>1247</td>\n",
              "      <td>1825</td>\n",
              "    </tr>\n",
              "  </tbody>\n",
              "</table>\n",
              "</div>\n",
              "      <button class=\"colab-df-convert\" onclick=\"convertToInteractive('df-85f8f2b0-9432-4d54-8529-c9f675551215')\"\n",
              "              title=\"Convert this dataframe to an interactive table.\"\n",
              "              style=\"display:none;\">\n",
              "        \n",
              "  <svg xmlns=\"http://www.w3.org/2000/svg\" height=\"24px\"viewBox=\"0 0 24 24\"\n",
              "       width=\"24px\">\n",
              "    <path d=\"M0 0h24v24H0V0z\" fill=\"none\"/>\n",
              "    <path d=\"M18.56 5.44l.94 2.06.94-2.06 2.06-.94-2.06-.94-.94-2.06-.94 2.06-2.06.94zm-11 1L8.5 8.5l.94-2.06 2.06-.94-2.06-.94L8.5 2.5l-.94 2.06-2.06.94zm10 10l.94 2.06.94-2.06 2.06-.94-2.06-.94-.94-2.06-.94 2.06-2.06.94z\"/><path d=\"M17.41 7.96l-1.37-1.37c-.4-.4-.92-.59-1.43-.59-.52 0-1.04.2-1.43.59L10.3 9.45l-7.72 7.72c-.78.78-.78 2.05 0 2.83L4 21.41c.39.39.9.59 1.41.59.51 0 1.02-.2 1.41-.59l7.78-7.78 2.81-2.81c.8-.78.8-2.07 0-2.86zM5.41 20L4 18.59l7.72-7.72 1.47 1.35L5.41 20z\"/>\n",
              "  </svg>\n",
              "      </button>\n",
              "      \n",
              "  <style>\n",
              "    .colab-df-container {\n",
              "      display:flex;\n",
              "      flex-wrap:wrap;\n",
              "      gap: 12px;\n",
              "    }\n",
              "\n",
              "    .colab-df-convert {\n",
              "      background-color: #E8F0FE;\n",
              "      border: none;\n",
              "      border-radius: 50%;\n",
              "      cursor: pointer;\n",
              "      display: none;\n",
              "      fill: #1967D2;\n",
              "      height: 32px;\n",
              "      padding: 0 0 0 0;\n",
              "      width: 32px;\n",
              "    }\n",
              "\n",
              "    .colab-df-convert:hover {\n",
              "      background-color: #E2EBFA;\n",
              "      box-shadow: 0px 1px 2px rgba(60, 64, 67, 0.3), 0px 1px 3px 1px rgba(60, 64, 67, 0.15);\n",
              "      fill: #174EA6;\n",
              "    }\n",
              "\n",
              "    [theme=dark] .colab-df-convert {\n",
              "      background-color: #3B4455;\n",
              "      fill: #D2E3FC;\n",
              "    }\n",
              "\n",
              "    [theme=dark] .colab-df-convert:hover {\n",
              "      background-color: #434B5C;\n",
              "      box-shadow: 0px 1px 3px 1px rgba(0, 0, 0, 0.15);\n",
              "      filter: drop-shadow(0px 1px 2px rgba(0, 0, 0, 0.3));\n",
              "      fill: #FFFFFF;\n",
              "    }\n",
              "  </style>\n",
              "\n",
              "      <script>\n",
              "        const buttonEl =\n",
              "          document.querySelector('#df-85f8f2b0-9432-4d54-8529-c9f675551215 button.colab-df-convert');\n",
              "        buttonEl.style.display =\n",
              "          google.colab.kernel.accessAllowed ? 'block' : 'none';\n",
              "\n",
              "        async function convertToInteractive(key) {\n",
              "          const element = document.querySelector('#df-85f8f2b0-9432-4d54-8529-c9f675551215');\n",
              "          const dataTable =\n",
              "            await google.colab.kernel.invokeFunction('convertToInteractive',\n",
              "                                                     [key], {});\n",
              "          if (!dataTable) return;\n",
              "\n",
              "          const docLinkHtml = 'Like what you see? Visit the ' +\n",
              "            '<a target=\"_blank\" href=https://colab.research.google.com/notebooks/data_table.ipynb>data table notebook</a>'\n",
              "            + ' to learn more about interactive tables.';\n",
              "          element.innerHTML = '';\n",
              "          dataTable['output_type'] = 'display_data';\n",
              "          await google.colab.output.renderOutput(dataTable, element);\n",
              "          const docLink = document.createElement('div');\n",
              "          docLink.innerHTML = docLinkHtml;\n",
              "          element.appendChild(docLink);\n",
              "        }\n",
              "      </script>\n",
              "    </div>\n",
              "  </div>\n",
              "  "
            ]
          },
          "metadata": {},
          "execution_count": 26
        }
      ],
      "source": [
        "pd.cut(df_eda['age'], bins=[18, 60, 100])\n",
        "age_groups = pd.cut(df_eda['age'], bins=[18, 60, 100])\n",
        "pd.crosstab(age_groups, df_eda['gender'])"
      ]
    },
    {
      "cell_type": "markdown",
      "metadata": {
        "id": "yXu1i0hWlpKe"
      },
      "source": [
        "Gráficamos utilizando:"
      ]
    },
    {
      "cell_type": "code",
      "execution_count": null,
      "metadata": {
        "id": "P3BfzQy0loX5",
        "colab": {
          "base_uri": "https://localhost:8080/",
          "height": 352
        },
        "outputId": "d96d733c-e9fe-4027-f41e-48399c5dc62a"
      },
      "outputs": [
        {
          "output_type": "display_data",
          "data": {
            "text/plain": [
              "<Figure size 360x360 with 1 Axes>"
            ],
            "image/png": "[encoded data removed]"
          },
          "metadata": {
            "needs_background": "light"
          }
        }
      ],
      "source": [
        "fig5, ax=plt.subplots(figsize=(5,5)) \n",
        "sns.countplot(x=age_groups,hue=df_eda.gender, palette='Blues')\n",
        "for p in ax.patches:\n",
        "    ax.annotate(f'\\n{p.get_height()}', (p.get_x()+0.2, p.get_height()), ha='center', va='top', color='black', size=10)\n",
        "plt.xlabel('Rango Edad', fontsize=10, fontweight='bold')\n",
        "plt.ylabel('Cantidad', fontsize=10, fontweight='bold')\n",
        "plt.title('Rango de edad vs Genero', fontweight = 'bold', fontsize='15')\n",
        "plt.show()"
      ]
    },
    {
      "cell_type": "markdown",
      "metadata": {
        "id": "1nTL_jlNqcac"
      },
      "source": [
        "**En resumen:**  \n",
        "\n",
        "* Hay mas hombres que mujeres.\n",
        "* El rango de edad (18-60) tiene mas personas entre hombres y mujeres.\n",
        "* Toda persona en el dataset es adulta.\n",
        "\n"
      ]
    },
    {
      "cell_type": "code",
      "execution_count": null,
      "metadata": {
        "id": "VhJWn98gngox"
      },
      "outputs": [],
      "source": [
        "def graficos_exploratorios(df,column_name,sort_index=False):\n",
        "    #Analisis de columnas y gráfico\n",
        "    print(f'COLUMN: {column_name}')\n",
        "\n",
        "   \n",
        "    abs_values =df[column_name].value_counts()\n",
        "    prc_values =(df[column_name].value_counts(normalize=True)*100).apply(lambda x:round(x,1))\n",
        "    df_values = pd.merge(abs_values, prc_values, left_index=True, right_index=True, suffixes=('_abs','_prc'))\n",
        "    \n",
        "    \n",
        "    if sort_index is True:\n",
        "        df_values = df_values.sort_index(axis = 0)\n",
        "\n",
        "    # Valores de trazado, titulos y nombres de ejes\n",
        "    ax = df_values[column_name+'_abs'].plot(kind='bar', figsize=(12,6))\n",
        "    ax.set_title(f\"Cantidad de personas por {column_name}\")\n",
        "    ax.set_xlabel(column_name)\n",
        "    ax.set_ylabel('Cantidad de personas')\n",
        "\n",
        "    #Etiqueta sobre barras\n",
        "    rects = ax.patches\n",
        "    labels = [f'{p}%' for p in df_values[column_name+'_prc'].to_list()]\n",
        "    for rect, label in zip(rects, labels):\n",
        "        height = rect.get_height()\n",
        "        ax.text(rect.get_x() + rect.get_width()/2 , height + 1, label,\n",
        "                ha='center', va='bottom')\n",
        "    \n",
        "    return "
      ]
    },
    {
      "cell_type": "code",
      "execution_count": null,
      "metadata": {
        "id": "3vmFo0jooLBn",
        "colab": {
          "base_uri": "https://localhost:8080/",
          "height": 432
        },
        "outputId": "1f663f35-eb4b-4d60-ec8b-6d9fe85c0d50"
      },
      "outputs": [
        {
          "output_type": "stream",
          "name": "stdout",
          "text": [
            "COLUMN: hearing(left)\n"
          ]
        },
        {
          "output_type": "display_data",
          "data": {
            "text/plain": [
              "<Figure size 864x432 with 1 Axes>"
            ],
            "image/png": "[encoded data removed]"
          },
          "metadata": {
            "needs_background": "light"
          }
        }
      ],
      "source": [
        "graficos_exploratorios(df_eda,'hearing(left)')"
      ]
    },
    {
      "cell_type": "code",
      "execution_count": null,
      "metadata": {
        "id": "ercUTE4Rq951",
        "colab": {
          "base_uri": "https://localhost:8080/",
          "height": 432
        },
        "outputId": "92c85db9-d141-4ec8-c452-7054277019cd"
      },
      "outputs": [
        {
          "output_type": "stream",
          "name": "stdout",
          "text": [
            "COLUMN: hearing(right)\n"
          ]
        },
        {
          "output_type": "display_data",
          "data": {
            "text/plain": [
              "<Figure size 864x432 with 1 Axes>"
            ],
            "image/png": "[encoded data removed]"
          },
          "metadata": {
            "needs_background": "light"
          }
        }
      ],
      "source": [
        "graficos_exploratorios(df_eda,'hearing(right)')"
      ]
    },
    {
      "cell_type": "markdown",
      "metadata": {
        "id": "WVOnd76muU0f"
      },
      "source": [
        "Teniendo en cuenta que valores mayores a 1.5 indican deficit auditivo podemos ver que el 2.6% de las personas en el dataset tienen deficit auditivo en el oído izquierdo y un mismo porcentaje tiene deficit en el oído derecho."
      ]
    },
    {
      "cell_type": "code",
      "execution_count": null,
      "metadata": {
        "id": "UBQ2UngtrIVc",
        "colab": {
          "base_uri": "https://localhost:8080/"
        },
        "outputId": "c6b00da0-ed19-463c-8a48-4c4907a2d356"
      },
      "outputs": [
        {
          "output_type": "stream",
          "name": "stdout",
          "text": [
            "Cantidad de personas con deficit auditivo en 1 solo oído: 1375\n"
          ]
        }
      ],
      "source": [
        "print(\"Cantidad de personas con deficit auditivo en 1 solo oído:\",str(df_eda[df_eda['hearing(left)']!=df_eda['hearing(right)']].shape[0]))"
      ]
    },
    {
      "cell_type": "markdown",
      "metadata": {
        "id": "37t9aK97vF4_"
      },
      "source": [
        "Esto nos permite saber que el 2.6% obtenido mediante los gráficos anteriores no corresponde únicamente a personas con déficit en ambos oídos sino que existen personas con deficit únicamente en uno de sus oídos."
      ]
    },
    {
      "cell_type": "code",
      "execution_count": null,
      "metadata": {
        "id": "HB-FW41Pvq0W",
        "colab": {
          "base_uri": "https://localhost:8080/",
          "height": 432
        },
        "outputId": "0de00240-ef4d-4ca4-cb24-0016a939cb96"
      },
      "outputs": [
        {
          "output_type": "stream",
          "name": "stdout",
          "text": [
            "COLUMN: Urine protein\n"
          ]
        },
        {
          "output_type": "display_data",
          "data": {
            "text/plain": [
              "<Figure size 864x432 with 1 Axes>"
            ],
            "image/png": "[encoded data removed]"
          },
          "metadata": {
            "needs_background": "light"
          }
        }
      ],
      "source": [
        "graficos_exploratorios(df_eda,'Urine protein')"
      ]
    },
    {
      "cell_type": "markdown",
      "metadata": {
        "id": "Xhbp04qpxAfP"
      },
      "source": [
        "Teniendo en cuenta que valores mayores o 1 g/día indican un nivel alto de proteína en la orina, podemos observar que el 94.4% de las personas de nuestro set de datos se encuentran entre los parametros normales de proteína en la orina mientras que el restante 5.6% presenta proteinuria en distintos rangos."
      ]
    },
    {
      "cell_type": "code",
      "execution_count": null,
      "metadata": {
        "id": "BrWJ0O4o0Vmp",
        "colab": {
          "base_uri": "https://localhost:8080/",
          "height": 422
        },
        "outputId": "ab365aff-5abd-4255-a013-959e13315b14"
      },
      "outputs": [
        {
          "output_type": "stream",
          "name": "stdout",
          "text": [
            "COLUMN: dental caries\n"
          ]
        },
        {
          "output_type": "display_data",
          "data": {
            "text/plain": [
              "<Figure size 864x432 with 1 Axes>"
            ],
            "image/png": "[encoded data removed]"
          },
          "metadata": {
            "needs_background": "light"
          }
        }
      ],
      "source": [
        "graficos_exploratorios(df_eda,'dental caries')"
      ]
    },
    {
      "cell_type": "code",
      "execution_count": null,
      "metadata": {
        "id": "yvx_4tqx0awc",
        "colab": {
          "base_uri": "https://localhost:8080/",
          "height": 424
        },
        "outputId": "041ef264-2358-458d-bcbe-9dd9fa9c5bf0"
      },
      "outputs": [
        {
          "output_type": "stream",
          "name": "stdout",
          "text": [
            "COLUMN: tartar\n"
          ]
        },
        {
          "output_type": "display_data",
          "data": {
            "text/plain": [
              "<Figure size 864x432 with 1 Axes>"
            ],
            "image/png": "[encoded data removed]"
          },
          "metadata": {
            "needs_background": "light"
          }
        }
      ],
      "source": [
        "graficos_exploratorios(df_eda,'tartar')"
      ]
    },
    {
      "cell_type": "markdown",
      "metadata": {
        "id": "A765Qs2I0ilS"
      },
      "source": [
        "De los anteriores dos gráficos sobre variables que se desprenden del examen oral, podemos observar que un 21.3% de las personas porta caries mientras que se que un 44.4% de los mismos presentó sarro."
      ]
    },
    {
      "cell_type": "code",
      "source": [
        "graficos_exploratorios(df_eda,'bmi_comp')"
      ],
      "metadata": {
        "colab": {
          "base_uri": "https://localhost:8080/",
          "height": 441
        },
        "id": "8jBD7jCsFuas",
        "outputId": "001b97ec-8e8b-41a6-fe3e-f22f2170eb79"
      },
      "execution_count": null,
      "outputs": [
        {
          "output_type": "stream",
          "name": "stdout",
          "text": [
            "COLUMN: bmi_comp\n"
          ]
        },
        {
          "output_type": "display_data",
          "data": {
            "text/plain": [
              "<Figure size 864x432 with 1 Axes>"
            ],
            "image/png": "[encoded data removed]"
          },
          "metadata": {
            "needs_background": "light"
          }
        }
      ]
    },
    {
      "cell_type": "markdown",
      "source": [
        "Este gráfico muestra que únicamente un 4.2% de los pacientes del set de datos están por encima del promedio de indice de masa corporal obtenido de los afiliados al seguro de salud correspondiente al set de datos complementario para su grupo etario y sexo."
      ],
      "metadata": {
        "id": "AuSibhrUGAY9"
      }
    },
    {
      "cell_type": "markdown",
      "metadata": {
        "id": "m9_lhKb-w3g4"
      },
      "source": [
        "Conociendo ahora mas información sobre las personas en el dataset, comenzamos a contesar las preguntas de hipotesis y las ordenamos por preguntas de alto nivel para luego contestar las que son mas especificas:\n"
      ]
    },
    {
      "cell_type": "markdown",
      "metadata": {
        "id": "dx3g-hSjhlOl"
      },
      "source": [
        "# Analisis Bivariado:"
      ]
    },
    {
      "cell_type": "markdown",
      "metadata": {
        "id": "VN1h1UZPhsMp"
      },
      "source": [
        "##**¿Fumar aumenta el colesterol?**  \n",
        "Hipotesis HDL (colesterol bueno): es alta para no fumadores. \n",
        "\n",
        "Hipotesis LDL (colesterol malo): el promedio es alto para fumadores."
      ]
    },
    {
      "cell_type": "code",
      "execution_count": null,
      "metadata": {
        "id": "9oESAk7XhySp",
        "colab": {
          "base_uri": "https://localhost:8080/",
          "height": 300
        },
        "outputId": "1c266d40-80a4-4083-c9de-f3e6a75e0d64"
      },
      "outputs": [
        {
          "output_type": "execute_result",
          "data": {
            "text/plain": [
              "<matplotlib.axes._subplots.AxesSubplot at 0x7f3c5d6fc210>"
            ]
          },
          "metadata": {},
          "execution_count": 35
        },
        {
          "output_type": "display_data",
          "data": {
            "text/plain": [
              "<Figure size 432x288 with 1 Axes>"
            ],
            "image/png": "[encoded data removed]"
          },
          "metadata": {
            "needs_background": "light"
          }
        }
      ],
      "source": [
        "sns.histplot(data=df_eda, x=\"HDL\", hue=\"smoking\", multiple=\"stack\")"
      ]
    },
    {
      "cell_type": "markdown",
      "metadata": {
        "id": "PzdnPbSuh53g"
      },
      "source": [
        "Resumen númerico:"
      ]
    },
    {
      "cell_type": "code",
      "execution_count": null,
      "metadata": {
        "id": "pdics1Zph-rF",
        "colab": {
          "base_uri": "https://localhost:8080/"
        },
        "outputId": "e374b6ea-877b-48ad-8203-1e853e706485"
      },
      "outputs": [
        {
          "output_type": "execute_result",
          "data": {
            "text/plain": [
              "count    55692.000000\n",
              "mean        57.290347\n",
              "std         14.738963\n",
              "min          4.000000\n",
              "25%         47.000000\n",
              "50%         55.000000\n",
              "75%         66.000000\n",
              "max        618.000000\n",
              "Name: HDL, dtype: float64"
            ]
          },
          "metadata": {},
          "execution_count": 36
        }
      ],
      "source": [
        "df_eda.HDL.describe()"
      ]
    },
    {
      "cell_type": "markdown",
      "metadata": {
        "id": "yTxyH15TiFQi"
      },
      "source": [
        "**Respuesta:**  \n",
        "Hipotesis HDL correcta: Como muestra la gráfica, la mayoria de los no fumadores tienen un nivel alto de HDL y es menor en los fumadores."
      ]
    },
    {
      "cell_type": "markdown",
      "metadata": {
        "id": "PAZsZoaPiPFO"
      },
      "source": [
        "Dejamos una clasificacion de los niveles de HDL:"
      ]
    },
    {
      "cell_type": "code",
      "execution_count": null,
      "metadata": {
        "id": "9beiMjE8iTCN",
        "colab": {
          "base_uri": "https://localhost:8080/",
          "height": 424
        },
        "outputId": "a5fbcec2-ad14-4882-9a30-5800be53bc90"
      },
      "outputs": [
        {
          "output_type": "execute_result",
          "data": {
            "text/plain": [
              "        HDL     clasif_HDL\n",
              "0      73.0    3. Deseable\n",
              "1      42.0  2. Intermedio\n",
              "2      55.0  2. Intermedio\n",
              "3      45.0  2. Intermedio\n",
              "4      62.0    3. Deseable\n",
              "...     ...            ...\n",
              "55687  75.0    3. Deseable\n",
              "55688  73.0    3. Deseable\n",
              "55689  79.0    3. Deseable\n",
              "55690  48.0  2. Intermedio\n",
              "55691  34.0        1. Bajo\n",
              "\n",
              "[55692 rows x 2 columns]"
            ],
            "text/html": [
              "\n",
              "  <div id=\"df-ab453637-c00b-4188-b5f9-45a475d8dbc3\">\n",
              "    <div class=\"colab-df-container\">\n",
              "      <div>\n",
              "<style scoped>\n",
              "    .dataframe tbody tr th:only-of-type {\n",
              "        vertical-align: middle;\n",
              "    }\n",
              "\n",
              "    .dataframe tbody tr th {\n",
              "        vertical-align: top;\n",
              "    }\n",
              "\n",
              "    .dataframe thead th {\n",
              "        text-align: right;\n",
              "    }\n",
              "</style>\n",
              "<table border=\"1\" class=\"dataframe\">\n",
              "  <thead>\n",
              "    <tr style=\"text-align: right;\">\n",
              "      <th></th>\n",
              "      <th>HDL</th>\n",
              "      <th>clasif_HDL</th>\n",
              "    </tr>\n",
              "  </thead>\n",
              "  <tbody>\n",
              "    <tr>\n",
              "      <th>0</th>\n",
              "      <td>73.0</td>\n",
              "      <td>3. Deseable</td>\n",
              "    </tr>\n",
              "    <tr>\n",
              "      <th>1</th>\n",
              "      <td>42.0</td>\n",
              "      <td>2. Intermedio</td>\n",
              "    </tr>\n",
              "    <tr>\n",
              "      <th>2</th>\n",
              "      <td>55.0</td>\n",
              "      <td>2. Intermedio</td>\n",
              "    </tr>\n",
              "    <tr>\n",
              "      <th>3</th>\n",
              "      <td>45.0</td>\n",
              "      <td>2. Intermedio</td>\n",
              "    </tr>\n",
              "    <tr>\n",
              "      <th>4</th>\n",
              "      <td>62.0</td>\n",
              "      <td>3. Deseable</td>\n",
              "    </tr>\n",
              "    <tr>\n",
              "      <th>...</th>\n",
              "      <td>...</td>\n",
              "      <td>...</td>\n",
              "    </tr>\n",
              "    <tr>\n",
              "      <th>55687</th>\n",
              "      <td>75.0</td>\n",
              "      <td>3. Deseable</td>\n",
              "    </tr>\n",
              "    <tr>\n",
              "      <th>55688</th>\n",
              "      <td>73.0</td>\n",
              "      <td>3. Deseable</td>\n",
              "    </tr>\n",
              "    <tr>\n",
              "      <th>55689</th>\n",
              "      <td>79.0</td>\n",
              "      <td>3. Deseable</td>\n",
              "    </tr>\n",
              "    <tr>\n",
              "      <th>55690</th>\n",
              "      <td>48.0</td>\n",
              "      <td>2. Intermedio</td>\n",
              "    </tr>\n",
              "    <tr>\n",
              "      <th>55691</th>\n",
              "      <td>34.0</td>\n",
              "      <td>1. Bajo</td>\n",
              "    </tr>\n",
              "  </tbody>\n",
              "</table>\n",
              "<p>55692 rows × 2 columns</p>\n",
              "</div>\n",
              "      <button class=\"colab-df-convert\" onclick=\"convertToInteractive('df-ab453637-c00b-4188-b5f9-45a475d8dbc3')\"\n",
              "              title=\"Convert this dataframe to an interactive table.\"\n",
              "              style=\"display:none;\">\n",
              "        \n",
              "  <svg xmlns=\"http://www.w3.org/2000/svg\" height=\"24px\"viewBox=\"0 0 24 24\"\n",
              "       width=\"24px\">\n",
              "    <path d=\"M0 0h24v24H0V0z\" fill=\"none\"/>\n",
              "    <path d=\"M18.56 5.44l.94 2.06.94-2.06 2.06-.94-2.06-.94-.94-2.06-.94 2.06-2.06.94zm-11 1L8.5 8.5l.94-2.06 2.06-.94-2.06-.94L8.5 2.5l-.94 2.06-2.06.94zm10 10l.94 2.06.94-2.06 2.06-.94-2.06-.94-.94-2.06-.94 2.06-2.06.94z\"/><path d=\"M17.41 7.96l-1.37-1.37c-.4-.4-.92-.59-1.43-.59-.52 0-1.04.2-1.43.59L10.3 9.45l-7.72 7.72c-.78.78-.78 2.05 0 2.83L4 21.41c.39.39.9.59 1.41.59.51 0 1.02-.2 1.41-.59l7.78-7.78 2.81-2.81c.8-.78.8-2.07 0-2.86zM5.41 20L4 18.59l7.72-7.72 1.47 1.35L5.41 20z\"/>\n",
              "  </svg>\n",
              "      </button>\n",
              "      \n",
              "  <style>\n",
              "    .colab-df-container {\n",
              "      display:flex;\n",
              "      flex-wrap:wrap;\n",
              "      gap: 12px;\n",
              "    }\n",
              "\n",
              "    .colab-df-convert {\n",
              "      background-color: #E8F0FE;\n",
              "      border: none;\n",
              "      border-radius: 50%;\n",
              "      cursor: pointer;\n",
              "      display: none;\n",
              "      fill: #1967D2;\n",
              "      height: 32px;\n",
              "      padding: 0 0 0 0;\n",
              "      width: 32px;\n",
              "    }\n",
              "\n",
              "    .colab-df-convert:hover {\n",
              "      background-color: #E2EBFA;\n",
              "      box-shadow: 0px 1px 2px rgba(60, 64, 67, 0.3), 0px 1px 3px 1px rgba(60, 64, 67, 0.15);\n",
              "      fill: #174EA6;\n",
              "    }\n",
              "\n",
              "    [theme=dark] .colab-df-convert {\n",
              "      background-color: #3B4455;\n",
              "      fill: #D2E3FC;\n",
              "    }\n",
              "\n",
              "    [theme=dark] .colab-df-convert:hover {\n",
              "      background-color: #434B5C;\n",
              "      box-shadow: 0px 1px 3px 1px rgba(0, 0, 0, 0.15);\n",
              "      filter: drop-shadow(0px 1px 2px rgba(0, 0, 0, 0.3));\n",
              "      fill: #FFFFFF;\n",
              "    }\n",
              "  </style>\n",
              "\n",
              "      <script>\n",
              "        const buttonEl =\n",
              "          document.querySelector('#df-ab453637-c00b-4188-b5f9-45a475d8dbc3 button.colab-df-convert');\n",
              "        buttonEl.style.display =\n",
              "          google.colab.kernel.accessAllowed ? 'block' : 'none';\n",
              "\n",
              "        async function convertToInteractive(key) {\n",
              "          const element = document.querySelector('#df-ab453637-c00b-4188-b5f9-45a475d8dbc3');\n",
              "          const dataTable =\n",
              "            await google.colab.kernel.invokeFunction('convertToInteractive',\n",
              "                                                     [key], {});\n",
              "          if (!dataTable) return;\n",
              "\n",
              "          const docLinkHtml = 'Like what you see? Visit the ' +\n",
              "            '<a target=\"_blank\" href=https://colab.research.google.com/notebooks/data_table.ipynb>data table notebook</a>'\n",
              "            + ' to learn more about interactive tables.';\n",
              "          element.innerHTML = '';\n",
              "          dataTable['output_type'] = 'display_data';\n",
              "          await google.colab.output.renderOutput(dataTable, element);\n",
              "          const docLink = document.createElement('div');\n",
              "          docLink.innerHTML = docLinkHtml;\n",
              "          element.appendChild(docLink);\n",
              "        }\n",
              "      </script>\n",
              "    </div>\n",
              "  </div>\n",
              "  "
            ]
          },
          "metadata": {},
          "execution_count": 37
        }
      ],
      "source": [
        "df_eda['clasif_HDL'] = np.where((df_eda.HDL < 40),'1. Bajo','')\n",
        "df_eda['clasif_HDL'] = np.where((df_eda.HDL.between(40,59)),'2. Intermedio',df_eda.clasif_HDL)\n",
        "df_eda['clasif_HDL'] = np.where((df_eda.HDL >= 60),'3. Deseable',df_eda.clasif_HDL)\n",
        "df_eda[['HDL','clasif_HDL']]"
      ]
    },
    {
      "cell_type": "markdown",
      "metadata": {
        "id": "iU6Y19krHAOY"
      },
      "source": [
        "Gráficamos la clasificación:"
      ]
    },
    {
      "cell_type": "code",
      "execution_count": null,
      "metadata": {
        "id": "Ej9tQvEIZl2W",
        "colab": {
          "base_uri": "https://localhost:8080/",
          "height": 339
        },
        "outputId": "58f4e26a-d452-4df0-c77e-61e004a49d7a"
      },
      "outputs": [
        {
          "output_type": "display_data",
          "data": {
            "text/plain": [
              "<Figure size 432x288 with 1 Axes>"
            ],
            "image/png": "[encoded data removed]"
          },
          "metadata": {
            "needs_background": "light"
          }
        }
      ],
      "source": [
        "df_agrupado = df_eda.groupby(['clasif_HDL','smoking']).size().reset_index().pivot(columns='smoking',index='clasif_HDL',values=0)\n",
        "ax=df_agrupado.plot(kind='bar', color=['#6592b2','#143953'],stacked=True)\n",
        "\n",
        "for p in ax.patches:\n",
        "    width = p.get_width()\n",
        "    height = p.get_height()\n",
        "    x, y = p.get_xy() \n",
        "    ax.annotate(f'{height}', (x + width/2, y + height*1.02), ha='center')\n",
        "\n",
        "plt.show()"
      ]
    },
    {
      "cell_type": "code",
      "execution_count": null,
      "metadata": {
        "id": "FyV7P2EmZvDl",
        "colab": {
          "base_uri": "https://localhost:8080/",
          "height": 175
        },
        "outputId": "d9356dab-4317-4203-f7e0-321719d87120"
      },
      "outputs": [
        {
          "output_type": "execute_result",
          "data": {
            "text/plain": [
              "smoking            0      1  porcentaje_fum\n",
              "clasif_HDL                                 \n",
              "1. Bajo         2063   2391            54.0\n",
              "2. Intermedio  17411  12336            41.0\n",
              "3. Deseable    15763   5728            27.0"
            ],
            "text/html": [
              "\n",
              "  <div id=\"df-5442e34c-91d7-421c-a212-7a7bf6be085e\">\n",
              "    <div class=\"colab-df-container\">\n",
              "      <div>\n",
              "<style scoped>\n",
              "    .dataframe tbody tr th:only-of-type {\n",
              "        vertical-align: middle;\n",
              "    }\n",
              "\n",
              "    .dataframe tbody tr th {\n",
              "        vertical-align: top;\n",
              "    }\n",
              "\n",
              "    .dataframe thead th {\n",
              "        text-align: right;\n",
              "    }\n",
              "</style>\n",
              "<table border=\"1\" class=\"dataframe\">\n",
              "  <thead>\n",
              "    <tr style=\"text-align: right;\">\n",
              "      <th>smoking</th>\n",
              "      <th>0</th>\n",
              "      <th>1</th>\n",
              "      <th>porcentaje_fum</th>\n",
              "    </tr>\n",
              "    <tr>\n",
              "      <th>clasif_HDL</th>\n",
              "      <th></th>\n",
              "      <th></th>\n",
              "      <th></th>\n",
              "    </tr>\n",
              "  </thead>\n",
              "  <tbody>\n",
              "    <tr>\n",
              "      <th>1. Bajo</th>\n",
              "      <td>2063</td>\n",
              "      <td>2391</td>\n",
              "      <td>54.0</td>\n",
              "    </tr>\n",
              "    <tr>\n",
              "      <th>2. Intermedio</th>\n",
              "      <td>17411</td>\n",
              "      <td>12336</td>\n",
              "      <td>41.0</td>\n",
              "    </tr>\n",
              "    <tr>\n",
              "      <th>3. Deseable</th>\n",
              "      <td>15763</td>\n",
              "      <td>5728</td>\n",
              "      <td>27.0</td>\n",
              "    </tr>\n",
              "  </tbody>\n",
              "</table>\n",
              "</div>\n",
              "      <button class=\"colab-df-convert\" onclick=\"convertToInteractive('df-5442e34c-91d7-421c-a212-7a7bf6be085e')\"\n",
              "              title=\"Convert this dataframe to an interactive table.\"\n",
              "              style=\"display:none;\">\n",
              "        \n",
              "  <svg xmlns=\"http://www.w3.org/2000/svg\" height=\"24px\"viewBox=\"0 0 24 24\"\n",
              "       width=\"24px\">\n",
              "    <path d=\"M0 0h24v24H0V0z\" fill=\"none\"/>\n",
              "    <path d=\"M18.56 5.44l.94 2.06.94-2.06 2.06-.94-2.06-.94-.94-2.06-.94 2.06-2.06.94zm-11 1L8.5 8.5l.94-2.06 2.06-.94-2.06-.94L8.5 2.5l-.94 2.06-2.06.94zm10 10l.94 2.06.94-2.06 2.06-.94-2.06-.94-.94-2.06-.94 2.06-2.06.94z\"/><path d=\"M17.41 7.96l-1.37-1.37c-.4-.4-.92-.59-1.43-.59-.52 0-1.04.2-1.43.59L10.3 9.45l-7.72 7.72c-.78.78-.78 2.05 0 2.83L4 21.41c.39.39.9.59 1.41.59.51 0 1.02-.2 1.41-.59l7.78-7.78 2.81-2.81c.8-.78.8-2.07 0-2.86zM5.41 20L4 18.59l7.72-7.72 1.47 1.35L5.41 20z\"/>\n",
              "  </svg>\n",
              "      </button>\n",
              "      \n",
              "  <style>\n",
              "    .colab-df-container {\n",
              "      display:flex;\n",
              "      flex-wrap:wrap;\n",
              "      gap: 12px;\n",
              "    }\n",
              "\n",
              "    .colab-df-convert {\n",
              "      background-color: #E8F0FE;\n",
              "      border: none;\n",
              "      border-radius: 50%;\n",
              "      cursor: pointer;\n",
              "      display: none;\n",
              "      fill: #1967D2;\n",
              "      height: 32px;\n",
              "      padding: 0 0 0 0;\n",
              "      width: 32px;\n",
              "    }\n",
              "\n",
              "    .colab-df-convert:hover {\n",
              "      background-color: #E2EBFA;\n",
              "      box-shadow: 0px 1px 2px rgba(60, 64, 67, 0.3), 0px 1px 3px 1px rgba(60, 64, 67, 0.15);\n",
              "      fill: #174EA6;\n",
              "    }\n",
              "\n",
              "    [theme=dark] .colab-df-convert {\n",
              "      background-color: #3B4455;\n",
              "      fill: #D2E3FC;\n",
              "    }\n",
              "\n",
              "    [theme=dark] .colab-df-convert:hover {\n",
              "      background-color: #434B5C;\n",
              "      box-shadow: 0px 1px 3px 1px rgba(0, 0, 0, 0.15);\n",
              "      filter: drop-shadow(0px 1px 2px rgba(0, 0, 0, 0.3));\n",
              "      fill: #FFFFFF;\n",
              "    }\n",
              "  </style>\n",
              "\n",
              "      <script>\n",
              "        const buttonEl =\n",
              "          document.querySelector('#df-5442e34c-91d7-421c-a212-7a7bf6be085e button.colab-df-convert');\n",
              "        buttonEl.style.display =\n",
              "          google.colab.kernel.accessAllowed ? 'block' : 'none';\n",
              "\n",
              "        async function convertToInteractive(key) {\n",
              "          const element = document.querySelector('#df-5442e34c-91d7-421c-a212-7a7bf6be085e');\n",
              "          const dataTable =\n",
              "            await google.colab.kernel.invokeFunction('convertToInteractive',\n",
              "                                                     [key], {});\n",
              "          if (!dataTable) return;\n",
              "\n",
              "          const docLinkHtml = 'Like what you see? Visit the ' +\n",
              "            '<a target=\"_blank\" href=https://colab.research.google.com/notebooks/data_table.ipynb>data table notebook</a>'\n",
              "            + ' to learn more about interactive tables.';\n",
              "          element.innerHTML = '';\n",
              "          dataTable['output_type'] = 'display_data';\n",
              "          await google.colab.output.renderOutput(dataTable, element);\n",
              "          const docLink = document.createElement('div');\n",
              "          docLink.innerHTML = docLinkHtml;\n",
              "          element.appendChild(docLink);\n",
              "        }\n",
              "      </script>\n",
              "    </div>\n",
              "  </div>\n",
              "  "
            ]
          },
          "metadata": {},
          "execution_count": 39
        }
      ],
      "source": [
        "df_agrupado['porcentaje_fum'] = round(df_agrupado[1]/(df_agrupado[1]+df_agrupado[0]),2)*100\n",
        "df_agrupado"
      ]
    },
    {
      "cell_type": "markdown",
      "metadata": {
        "id": "4Kz73VOuHD-_"
      },
      "source": [
        "Ahora veamos si la hipotesis para LDL es correcta o no.  \n",
        "\n",
        "Primero vamos a clasificar los niveles de colesterol relacionados con la variable smoking:"
      ]
    },
    {
      "cell_type": "code",
      "execution_count": null,
      "metadata": {
        "id": "7sC7rfXDPlBk",
        "colab": {
          "base_uri": "https://localhost:8080/",
          "height": 424
        },
        "outputId": "ed4ee99e-97d2-4b30-fb28-efcb2a594607"
      },
      "outputs": [
        {
          "output_type": "execute_result",
          "data": {
            "text/plain": [
              "         LDL clasif_LDL\n",
              "0      126.0     Limite\n",
              "1      127.0     Limite\n",
              "2      151.0     Limite\n",
              "3      226.0       Alto\n",
              "4      107.0     Limite\n",
              "...      ...        ...\n",
              "55687  118.0     Limite\n",
              "55688   79.0   Deseable\n",
              "55689   63.0   Deseable\n",
              "55690  146.0     Limite\n",
              "55691  150.0     Limite\n",
              "\n",
              "[55692 rows x 2 columns]"
            ],
            "text/html": [
              "\n",
              "  <div id=\"df-ec41a890-1740-449b-bdc0-4665ef776805\">\n",
              "    <div class=\"colab-df-container\">\n",
              "      <div>\n",
              "<style scoped>\n",
              "    .dataframe tbody tr th:only-of-type {\n",
              "        vertical-align: middle;\n",
              "    }\n",
              "\n",
              "    .dataframe tbody tr th {\n",
              "        vertical-align: top;\n",
              "    }\n",
              "\n",
              "    .dataframe thead th {\n",
              "        text-align: right;\n",
              "    }\n",
              "</style>\n",
              "<table border=\"1\" class=\"dataframe\">\n",
              "  <thead>\n",
              "    <tr style=\"text-align: right;\">\n",
              "      <th></th>\n",
              "      <th>LDL</th>\n",
              "      <th>clasif_LDL</th>\n",
              "    </tr>\n",
              "  </thead>\n",
              "  <tbody>\n",
              "    <tr>\n",
              "      <th>0</th>\n",
              "      <td>126.0</td>\n",
              "      <td>Limite</td>\n",
              "    </tr>\n",
              "    <tr>\n",
              "      <th>1</th>\n",
              "      <td>127.0</td>\n",
              "      <td>Limite</td>\n",
              "    </tr>\n",
              "    <tr>\n",
              "      <th>2</th>\n",
              "      <td>151.0</td>\n",
              "      <td>Limite</td>\n",
              "    </tr>\n",
              "    <tr>\n",
              "      <th>3</th>\n",
              "      <td>226.0</td>\n",
              "      <td>Alto</td>\n",
              "    </tr>\n",
              "    <tr>\n",
              "      <th>4</th>\n",
              "      <td>107.0</td>\n",
              "      <td>Limite</td>\n",
              "    </tr>\n",
              "    <tr>\n",
              "      <th>...</th>\n",
              "      <td>...</td>\n",
              "      <td>...</td>\n",
              "    </tr>\n",
              "    <tr>\n",
              "      <th>55687</th>\n",
              "      <td>118.0</td>\n",
              "      <td>Limite</td>\n",
              "    </tr>\n",
              "    <tr>\n",
              "      <th>55688</th>\n",
              "      <td>79.0</td>\n",
              "      <td>Deseable</td>\n",
              "    </tr>\n",
              "    <tr>\n",
              "      <th>55689</th>\n",
              "      <td>63.0</td>\n",
              "      <td>Deseable</td>\n",
              "    </tr>\n",
              "    <tr>\n",
              "      <th>55690</th>\n",
              "      <td>146.0</td>\n",
              "      <td>Limite</td>\n",
              "    </tr>\n",
              "    <tr>\n",
              "      <th>55691</th>\n",
              "      <td>150.0</td>\n",
              "      <td>Limite</td>\n",
              "    </tr>\n",
              "  </tbody>\n",
              "</table>\n",
              "<p>55692 rows × 2 columns</p>\n",
              "</div>\n",
              "      <button class=\"colab-df-convert\" onclick=\"convertToInteractive('df-ec41a890-1740-449b-bdc0-4665ef776805')\"\n",
              "              title=\"Convert this dataframe to an interactive table.\"\n",
              "              style=\"display:none;\">\n",
              "        \n",
              "  <svg xmlns=\"http://www.w3.org/2000/svg\" height=\"24px\"viewBox=\"0 0 24 24\"\n",
              "       width=\"24px\">\n",
              "    <path d=\"M0 0h24v24H0V0z\" fill=\"none\"/>\n",
              "    <path d=\"M18.56 5.44l.94 2.06.94-2.06 2.06-.94-2.06-.94-.94-2.06-.94 2.06-2.06.94zm-11 1L8.5 8.5l.94-2.06 2.06-.94-2.06-.94L8.5 2.5l-.94 2.06-2.06.94zm10 10l.94 2.06.94-2.06 2.06-.94-2.06-.94-.94-2.06-.94 2.06-2.06.94z\"/><path d=\"M17.41 7.96l-1.37-1.37c-.4-.4-.92-.59-1.43-.59-.52 0-1.04.2-1.43.59L10.3 9.45l-7.72 7.72c-.78.78-.78 2.05 0 2.83L4 21.41c.39.39.9.59 1.41.59.51 0 1.02-.2 1.41-.59l7.78-7.78 2.81-2.81c.8-.78.8-2.07 0-2.86zM5.41 20L4 18.59l7.72-7.72 1.47 1.35L5.41 20z\"/>\n",
              "  </svg>\n",
              "      </button>\n",
              "      \n",
              "  <style>\n",
              "    .colab-df-container {\n",
              "      display:flex;\n",
              "      flex-wrap:wrap;\n",
              "      gap: 12px;\n",
              "    }\n",
              "\n",
              "    .colab-df-convert {\n",
              "      background-color: #E8F0FE;\n",
              "      border: none;\n",
              "      border-radius: 50%;\n",
              "      cursor: pointer;\n",
              "      display: none;\n",
              "      fill: #1967D2;\n",
              "      height: 32px;\n",
              "      padding: 0 0 0 0;\n",
              "      width: 32px;\n",
              "    }\n",
              "\n",
              "    .colab-df-convert:hover {\n",
              "      background-color: #E2EBFA;\n",
              "      box-shadow: 0px 1px 2px rgba(60, 64, 67, 0.3), 0px 1px 3px 1px rgba(60, 64, 67, 0.15);\n",
              "      fill: #174EA6;\n",
              "    }\n",
              "\n",
              "    [theme=dark] .colab-df-convert {\n",
              "      background-color: #3B4455;\n",
              "      fill: #D2E3FC;\n",
              "    }\n",
              "\n",
              "    [theme=dark] .colab-df-convert:hover {\n",
              "      background-color: #434B5C;\n",
              "      box-shadow: 0px 1px 3px 1px rgba(0, 0, 0, 0.15);\n",
              "      filter: drop-shadow(0px 1px 2px rgba(0, 0, 0, 0.3));\n",
              "      fill: #FFFFFF;\n",
              "    }\n",
              "  </style>\n",
              "\n",
              "      <script>\n",
              "        const buttonEl =\n",
              "          document.querySelector('#df-ec41a890-1740-449b-bdc0-4665ef776805 button.colab-df-convert');\n",
              "        buttonEl.style.display =\n",
              "          google.colab.kernel.accessAllowed ? 'block' : 'none';\n",
              "\n",
              "        async function convertToInteractive(key) {\n",
              "          const element = document.querySelector('#df-ec41a890-1740-449b-bdc0-4665ef776805');\n",
              "          const dataTable =\n",
              "            await google.colab.kernel.invokeFunction('convertToInteractive',\n",
              "                                                     [key], {});\n",
              "          if (!dataTable) return;\n",
              "\n",
              "          const docLinkHtml = 'Like what you see? Visit the ' +\n",
              "            '<a target=\"_blank\" href=https://colab.research.google.com/notebooks/data_table.ipynb>data table notebook</a>'\n",
              "            + ' to learn more about interactive tables.';\n",
              "          element.innerHTML = '';\n",
              "          dataTable['output_type'] = 'display_data';\n",
              "          await google.colab.output.renderOutput(dataTable, element);\n",
              "          const docLink = document.createElement('div');\n",
              "          docLink.innerHTML = docLinkHtml;\n",
              "          element.appendChild(docLink);\n",
              "        }\n",
              "      </script>\n",
              "    </div>\n",
              "  </div>\n",
              "  "
            ]
          },
          "metadata": {},
          "execution_count": 40
        }
      ],
      "source": [
        "df_eda['clasif_LDL'] = np.where((df_eda.LDL < 100),'Deseable','NA')\n",
        "df_eda['clasif_LDL'] = np.where((df_eda.LDL.between(100,159)),'Limite',df_eda.clasif_LDL)\n",
        "df_eda['clasif_LDL'] = np.where((df_eda.LDL >= 160),'Alto',df_eda.clasif_LDL)\n",
        "df_eda[['LDL','clasif_LDL']]"
      ]
    },
    {
      "cell_type": "markdown",
      "metadata": {
        "id": "iUAZ2gyYHSE6"
      },
      "source": [
        "Gráficamos esta clasificación:"
      ]
    },
    {
      "cell_type": "code",
      "execution_count": null,
      "metadata": {
        "id": "0VbrLz8nR4p9",
        "colab": {
          "base_uri": "https://localhost:8080/",
          "height": 319
        },
        "outputId": "e544b9c4-5e45-49c9-b733-30837c73731f"
      },
      "outputs": [
        {
          "output_type": "display_data",
          "data": {
            "text/plain": [
              "<Figure size 432x288 with 1 Axes>"
            ],
            "image/png": "[encoded data removed]"
          },
          "metadata": {
            "needs_background": "light"
          }
        }
      ],
      "source": [
        "df_agrupado = df_eda.groupby(['clasif_LDL','smoking']).size().reset_index().pivot(columns='smoking',index='clasif_LDL',values=0)\n",
        "ax = df_agrupado.plot(kind='bar',color=['#6592b2','#143953'],stacked=True)\n",
        "\n",
        "for p in ax.patches:\n",
        "    width = p.get_width()\n",
        "    height = p.get_height()\n",
        "    x, y = p.get_xy() \n",
        "    ax.annotate(f'{height}', (x + width/2, y + height*1.02), ha='center')\n",
        "\n",
        "plt.show()\n"
      ]
    },
    {
      "cell_type": "markdown",
      "metadata": {
        "id": "Ieb0HVfaLhqr"
      },
      "source": [
        "Veamos la relacion entre LDL y los fumadores y la masa corporal:"
      ]
    },
    {
      "cell_type": "code",
      "execution_count": null,
      "metadata": {
        "id": "5tU8gbQOI8p6",
        "colab": {
          "base_uri": "https://localhost:8080/",
          "height": 424
        },
        "outputId": "f56f5ff4-6c49-48d8-c157-22e6737bb939"
      },
      "outputs": [
        {
          "output_type": "execute_result",
          "data": {
            "text/plain": [
              "         LDL             MC_grupo\n",
              "0      126.0            Saludable\n",
              "1      127.0            Saludable\n",
              "2      151.0            Saludable\n",
              "3      226.0            Sobrepeso\n",
              "4      107.0            Saludable\n",
              "...      ...                  ...\n",
              "55687  118.0            Saludable\n",
              "55688   79.0  Debajo de lo normal\n",
              "55689   63.0  Debajo de lo normal\n",
              "55690  146.0            Saludable\n",
              "55691  150.0            Saludable\n",
              "\n",
              "[55692 rows x 2 columns]"
            ],
            "text/html": [
              "\n",
              "  <div id=\"df-a81a2223-f340-4875-9d53-1c98645765e1\">\n",
              "    <div class=\"colab-df-container\">\n",
              "      <div>\n",
              "<style scoped>\n",
              "    .dataframe tbody tr th:only-of-type {\n",
              "        vertical-align: middle;\n",
              "    }\n",
              "\n",
              "    .dataframe tbody tr th {\n",
              "        vertical-align: top;\n",
              "    }\n",
              "\n",
              "    .dataframe thead th {\n",
              "        text-align: right;\n",
              "    }\n",
              "</style>\n",
              "<table border=\"1\" class=\"dataframe\">\n",
              "  <thead>\n",
              "    <tr style=\"text-align: right;\">\n",
              "      <th></th>\n",
              "      <th>LDL</th>\n",
              "      <th>MC_grupo</th>\n",
              "    </tr>\n",
              "  </thead>\n",
              "  <tbody>\n",
              "    <tr>\n",
              "      <th>0</th>\n",
              "      <td>126.0</td>\n",
              "      <td>Saludable</td>\n",
              "    </tr>\n",
              "    <tr>\n",
              "      <th>1</th>\n",
              "      <td>127.0</td>\n",
              "      <td>Saludable</td>\n",
              "    </tr>\n",
              "    <tr>\n",
              "      <th>2</th>\n",
              "      <td>151.0</td>\n",
              "      <td>Saludable</td>\n",
              "    </tr>\n",
              "    <tr>\n",
              "      <th>3</th>\n",
              "      <td>226.0</td>\n",
              "      <td>Sobrepeso</td>\n",
              "    </tr>\n",
              "    <tr>\n",
              "      <th>4</th>\n",
              "      <td>107.0</td>\n",
              "      <td>Saludable</td>\n",
              "    </tr>\n",
              "    <tr>\n",
              "      <th>...</th>\n",
              "      <td>...</td>\n",
              "      <td>...</td>\n",
              "    </tr>\n",
              "    <tr>\n",
              "      <th>55687</th>\n",
              "      <td>118.0</td>\n",
              "      <td>Saludable</td>\n",
              "    </tr>\n",
              "    <tr>\n",
              "      <th>55688</th>\n",
              "      <td>79.0</td>\n",
              "      <td>Debajo de lo normal</td>\n",
              "    </tr>\n",
              "    <tr>\n",
              "      <th>55689</th>\n",
              "      <td>63.0</td>\n",
              "      <td>Debajo de lo normal</td>\n",
              "    </tr>\n",
              "    <tr>\n",
              "      <th>55690</th>\n",
              "      <td>146.0</td>\n",
              "      <td>Saludable</td>\n",
              "    </tr>\n",
              "    <tr>\n",
              "      <th>55691</th>\n",
              "      <td>150.0</td>\n",
              "      <td>Saludable</td>\n",
              "    </tr>\n",
              "  </tbody>\n",
              "</table>\n",
              "<p>55692 rows × 2 columns</p>\n",
              "</div>\n",
              "      <button class=\"colab-df-convert\" onclick=\"convertToInteractive('df-a81a2223-f340-4875-9d53-1c98645765e1')\"\n",
              "              title=\"Convert this dataframe to an interactive table.\"\n",
              "              style=\"display:none;\">\n",
              "        \n",
              "  <svg xmlns=\"http://www.w3.org/2000/svg\" height=\"24px\"viewBox=\"0 0 24 24\"\n",
              "       width=\"24px\">\n",
              "    <path d=\"M0 0h24v24H0V0z\" fill=\"none\"/>\n",
              "    <path d=\"M18.56 5.44l.94 2.06.94-2.06 2.06-.94-2.06-.94-.94-2.06-.94 2.06-2.06.94zm-11 1L8.5 8.5l.94-2.06 2.06-.94-2.06-.94L8.5 2.5l-.94 2.06-2.06.94zm10 10l.94 2.06.94-2.06 2.06-.94-2.06-.94-.94-2.06-.94 2.06-2.06.94z\"/><path d=\"M17.41 7.96l-1.37-1.37c-.4-.4-.92-.59-1.43-.59-.52 0-1.04.2-1.43.59L10.3 9.45l-7.72 7.72c-.78.78-.78 2.05 0 2.83L4 21.41c.39.39.9.59 1.41.59.51 0 1.02-.2 1.41-.59l7.78-7.78 2.81-2.81c.8-.78.8-2.07 0-2.86zM5.41 20L4 18.59l7.72-7.72 1.47 1.35L5.41 20z\"/>\n",
              "  </svg>\n",
              "      </button>\n",
              "      \n",
              "  <style>\n",
              "    .colab-df-container {\n",
              "      display:flex;\n",
              "      flex-wrap:wrap;\n",
              "      gap: 12px;\n",
              "    }\n",
              "\n",
              "    .colab-df-convert {\n",
              "      background-color: #E8F0FE;\n",
              "      border: none;\n",
              "      border-radius: 50%;\n",
              "      cursor: pointer;\n",
              "      display: none;\n",
              "      fill: #1967D2;\n",
              "      height: 32px;\n",
              "      padding: 0 0 0 0;\n",
              "      width: 32px;\n",
              "    }\n",
              "\n",
              "    .colab-df-convert:hover {\n",
              "      background-color: #E2EBFA;\n",
              "      box-shadow: 0px 1px 2px rgba(60, 64, 67, 0.3), 0px 1px 3px 1px rgba(60, 64, 67, 0.15);\n",
              "      fill: #174EA6;\n",
              "    }\n",
              "\n",
              "    [theme=dark] .colab-df-convert {\n",
              "      background-color: #3B4455;\n",
              "      fill: #D2E3FC;\n",
              "    }\n",
              "\n",
              "    [theme=dark] .colab-df-convert:hover {\n",
              "      background-color: #434B5C;\n",
              "      box-shadow: 0px 1px 3px 1px rgba(0, 0, 0, 0.15);\n",
              "      filter: drop-shadow(0px 1px 2px rgba(0, 0, 0, 0.3));\n",
              "      fill: #FFFFFF;\n",
              "    }\n",
              "  </style>\n",
              "\n",
              "      <script>\n",
              "        const buttonEl =\n",
              "          document.querySelector('#df-a81a2223-f340-4875-9d53-1c98645765e1 button.colab-df-convert');\n",
              "        buttonEl.style.display =\n",
              "          google.colab.kernel.accessAllowed ? 'block' : 'none';\n",
              "\n",
              "        async function convertToInteractive(key) {\n",
              "          const element = document.querySelector('#df-a81a2223-f340-4875-9d53-1c98645765e1');\n",
              "          const dataTable =\n",
              "            await google.colab.kernel.invokeFunction('convertToInteractive',\n",
              "                                                     [key], {});\n",
              "          if (!dataTable) return;\n",
              "\n",
              "          const docLinkHtml = 'Like what you see? Visit the ' +\n",
              "            '<a target=\"_blank\" href=https://colab.research.google.com/notebooks/data_table.ipynb>data table notebook</a>'\n",
              "            + ' to learn more about interactive tables.';\n",
              "          element.innerHTML = '';\n",
              "          dataTable['output_type'] = 'display_data';\n",
              "          await google.colab.output.renderOutput(dataTable, element);\n",
              "          const docLink = document.createElement('div');\n",
              "          docLink.innerHTML = docLinkHtml;\n",
              "          element.appendChild(docLink);\n",
              "        }\n",
              "      </script>\n",
              "    </div>\n",
              "  </div>\n",
              "  "
            ]
          },
          "metadata": {},
          "execution_count": 42
        }
      ],
      "source": [
        "df_eda['MC_grupo'] = np.where((df_eda['weight(kg)'] < 60),'Debajo de lo normal','NA')\n",
        "df_eda['MC_grupo'] = np.where((df_eda['weight(kg)'].between (60,70)),'Saludable',df_eda.MC_grupo)\n",
        "df_eda['MC_grupo'] = np.where((df_eda['weight(kg)'].between(70,100)),'Sobrepeso',df_eda.MC_grupo)\n",
        "df_eda['MC_grupo'] = np.where((df_eda['weight(kg)'] > 100),'Obesidad',df_eda.MC_grupo)\n",
        "df_eda[['LDL','MC_grupo']]"
      ]
    },
    {
      "cell_type": "markdown",
      "metadata": {
        "id": "n6ww6OyMLtsy"
      },
      "source": [
        "Gráficamos la relación:"
      ]
    },
    {
      "cell_type": "code",
      "execution_count": null,
      "metadata": {
        "id": "2TBlQGXPImFc",
        "colab": {
          "base_uri": "https://localhost:8080/",
          "height": 352
        },
        "outputId": "75e43ba6-9d8c-4e3d-f944-708261fcdac0"
      },
      "outputs": [
        {
          "output_type": "display_data",
          "data": {
            "text/plain": [
              "<Figure size 360x360 with 1 Axes>"
            ],
            "image/png": "[encoded data removed]"
          },
          "metadata": {
            "needs_background": "light"
          }
        }
      ],
      "source": [
        "fig5, ax=plt.subplots(figsize=(5,5)) \n",
        "sns.countplot(x=df_eda.clasif_LDL, hue=df_eda.MC_grupo, palette='Blues')\n",
        "#for p in ax.patches:\n",
        "    #ax.annotate(f'\\n{p.get_height()}', (p.get_x()+0.2, p.get_height()), ha='center', va='top', color='black', size=10)\n",
        "plt.xlabel('clasif_LDL', fontsize=10, fontweight='bold')\n",
        "plt.ylabel('Cantidad', fontsize=10, fontweight='bold')\n",
        "plt.title('LDL y Fumadores', fontweight = 'bold', fontsize='15')\n",
        "\n",
        "for p in ax.patches:\n",
        "    width = p.get_width()\n",
        "    height = p.get_height()\n",
        "    x, y = p.get_xy() \n",
        "    ax.annotate(f'{height}', (x + width/2, y + height*1.02), ha='center')\n",
        "\n",
        "plt.show()"
      ]
    },
    {
      "cell_type": "markdown",
      "metadata": {
        "id": "gWPQfE4LHVMK"
      },
      "source": [
        "Agrupamos para ver el detalle:"
      ]
    },
    {
      "cell_type": "code",
      "execution_count": null,
      "metadata": {
        "id": "70sxG__OVjJL",
        "colab": {
          "base_uri": "https://localhost:8080/",
          "height": 175
        },
        "outputId": "ee9544b5-3c60-4063-dbf6-47f6a0611299"
      },
      "outputs": [
        {
          "output_type": "execute_result",
          "data": {
            "text/plain": [
              "smoking         0      1  porcentaje_fum\n",
              "clasif_LDL                              \n",
              "Alto         3447   1681            33.0\n",
              "Deseable    11365   7538            40.0\n",
              "Limite      20425  11236            35.0"
            ],
            "text/html": [
              "\n",
              "  <div id=\"df-62990734-79b6-484e-8d27-b425b5b4e214\">\n",
              "    <div class=\"colab-df-container\">\n",
              "      <div>\n",
              "<style scoped>\n",
              "    .dataframe tbody tr th:only-of-type {\n",
              "        vertical-align: middle;\n",
              "    }\n",
              "\n",
              "    .dataframe tbody tr th {\n",
              "        vertical-align: top;\n",
              "    }\n",
              "\n",
              "    .dataframe thead th {\n",
              "        text-align: right;\n",
              "    }\n",
              "</style>\n",
              "<table border=\"1\" class=\"dataframe\">\n",
              "  <thead>\n",
              "    <tr style=\"text-align: right;\">\n",
              "      <th>smoking</th>\n",
              "      <th>0</th>\n",
              "      <th>1</th>\n",
              "      <th>porcentaje_fum</th>\n",
              "    </tr>\n",
              "    <tr>\n",
              "      <th>clasif_LDL</th>\n",
              "      <th></th>\n",
              "      <th></th>\n",
              "      <th></th>\n",
              "    </tr>\n",
              "  </thead>\n",
              "  <tbody>\n",
              "    <tr>\n",
              "      <th>Alto</th>\n",
              "      <td>3447</td>\n",
              "      <td>1681</td>\n",
              "      <td>33.0</td>\n",
              "    </tr>\n",
              "    <tr>\n",
              "      <th>Deseable</th>\n",
              "      <td>11365</td>\n",
              "      <td>7538</td>\n",
              "      <td>40.0</td>\n",
              "    </tr>\n",
              "    <tr>\n",
              "      <th>Limite</th>\n",
              "      <td>20425</td>\n",
              "      <td>11236</td>\n",
              "      <td>35.0</td>\n",
              "    </tr>\n",
              "  </tbody>\n",
              "</table>\n",
              "</div>\n",
              "      <button class=\"colab-df-convert\" onclick=\"convertToInteractive('df-62990734-79b6-484e-8d27-b425b5b4e214')\"\n",
              "              title=\"Convert this dataframe to an interactive table.\"\n",
              "              style=\"display:none;\">\n",
              "        \n",
              "  <svg xmlns=\"http://www.w3.org/2000/svg\" height=\"24px\"viewBox=\"0 0 24 24\"\n",
              "       width=\"24px\">\n",
              "    <path d=\"M0 0h24v24H0V0z\" fill=\"none\"/>\n",
              "    <path d=\"M18.56 5.44l.94 2.06.94-2.06 2.06-.94-2.06-.94-.94-2.06-.94 2.06-2.06.94zm-11 1L8.5 8.5l.94-2.06 2.06-.94-2.06-.94L8.5 2.5l-.94 2.06-2.06.94zm10 10l.94 2.06.94-2.06 2.06-.94-2.06-.94-.94-2.06-.94 2.06-2.06.94z\"/><path d=\"M17.41 7.96l-1.37-1.37c-.4-.4-.92-.59-1.43-.59-.52 0-1.04.2-1.43.59L10.3 9.45l-7.72 7.72c-.78.78-.78 2.05 0 2.83L4 21.41c.39.39.9.59 1.41.59.51 0 1.02-.2 1.41-.59l7.78-7.78 2.81-2.81c.8-.78.8-2.07 0-2.86zM5.41 20L4 18.59l7.72-7.72 1.47 1.35L5.41 20z\"/>\n",
              "  </svg>\n",
              "      </button>\n",
              "      \n",
              "  <style>\n",
              "    .colab-df-container {\n",
              "      display:flex;\n",
              "      flex-wrap:wrap;\n",
              "      gap: 12px;\n",
              "    }\n",
              "\n",
              "    .colab-df-convert {\n",
              "      background-color: #E8F0FE;\n",
              "      border: none;\n",
              "      border-radius: 50%;\n",
              "      cursor: pointer;\n",
              "      display: none;\n",
              "      fill: #1967D2;\n",
              "      height: 32px;\n",
              "      padding: 0 0 0 0;\n",
              "      width: 32px;\n",
              "    }\n",
              "\n",
              "    .colab-df-convert:hover {\n",
              "      background-color: #E2EBFA;\n",
              "      box-shadow: 0px 1px 2px rgba(60, 64, 67, 0.3), 0px 1px 3px 1px rgba(60, 64, 67, 0.15);\n",
              "      fill: #174EA6;\n",
              "    }\n",
              "\n",
              "    [theme=dark] .colab-df-convert {\n",
              "      background-color: #3B4455;\n",
              "      fill: #D2E3FC;\n",
              "    }\n",
              "\n",
              "    [theme=dark] .colab-df-convert:hover {\n",
              "      background-color: #434B5C;\n",
              "      box-shadow: 0px 1px 3px 1px rgba(0, 0, 0, 0.15);\n",
              "      filter: drop-shadow(0px 1px 2px rgba(0, 0, 0, 0.3));\n",
              "      fill: #FFFFFF;\n",
              "    }\n",
              "  </style>\n",
              "\n",
              "      <script>\n",
              "        const buttonEl =\n",
              "          document.querySelector('#df-62990734-79b6-484e-8d27-b425b5b4e214 button.colab-df-convert');\n",
              "        buttonEl.style.display =\n",
              "          google.colab.kernel.accessAllowed ? 'block' : 'none';\n",
              "\n",
              "        async function convertToInteractive(key) {\n",
              "          const element = document.querySelector('#df-62990734-79b6-484e-8d27-b425b5b4e214');\n",
              "          const dataTable =\n",
              "            await google.colab.kernel.invokeFunction('convertToInteractive',\n",
              "                                                     [key], {});\n",
              "          if (!dataTable) return;\n",
              "\n",
              "          const docLinkHtml = 'Like what you see? Visit the ' +\n",
              "            '<a target=\"_blank\" href=https://colab.research.google.com/notebooks/data_table.ipynb>data table notebook</a>'\n",
              "            + ' to learn more about interactive tables.';\n",
              "          element.innerHTML = '';\n",
              "          dataTable['output_type'] = 'display_data';\n",
              "          await google.colab.output.renderOutput(dataTable, element);\n",
              "          const docLink = document.createElement('div');\n",
              "          docLink.innerHTML = docLinkHtml;\n",
              "          element.appendChild(docLink);\n",
              "        }\n",
              "      </script>\n",
              "    </div>\n",
              "  </div>\n",
              "  "
            ]
          },
          "metadata": {},
          "execution_count": 44
        }
      ],
      "source": [
        "df_agrupado['porcentaje_fum'] = round(df_agrupado[1]/(df_agrupado[1]+df_agrupado[0]),2)*100\n",
        "df_agrupado"
      ]
    },
    {
      "cell_type": "markdown",
      "metadata": {
        "id": "qXhn8dNWNpmO"
      },
      "source": [
        "Resumen númerico:  "
      ]
    },
    {
      "cell_type": "code",
      "execution_count": null,
      "metadata": {
        "id": "Z28qsjYoNslX",
        "colab": {
          "base_uri": "https://localhost:8080/",
          "height": 300
        },
        "outputId": "ab49e299-b3b4-4b1a-f4da-10e91bb1de5a"
      },
      "outputs": [
        {
          "output_type": "execute_result",
          "data": {
            "text/plain": [
              "smoking        0        1  porcentaje_fum\n",
              "count        3.0      3.0             3.0\n",
              "mean     11746.0   6818.0            36.0\n",
              "std       8495.0   4818.0             4.0\n",
              "min       3447.0   1681.0            33.0\n",
              "25%       7406.0   4610.0            34.0\n",
              "50%      11365.0   7538.0            35.0\n",
              "75%      15895.0   9387.0            38.0\n",
              "max      20425.0  11236.0            40.0"
            ],
            "text/html": [
              "\n",
              "  <div id=\"df-e4f951ca-d5d2-44c8-a9f4-161e05795872\">\n",
              "    <div class=\"colab-df-container\">\n",
              "      <div>\n",
              "<style scoped>\n",
              "    .dataframe tbody tr th:only-of-type {\n",
              "        vertical-align: middle;\n",
              "    }\n",
              "\n",
              "    .dataframe tbody tr th {\n",
              "        vertical-align: top;\n",
              "    }\n",
              "\n",
              "    .dataframe thead th {\n",
              "        text-align: right;\n",
              "    }\n",
              "</style>\n",
              "<table border=\"1\" class=\"dataframe\">\n",
              "  <thead>\n",
              "    <tr style=\"text-align: right;\">\n",
              "      <th>smoking</th>\n",
              "      <th>0</th>\n",
              "      <th>1</th>\n",
              "      <th>porcentaje_fum</th>\n",
              "    </tr>\n",
              "  </thead>\n",
              "  <tbody>\n",
              "    <tr>\n",
              "      <th>count</th>\n",
              "      <td>3.0</td>\n",
              "      <td>3.0</td>\n",
              "      <td>3.0</td>\n",
              "    </tr>\n",
              "    <tr>\n",
              "      <th>mean</th>\n",
              "      <td>11746.0</td>\n",
              "      <td>6818.0</td>\n",
              "      <td>36.0</td>\n",
              "    </tr>\n",
              "    <tr>\n",
              "      <th>std</th>\n",
              "      <td>8495.0</td>\n",
              "      <td>4818.0</td>\n",
              "      <td>4.0</td>\n",
              "    </tr>\n",
              "    <tr>\n",
              "      <th>min</th>\n",
              "      <td>3447.0</td>\n",
              "      <td>1681.0</td>\n",
              "      <td>33.0</td>\n",
              "    </tr>\n",
              "    <tr>\n",
              "      <th>25%</th>\n",
              "      <td>7406.0</td>\n",
              "      <td>4610.0</td>\n",
              "      <td>34.0</td>\n",
              "    </tr>\n",
              "    <tr>\n",
              "      <th>50%</th>\n",
              "      <td>11365.0</td>\n",
              "      <td>7538.0</td>\n",
              "      <td>35.0</td>\n",
              "    </tr>\n",
              "    <tr>\n",
              "      <th>75%</th>\n",
              "      <td>15895.0</td>\n",
              "      <td>9387.0</td>\n",
              "      <td>38.0</td>\n",
              "    </tr>\n",
              "    <tr>\n",
              "      <th>max</th>\n",
              "      <td>20425.0</td>\n",
              "      <td>11236.0</td>\n",
              "      <td>40.0</td>\n",
              "    </tr>\n",
              "  </tbody>\n",
              "</table>\n",
              "</div>\n",
              "      <button class=\"colab-df-convert\" onclick=\"convertToInteractive('df-e4f951ca-d5d2-44c8-a9f4-161e05795872')\"\n",
              "              title=\"Convert this dataframe to an interactive table.\"\n",
              "              style=\"display:none;\">\n",
              "        \n",
              "  <svg xmlns=\"http://www.w3.org/2000/svg\" height=\"24px\"viewBox=\"0 0 24 24\"\n",
              "       width=\"24px\">\n",
              "    <path d=\"M0 0h24v24H0V0z\" fill=\"none\"/>\n",
              "    <path d=\"M18.56 5.44l.94 2.06.94-2.06 2.06-.94-2.06-.94-.94-2.06-.94 2.06-2.06.94zm-11 1L8.5 8.5l.94-2.06 2.06-.94-2.06-.94L8.5 2.5l-.94 2.06-2.06.94zm10 10l.94 2.06.94-2.06 2.06-.94-2.06-.94-.94-2.06-.94 2.06-2.06.94z\"/><path d=\"M17.41 7.96l-1.37-1.37c-.4-.4-.92-.59-1.43-.59-.52 0-1.04.2-1.43.59L10.3 9.45l-7.72 7.72c-.78.78-.78 2.05 0 2.83L4 21.41c.39.39.9.59 1.41.59.51 0 1.02-.2 1.41-.59l7.78-7.78 2.81-2.81c.8-.78.8-2.07 0-2.86zM5.41 20L4 18.59l7.72-7.72 1.47 1.35L5.41 20z\"/>\n",
              "  </svg>\n",
              "      </button>\n",
              "      \n",
              "  <style>\n",
              "    .colab-df-container {\n",
              "      display:flex;\n",
              "      flex-wrap:wrap;\n",
              "      gap: 12px;\n",
              "    }\n",
              "\n",
              "    .colab-df-convert {\n",
              "      background-color: #E8F0FE;\n",
              "      border: none;\n",
              "      border-radius: 50%;\n",
              "      cursor: pointer;\n",
              "      display: none;\n",
              "      fill: #1967D2;\n",
              "      height: 32px;\n",
              "      padding: 0 0 0 0;\n",
              "      width: 32px;\n",
              "    }\n",
              "\n",
              "    .colab-df-convert:hover {\n",
              "      background-color: #E2EBFA;\n",
              "      box-shadow: 0px 1px 2px rgba(60, 64, 67, 0.3), 0px 1px 3px 1px rgba(60, 64, 67, 0.15);\n",
              "      fill: #174EA6;\n",
              "    }\n",
              "\n",
              "    [theme=dark] .colab-df-convert {\n",
              "      background-color: #3B4455;\n",
              "      fill: #D2E3FC;\n",
              "    }\n",
              "\n",
              "    [theme=dark] .colab-df-convert:hover {\n",
              "      background-color: #434B5C;\n",
              "      box-shadow: 0px 1px 3px 1px rgba(0, 0, 0, 0.15);\n",
              "      filter: drop-shadow(0px 1px 2px rgba(0, 0, 0, 0.3));\n",
              "      fill: #FFFFFF;\n",
              "    }\n",
              "  </style>\n",
              "\n",
              "      <script>\n",
              "        const buttonEl =\n",
              "          document.querySelector('#df-e4f951ca-d5d2-44c8-a9f4-161e05795872 button.colab-df-convert');\n",
              "        buttonEl.style.display =\n",
              "          google.colab.kernel.accessAllowed ? 'block' : 'none';\n",
              "\n",
              "        async function convertToInteractive(key) {\n",
              "          const element = document.querySelector('#df-e4f951ca-d5d2-44c8-a9f4-161e05795872');\n",
              "          const dataTable =\n",
              "            await google.colab.kernel.invokeFunction('convertToInteractive',\n",
              "                                                     [key], {});\n",
              "          if (!dataTable) return;\n",
              "\n",
              "          const docLinkHtml = 'Like what you see? Visit the ' +\n",
              "            '<a target=\"_blank\" href=https://colab.research.google.com/notebooks/data_table.ipynb>data table notebook</a>'\n",
              "            + ' to learn more about interactive tables.';\n",
              "          element.innerHTML = '';\n",
              "          dataTable['output_type'] = 'display_data';\n",
              "          await google.colab.output.renderOutput(dataTable, element);\n",
              "          const docLink = document.createElement('div');\n",
              "          docLink.innerHTML = docLinkHtml;\n",
              "          element.appendChild(docLink);\n",
              "        }\n",
              "      </script>\n",
              "    </div>\n",
              "  </div>\n",
              "  "
            ]
          },
          "metadata": {},
          "execution_count": 45
        }
      ],
      "source": [
        "df_agrupado.describe().round()"
      ]
    },
    {
      "cell_type": "markdown",
      "metadata": {
        "id": "l6iYq7xHN5qS"
      },
      "source": [
        "**Respuesta:**  \n",
        "Hipotesis falsa: Al contrario del HDL, el analisis muestra que los no fumadores tienen mas LDL que los que fuman.  \n",
        "Y el promedio de LDL es mas alto para ambos generos que no fuman."
      ]
    },
    {
      "cell_type": "markdown",
      "metadata": {
        "id": "ZkPIT7O1PIrz"
      },
      "source": [
        "## **¿Los fumadores tienen una mayor probabilidad de enfermedades del corazón?**  \n",
        "Para medir el estado del corazón o predecir quién es propenso a las enfermedades cadiovazculares, la presión arterial sistólica y diastólica (relajada) son métricas comúnmente utilizadas.  \n",
        "Para mas informacion ver el siguiente enlace:  \n",
        "https://www.heart.org/en/health-topics/high-blood-pressure/understanding-blood-pressure-readings"
      ]
    },
    {
      "cell_type": "code",
      "execution_count": null,
      "metadata": {
        "id": "3DhKgS5EPQN8",
        "colab": {
          "base_uri": "https://localhost:8080/",
          "height": 424
        },
        "outputId": "e688c492-e7c0-48f3-8865-f4d6261d671a"
      },
      "outputs": [
        {
          "output_type": "execute_result",
          "data": {
            "text/plain": [
              "          presion  systolic  relaxation\n",
              "0       1. Optimo     114.0        73.0\n",
              "1       1. Optimo     119.0        70.0\n",
              "2      3. Elevado     138.0        86.0\n",
              "3       1. Optimo     100.0        60.0\n",
              "4       2. Normal     120.0        74.0\n",
              "...           ...       ...         ...\n",
              "55687   1. Optimo     110.0        68.0\n",
              "55688   1. Optimo     101.0        62.0\n",
              "55689   1. Optimo     117.0        72.0\n",
              "55690  3. Elevado     133.0        76.0\n",
              "55691   2. Normal     124.0        75.0\n",
              "\n",
              "[55692 rows x 3 columns]"
            ],
            "text/html": [
              "\n",
              "  <div id=\"df-2647fb6c-eb8e-4242-ac5a-86a0ab44fff2\">\n",
              "    <div class=\"colab-df-container\">\n",
              "      <div>\n",
              "<style scoped>\n",
              "    .dataframe tbody tr th:only-of-type {\n",
              "        vertical-align: middle;\n",
              "    }\n",
              "\n",
              "    .dataframe tbody tr th {\n",
              "        vertical-align: top;\n",
              "    }\n",
              "\n",
              "    .dataframe thead th {\n",
              "        text-align: right;\n",
              "    }\n",
              "</style>\n",
              "<table border=\"1\" class=\"dataframe\">\n",
              "  <thead>\n",
              "    <tr style=\"text-align: right;\">\n",
              "      <th></th>\n",
              "      <th>presion</th>\n",
              "      <th>systolic</th>\n",
              "      <th>relaxation</th>\n",
              "    </tr>\n",
              "  </thead>\n",
              "  <tbody>\n",
              "    <tr>\n",
              "      <th>0</th>\n",
              "      <td>1. Optimo</td>\n",
              "      <td>114.0</td>\n",
              "      <td>73.0</td>\n",
              "    </tr>\n",
              "    <tr>\n",
              "      <th>1</th>\n",
              "      <td>1. Optimo</td>\n",
              "      <td>119.0</td>\n",
              "      <td>70.0</td>\n",
              "    </tr>\n",
              "    <tr>\n",
              "      <th>2</th>\n",
              "      <td>3. Elevado</td>\n",
              "      <td>138.0</td>\n",
              "      <td>86.0</td>\n",
              "    </tr>\n",
              "    <tr>\n",
              "      <th>3</th>\n",
              "      <td>1. Optimo</td>\n",
              "      <td>100.0</td>\n",
              "      <td>60.0</td>\n",
              "    </tr>\n",
              "    <tr>\n",
              "      <th>4</th>\n",
              "      <td>2. Normal</td>\n",
              "      <td>120.0</td>\n",
              "      <td>74.0</td>\n",
              "    </tr>\n",
              "    <tr>\n",
              "      <th>...</th>\n",
              "      <td>...</td>\n",
              "      <td>...</td>\n",
              "      <td>...</td>\n",
              "    </tr>\n",
              "    <tr>\n",
              "      <th>55687</th>\n",
              "      <td>1. Optimo</td>\n",
              "      <td>110.0</td>\n",
              "      <td>68.0</td>\n",
              "    </tr>\n",
              "    <tr>\n",
              "      <th>55688</th>\n",
              "      <td>1. Optimo</td>\n",
              "      <td>101.0</td>\n",
              "      <td>62.0</td>\n",
              "    </tr>\n",
              "    <tr>\n",
              "      <th>55689</th>\n",
              "      <td>1. Optimo</td>\n",
              "      <td>117.0</td>\n",
              "      <td>72.0</td>\n",
              "    </tr>\n",
              "    <tr>\n",
              "      <th>55690</th>\n",
              "      <td>3. Elevado</td>\n",
              "      <td>133.0</td>\n",
              "      <td>76.0</td>\n",
              "    </tr>\n",
              "    <tr>\n",
              "      <th>55691</th>\n",
              "      <td>2. Normal</td>\n",
              "      <td>124.0</td>\n",
              "      <td>75.0</td>\n",
              "    </tr>\n",
              "  </tbody>\n",
              "</table>\n",
              "<p>55692 rows × 3 columns</p>\n",
              "</div>\n",
              "      <button class=\"colab-df-convert\" onclick=\"convertToInteractive('df-2647fb6c-eb8e-4242-ac5a-86a0ab44fff2')\"\n",
              "              title=\"Convert this dataframe to an interactive table.\"\n",
              "              style=\"display:none;\">\n",
              "        \n",
              "  <svg xmlns=\"http://www.w3.org/2000/svg\" height=\"24px\"viewBox=\"0 0 24 24\"\n",
              "       width=\"24px\">\n",
              "    <path d=\"M0 0h24v24H0V0z\" fill=\"none\"/>\n",
              "    <path d=\"M18.56 5.44l.94 2.06.94-2.06 2.06-.94-2.06-.94-.94-2.06-.94 2.06-2.06.94zm-11 1L8.5 8.5l.94-2.06 2.06-.94-2.06-.94L8.5 2.5l-.94 2.06-2.06.94zm10 10l.94 2.06.94-2.06 2.06-.94-2.06-.94-.94-2.06-.94 2.06-2.06.94z\"/><path d=\"M17.41 7.96l-1.37-1.37c-.4-.4-.92-.59-1.43-.59-.52 0-1.04.2-1.43.59L10.3 9.45l-7.72 7.72c-.78.78-.78 2.05 0 2.83L4 21.41c.39.39.9.59 1.41.59.51 0 1.02-.2 1.41-.59l7.78-7.78 2.81-2.81c.8-.78.8-2.07 0-2.86zM5.41 20L4 18.59l7.72-7.72 1.47 1.35L5.41 20z\"/>\n",
              "  </svg>\n",
              "      </button>\n",
              "      \n",
              "  <style>\n",
              "    .colab-df-container {\n",
              "      display:flex;\n",
              "      flex-wrap:wrap;\n",
              "      gap: 12px;\n",
              "    }\n",
              "\n",
              "    .colab-df-convert {\n",
              "      background-color: #E8F0FE;\n",
              "      border: none;\n",
              "      border-radius: 50%;\n",
              "      cursor: pointer;\n",
              "      display: none;\n",
              "      fill: #1967D2;\n",
              "      height: 32px;\n",
              "      padding: 0 0 0 0;\n",
              "      width: 32px;\n",
              "    }\n",
              "\n",
              "    .colab-df-convert:hover {\n",
              "      background-color: #E2EBFA;\n",
              "      box-shadow: 0px 1px 2px rgba(60, 64, 67, 0.3), 0px 1px 3px 1px rgba(60, 64, 67, 0.15);\n",
              "      fill: #174EA6;\n",
              "    }\n",
              "\n",
              "    [theme=dark] .colab-df-convert {\n",
              "      background-color: #3B4455;\n",
              "      fill: #D2E3FC;\n",
              "    }\n",
              "\n",
              "    [theme=dark] .colab-df-convert:hover {\n",
              "      background-color: #434B5C;\n",
              "      box-shadow: 0px 1px 3px 1px rgba(0, 0, 0, 0.15);\n",
              "      filter: drop-shadow(0px 1px 2px rgba(0, 0, 0, 0.3));\n",
              "      fill: #FFFFFF;\n",
              "    }\n",
              "  </style>\n",
              "\n",
              "      <script>\n",
              "        const buttonEl =\n",
              "          document.querySelector('#df-2647fb6c-eb8e-4242-ac5a-86a0ab44fff2 button.colab-df-convert');\n",
              "        buttonEl.style.display =\n",
              "          google.colab.kernel.accessAllowed ? 'block' : 'none';\n",
              "\n",
              "        async function convertToInteractive(key) {\n",
              "          const element = document.querySelector('#df-2647fb6c-eb8e-4242-ac5a-86a0ab44fff2');\n",
              "          const dataTable =\n",
              "            await google.colab.kernel.invokeFunction('convertToInteractive',\n",
              "                                                     [key], {});\n",
              "          if (!dataTable) return;\n",
              "\n",
              "          const docLinkHtml = 'Like what you see? Visit the ' +\n",
              "            '<a target=\"_blank\" href=https://colab.research.google.com/notebooks/data_table.ipynb>data table notebook</a>'\n",
              "            + ' to learn more about interactive tables.';\n",
              "          element.innerHTML = '';\n",
              "          dataTable['output_type'] = 'display_data';\n",
              "          await google.colab.output.renderOutput(dataTable, element);\n",
              "          const docLink = document.createElement('div');\n",
              "          docLink.innerHTML = docLinkHtml;\n",
              "          element.appendChild(docLink);\n",
              "        }\n",
              "      </script>\n",
              "    </div>\n",
              "  </div>\n",
              "  "
            ]
          },
          "metadata": {},
          "execution_count": 46
        }
      ],
      "source": [
        "df_eda['presion'] = np.where((df_eda.relaxation < 80) & (df_eda.systolic<120) ,'1. Optimo','NA')\n",
        "df_eda['presion'] = np.where((df_eda.relaxation.between(80,84) | df_eda.systolic.between(120,129) ),'2. Normal',df_eda.presion)\n",
        "df_eda['presion'] = np.where((df_eda.relaxation.between(85,89) | df_eda.systolic.between(130,139) ),'3. Elevado',df_eda.presion)\n",
        "df_eda['presion'] = np.where((df_eda.relaxation.between(90,99) | df_eda.systolic.between(140,159) ),'4. Hipertension Grado I',df_eda.presion)\n",
        "df_eda['presion'] = np.where((df_eda.relaxation>=100) | (df_eda.systolic>=160) ,'5. Hipertension Grado II y III',df_eda.presion)\n",
        "df_eda[['presion','systolic','relaxation']]"
      ]
    },
    {
      "cell_type": "code",
      "execution_count": null,
      "metadata": {
        "id": "-8q4Xpxk9osd",
        "colab": {
          "base_uri": "https://localhost:8080/",
          "height": 412
        },
        "outputId": "594c7c51-b159-4ddf-f07f-77e33475d462"
      },
      "outputs": [
        {
          "output_type": "display_data",
          "data": {
            "text/plain": [
              "<Figure size 432x288 with 1 Axes>"
            ],
            "image/png": "[encoded data removed]"
          },
          "metadata": {
            "needs_background": "light"
          }
        }
      ],
      "source": [
        "df_agrupado = df_eda.groupby(['presion','smoking']).size().reset_index().pivot(columns='smoking',index='presion',values=0)\n",
        "ax = df_agrupado.plot(kind='bar', color=['#6592b2','#143953'],stacked=True)\n",
        "\n",
        "\n",
        "for p in ax.patches:\n",
        "    width = p.get_width()\n",
        "    height = p.get_height()\n",
        "    x, y = p.get_xy() \n",
        "    ax.annotate(f'{height}', (x + width/2, y + height*1.02), ha='center')\n",
        "\n",
        "plt.show()"
      ]
    },
    {
      "cell_type": "code",
      "execution_count": null,
      "metadata": {
        "id": "_oYVmnOTDiRC",
        "colab": {
          "base_uri": "https://localhost:8080/",
          "height": 237
        },
        "outputId": "ebe07f30-244d-4d25-9800-2f4199887ed6"
      },
      "outputs": [
        {
          "output_type": "execute_result",
          "data": {
            "text/plain": [
              "smoking                             0     1  porcentaje_fumadores\n",
              "presion                                                          \n",
              "1. Optimo                       15998  7673                  32.0\n",
              "2. Normal                        8374  5353                  39.0\n",
              "3. Elevado                       7402  5282                  42.0\n",
              "4. Hipertension Grado I          2796  1589                  36.0\n",
              "5. Hipertension Grado II y III    667   558                  46.0"
            ],
            "text/html": [
              "\n",
              "  <div id=\"df-75eba9f6-5b4c-4b9d-82f2-9fc8ca5662ad\">\n",
              "    <div class=\"colab-df-container\">\n",
              "      <div>\n",
              "<style scoped>\n",
              "    .dataframe tbody tr th:only-of-type {\n",
              "        vertical-align: middle;\n",
              "    }\n",
              "\n",
              "    .dataframe tbody tr th {\n",
              "        vertical-align: top;\n",
              "    }\n",
              "\n",
              "    .dataframe thead th {\n",
              "        text-align: right;\n",
              "    }\n",
              "</style>\n",
              "<table border=\"1\" class=\"dataframe\">\n",
              "  <thead>\n",
              "    <tr style=\"text-align: right;\">\n",
              "      <th>smoking</th>\n",
              "      <th>0</th>\n",
              "      <th>1</th>\n",
              "      <th>porcentaje_fumadores</th>\n",
              "    </tr>\n",
              "    <tr>\n",
              "      <th>presion</th>\n",
              "      <th></th>\n",
              "      <th></th>\n",
              "      <th></th>\n",
              "    </tr>\n",
              "  </thead>\n",
              "  <tbody>\n",
              "    <tr>\n",
              "      <th>1. Optimo</th>\n",
              "      <td>15998</td>\n",
              "      <td>7673</td>\n",
              "      <td>32.0</td>\n",
              "    </tr>\n",
              "    <tr>\n",
              "      <th>2. Normal</th>\n",
              "      <td>8374</td>\n",
              "      <td>5353</td>\n",
              "      <td>39.0</td>\n",
              "    </tr>\n",
              "    <tr>\n",
              "      <th>3. Elevado</th>\n",
              "      <td>7402</td>\n",
              "      <td>5282</td>\n",
              "      <td>42.0</td>\n",
              "    </tr>\n",
              "    <tr>\n",
              "      <th>4. Hipertension Grado I</th>\n",
              "      <td>2796</td>\n",
              "      <td>1589</td>\n",
              "      <td>36.0</td>\n",
              "    </tr>\n",
              "    <tr>\n",
              "      <th>5. Hipertension Grado II y III</th>\n",
              "      <td>667</td>\n",
              "      <td>558</td>\n",
              "      <td>46.0</td>\n",
              "    </tr>\n",
              "  </tbody>\n",
              "</table>\n",
              "</div>\n",
              "      <button class=\"colab-df-convert\" onclick=\"convertToInteractive('df-75eba9f6-5b4c-4b9d-82f2-9fc8ca5662ad')\"\n",
              "              title=\"Convert this dataframe to an interactive table.\"\n",
              "              style=\"display:none;\">\n",
              "        \n",
              "  <svg xmlns=\"http://www.w3.org/2000/svg\" height=\"24px\"viewBox=\"0 0 24 24\"\n",
              "       width=\"24px\">\n",
              "    <path d=\"M0 0h24v24H0V0z\" fill=\"none\"/>\n",
              "    <path d=\"M18.56 5.44l.94 2.06.94-2.06 2.06-.94-2.06-.94-.94-2.06-.94 2.06-2.06.94zm-11 1L8.5 8.5l.94-2.06 2.06-.94-2.06-.94L8.5 2.5l-.94 2.06-2.06.94zm10 10l.94 2.06.94-2.06 2.06-.94-2.06-.94-.94-2.06-.94 2.06-2.06.94z\"/><path d=\"M17.41 7.96l-1.37-1.37c-.4-.4-.92-.59-1.43-.59-.52 0-1.04.2-1.43.59L10.3 9.45l-7.72 7.72c-.78.78-.78 2.05 0 2.83L4 21.41c.39.39.9.59 1.41.59.51 0 1.02-.2 1.41-.59l7.78-7.78 2.81-2.81c.8-.78.8-2.07 0-2.86zM5.41 20L4 18.59l7.72-7.72 1.47 1.35L5.41 20z\"/>\n",
              "  </svg>\n",
              "      </button>\n",
              "      \n",
              "  <style>\n",
              "    .colab-df-container {\n",
              "      display:flex;\n",
              "      flex-wrap:wrap;\n",
              "      gap: 12px;\n",
              "    }\n",
              "\n",
              "    .colab-df-convert {\n",
              "      background-color: #E8F0FE;\n",
              "      border: none;\n",
              "      border-radius: 50%;\n",
              "      cursor: pointer;\n",
              "      display: none;\n",
              "      fill: #1967D2;\n",
              "      height: 32px;\n",
              "      padding: 0 0 0 0;\n",
              "      width: 32px;\n",
              "    }\n",
              "\n",
              "    .colab-df-convert:hover {\n",
              "      background-color: #E2EBFA;\n",
              "      box-shadow: 0px 1px 2px rgba(60, 64, 67, 0.3), 0px 1px 3px 1px rgba(60, 64, 67, 0.15);\n",
              "      fill: #174EA6;\n",
              "    }\n",
              "\n",
              "    [theme=dark] .colab-df-convert {\n",
              "      background-color: #3B4455;\n",
              "      fill: #D2E3FC;\n",
              "    }\n",
              "\n",
              "    [theme=dark] .colab-df-convert:hover {\n",
              "      background-color: #434B5C;\n",
              "      box-shadow: 0px 1px 3px 1px rgba(0, 0, 0, 0.15);\n",
              "      filter: drop-shadow(0px 1px 2px rgba(0, 0, 0, 0.3));\n",
              "      fill: #FFFFFF;\n",
              "    }\n",
              "  </style>\n",
              "\n",
              "      <script>\n",
              "        const buttonEl =\n",
              "          document.querySelector('#df-75eba9f6-5b4c-4b9d-82f2-9fc8ca5662ad button.colab-df-convert');\n",
              "        buttonEl.style.display =\n",
              "          google.colab.kernel.accessAllowed ? 'block' : 'none';\n",
              "\n",
              "        async function convertToInteractive(key) {\n",
              "          const element = document.querySelector('#df-75eba9f6-5b4c-4b9d-82f2-9fc8ca5662ad');\n",
              "          const dataTable =\n",
              "            await google.colab.kernel.invokeFunction('convertToInteractive',\n",
              "                                                     [key], {});\n",
              "          if (!dataTable) return;\n",
              "\n",
              "          const docLinkHtml = 'Like what you see? Visit the ' +\n",
              "            '<a target=\"_blank\" href=https://colab.research.google.com/notebooks/data_table.ipynb>data table notebook</a>'\n",
              "            + ' to learn more about interactive tables.';\n",
              "          element.innerHTML = '';\n",
              "          dataTable['output_type'] = 'display_data';\n",
              "          await google.colab.output.renderOutput(dataTable, element);\n",
              "          const docLink = document.createElement('div');\n",
              "          docLink.innerHTML = docLinkHtml;\n",
              "          element.appendChild(docLink);\n",
              "        }\n",
              "      </script>\n",
              "    </div>\n",
              "  </div>\n",
              "  "
            ]
          },
          "metadata": {},
          "execution_count": 48
        }
      ],
      "source": [
        "df_agrupado['porcentaje_fumadores'] = round(df_agrupado[1]/(df_agrupado[1]+df_agrupado[0]),2)*100\n",
        "df_agrupado"
      ]
    },
    {
      "cell_type": "markdown",
      "metadata": {
        "id": "KXM6PRHY_-ib"
      },
      "source": [
        "Resumen númerico:"
      ]
    },
    {
      "cell_type": "code",
      "execution_count": null,
      "metadata": {
        "id": "QMRqf_YDAA7n",
        "colab": {
          "base_uri": "https://localhost:8080/",
          "height": 300
        },
        "outputId": "bed33e3f-bb20-4080-a446-33fd50970e90"
      },
      "outputs": [
        {
          "output_type": "execute_result",
          "data": {
            "text/plain": [
              "smoking        0       1  porcentaje_fumadores\n",
              "count        5.0     5.0                   5.0\n",
              "mean      7047.0  4091.0                  39.0\n",
              "std       5933.0  2940.0                   5.0\n",
              "min        667.0   558.0                  32.0\n",
              "25%       2796.0  1589.0                  36.0\n",
              "50%       7402.0  5282.0                  39.0\n",
              "75%       8374.0  5353.0                  42.0\n",
              "max      15998.0  7673.0                  46.0"
            ],
            "text/html": [
              "\n",
              "  <div id=\"df-f9153f98-bb6f-470c-b36e-09f9edcb051b\">\n",
              "    <div class=\"colab-df-container\">\n",
              "      <div>\n",
              "<style scoped>\n",
              "    .dataframe tbody tr th:only-of-type {\n",
              "        vertical-align: middle;\n",
              "    }\n",
              "\n",
              "    .dataframe tbody tr th {\n",
              "        vertical-align: top;\n",
              "    }\n",
              "\n",
              "    .dataframe thead th {\n",
              "        text-align: right;\n",
              "    }\n",
              "</style>\n",
              "<table border=\"1\" class=\"dataframe\">\n",
              "  <thead>\n",
              "    <tr style=\"text-align: right;\">\n",
              "      <th>smoking</th>\n",
              "      <th>0</th>\n",
              "      <th>1</th>\n",
              "      <th>porcentaje_fumadores</th>\n",
              "    </tr>\n",
              "  </thead>\n",
              "  <tbody>\n",
              "    <tr>\n",
              "      <th>count</th>\n",
              "      <td>5.0</td>\n",
              "      <td>5.0</td>\n",
              "      <td>5.0</td>\n",
              "    </tr>\n",
              "    <tr>\n",
              "      <th>mean</th>\n",
              "      <td>7047.0</td>\n",
              "      <td>4091.0</td>\n",
              "      <td>39.0</td>\n",
              "    </tr>\n",
              "    <tr>\n",
              "      <th>std</th>\n",
              "      <td>5933.0</td>\n",
              "      <td>2940.0</td>\n",
              "      <td>5.0</td>\n",
              "    </tr>\n",
              "    <tr>\n",
              "      <th>min</th>\n",
              "      <td>667.0</td>\n",
              "      <td>558.0</td>\n",
              "      <td>32.0</td>\n",
              "    </tr>\n",
              "    <tr>\n",
              "      <th>25%</th>\n",
              "      <td>2796.0</td>\n",
              "      <td>1589.0</td>\n",
              "      <td>36.0</td>\n",
              "    </tr>\n",
              "    <tr>\n",
              "      <th>50%</th>\n",
              "      <td>7402.0</td>\n",
              "      <td>5282.0</td>\n",
              "      <td>39.0</td>\n",
              "    </tr>\n",
              "    <tr>\n",
              "      <th>75%</th>\n",
              "      <td>8374.0</td>\n",
              "      <td>5353.0</td>\n",
              "      <td>42.0</td>\n",
              "    </tr>\n",
              "    <tr>\n",
              "      <th>max</th>\n",
              "      <td>15998.0</td>\n",
              "      <td>7673.0</td>\n",
              "      <td>46.0</td>\n",
              "    </tr>\n",
              "  </tbody>\n",
              "</table>\n",
              "</div>\n",
              "      <button class=\"colab-df-convert\" onclick=\"convertToInteractive('df-f9153f98-bb6f-470c-b36e-09f9edcb051b')\"\n",
              "              title=\"Convert this dataframe to an interactive table.\"\n",
              "              style=\"display:none;\">\n",
              "        \n",
              "  <svg xmlns=\"http://www.w3.org/2000/svg\" height=\"24px\"viewBox=\"0 0 24 24\"\n",
              "       width=\"24px\">\n",
              "    <path d=\"M0 0h24v24H0V0z\" fill=\"none\"/>\n",
              "    <path d=\"M18.56 5.44l.94 2.06.94-2.06 2.06-.94-2.06-.94-.94-2.06-.94 2.06-2.06.94zm-11 1L8.5 8.5l.94-2.06 2.06-.94-2.06-.94L8.5 2.5l-.94 2.06-2.06.94zm10 10l.94 2.06.94-2.06 2.06-.94-2.06-.94-.94-2.06-.94 2.06-2.06.94z\"/><path d=\"M17.41 7.96l-1.37-1.37c-.4-.4-.92-.59-1.43-.59-.52 0-1.04.2-1.43.59L10.3 9.45l-7.72 7.72c-.78.78-.78 2.05 0 2.83L4 21.41c.39.39.9.59 1.41.59.51 0 1.02-.2 1.41-.59l7.78-7.78 2.81-2.81c.8-.78.8-2.07 0-2.86zM5.41 20L4 18.59l7.72-7.72 1.47 1.35L5.41 20z\"/>\n",
              "  </svg>\n",
              "      </button>\n",
              "      \n",
              "  <style>\n",
              "    .colab-df-container {\n",
              "      display:flex;\n",
              "      flex-wrap:wrap;\n",
              "      gap: 12px;\n",
              "    }\n",
              "\n",
              "    .colab-df-convert {\n",
              "      background-color: #E8F0FE;\n",
              "      border: none;\n",
              "      border-radius: 50%;\n",
              "      cursor: pointer;\n",
              "      display: none;\n",
              "      fill: #1967D2;\n",
              "      height: 32px;\n",
              "      padding: 0 0 0 0;\n",
              "      width: 32px;\n",
              "    }\n",
              "\n",
              "    .colab-df-convert:hover {\n",
              "      background-color: #E2EBFA;\n",
              "      box-shadow: 0px 1px 2px rgba(60, 64, 67, 0.3), 0px 1px 3px 1px rgba(60, 64, 67, 0.15);\n",
              "      fill: #174EA6;\n",
              "    }\n",
              "\n",
              "    [theme=dark] .colab-df-convert {\n",
              "      background-color: #3B4455;\n",
              "      fill: #D2E3FC;\n",
              "    }\n",
              "\n",
              "    [theme=dark] .colab-df-convert:hover {\n",
              "      background-color: #434B5C;\n",
              "      box-shadow: 0px 1px 3px 1px rgba(0, 0, 0, 0.15);\n",
              "      filter: drop-shadow(0px 1px 2px rgba(0, 0, 0, 0.3));\n",
              "      fill: #FFFFFF;\n",
              "    }\n",
              "  </style>\n",
              "\n",
              "      <script>\n",
              "        const buttonEl =\n",
              "          document.querySelector('#df-f9153f98-bb6f-470c-b36e-09f9edcb051b button.colab-df-convert');\n",
              "        buttonEl.style.display =\n",
              "          google.colab.kernel.accessAllowed ? 'block' : 'none';\n",
              "\n",
              "        async function convertToInteractive(key) {\n",
              "          const element = document.querySelector('#df-f9153f98-bb6f-470c-b36e-09f9edcb051b');\n",
              "          const dataTable =\n",
              "            await google.colab.kernel.invokeFunction('convertToInteractive',\n",
              "                                                     [key], {});\n",
              "          if (!dataTable) return;\n",
              "\n",
              "          const docLinkHtml = 'Like what you see? Visit the ' +\n",
              "            '<a target=\"_blank\" href=https://colab.research.google.com/notebooks/data_table.ipynb>data table notebook</a>'\n",
              "            + ' to learn more about interactive tables.';\n",
              "          element.innerHTML = '';\n",
              "          dataTable['output_type'] = 'display_data';\n",
              "          await google.colab.output.renderOutput(dataTable, element);\n",
              "          const docLink = document.createElement('div');\n",
              "          docLink.innerHTML = docLinkHtml;\n",
              "          element.appendChild(docLink);\n",
              "        }\n",
              "      </script>\n",
              "    </div>\n",
              "  </div>\n",
              "  "
            ]
          },
          "metadata": {},
          "execution_count": 49
        }
      ],
      "source": [
        "df_agrupado.describe().round()"
      ]
    },
    {
      "cell_type": "markdown",
      "metadata": {
        "id": "X2YoP9CJAjSs"
      },
      "source": [
        "**Respuesta:**  \n",
        "Hipotesis correcta: gracias al analisis anterior, decimos que:  \n",
        "\n",
        "*   El porcentaje de fumadores dentro de cada grupo de presión arterial, es el mas alto entre los que tienen crisis hipertensiva y el menor entre los que tienen presión arterial normal.\n",
        "*   La cantidad máxima de personas en el conjunto de datos tiene presión arterial normal.\n",
        "*   El mayor número de no fumadores se encuentra en la presión arterial normal.\n",
        "\n"
      ]
    },
    {
      "cell_type": "markdown",
      "metadata": {
        "id": "NOMZlMhsH6Sb"
      },
      "source": [
        "## **¿Las personas que fuman tienen mayor poder visual que las personas que no fuman?**"
      ]
    },
    {
      "cell_type": "code",
      "execution_count": null,
      "metadata": {
        "id": "Z0Sf-P4bJeJy",
        "colab": {
          "base_uri": "https://localhost:8080/"
        },
        "outputId": "ac175933-7405-4ef6-c0fc-2a88f9bd42d6"
      },
      "outputs": [
        {
          "output_type": "stream",
          "name": "stdout",
          "text": [
            "Promedio de agudeza visual derecha en fumadores:  1.04763627474945\n",
            "Promedio de agudeza visual derecha en no fumadores:  0.9841104520816187\n",
            "Promedio de agudeza visual izquierda en fumadores:  1.0517330725983867\n",
            "Promedio de agudeza visual izquierda en no fumadores:  0.9899196866929647\n"
          ]
        }
      ],
      "source": [
        "print(\"Promedio de agudeza visual derecha en fumadores: \",df_eda['eyesight(right)'][df_eda.smoking==1].mean())\n",
        "print(\"Promedio de agudeza visual derecha en no fumadores: \",df_eda['eyesight(right)'][df_eda.smoking==0].mean())\n",
        "print(\"Promedio de agudeza visual izquierda en fumadores: \",df_eda['eyesight(left)'][df_eda.smoking==1].mean())\n",
        "print(\"Promedio de agudeza visual izquierda en no fumadores: \",df_eda['eyesight(left)'][df_eda.smoking==0].mean())"
      ]
    },
    {
      "cell_type": "markdown",
      "metadata": {
        "id": "Vmxcvx9n3Xot"
      },
      "source": [
        "Agrupamos por fumadores:"
      ]
    },
    {
      "cell_type": "code",
      "execution_count": null,
      "metadata": {
        "id": "RFOK6Sgh2YCw",
        "colab": {
          "base_uri": "https://localhost:8080/",
          "height": 180
        },
        "outputId": "80f589f2-1b5f-4e48-e4fb-50fa6cfea2ab"
      },
      "outputs": [
        {
          "output_type": "stream",
          "name": "stderr",
          "text": [
            "/usr/local/lib/python3.7/dist-packages/ipykernel_launcher.py:1: FutureWarning: Indexing with multiple keys (implicitly converted to a tuple of keys) will be deprecated, use a list instead.\n",
            "  \"\"\"Entry point for launching an IPython kernel.\n"
          ]
        },
        {
          "output_type": "execute_result",
          "data": {
            "text/plain": [
              "         eyesight(left)  eyesight(right)\n",
              "smoking                                 \n",
              "0              0.989920         0.984110\n",
              "1              1.051733         1.047636"
            ],
            "text/html": [
              "\n",
              "  <div id=\"df-d6df6408-bb7b-4be2-932b-da2860da794f\">\n",
              "    <div class=\"colab-df-container\">\n",
              "      <div>\n",
              "<style scoped>\n",
              "    .dataframe tbody tr th:only-of-type {\n",
              "        vertical-align: middle;\n",
              "    }\n",
              "\n",
              "    .dataframe tbody tr th {\n",
              "        vertical-align: top;\n",
              "    }\n",
              "\n",
              "    .dataframe thead th {\n",
              "        text-align: right;\n",
              "    }\n",
              "</style>\n",
              "<table border=\"1\" class=\"dataframe\">\n",
              "  <thead>\n",
              "    <tr style=\"text-align: right;\">\n",
              "      <th></th>\n",
              "      <th>eyesight(left)</th>\n",
              "      <th>eyesight(right)</th>\n",
              "    </tr>\n",
              "    <tr>\n",
              "      <th>smoking</th>\n",
              "      <th></th>\n",
              "      <th></th>\n",
              "    </tr>\n",
              "  </thead>\n",
              "  <tbody>\n",
              "    <tr>\n",
              "      <th>0</th>\n",
              "      <td>0.989920</td>\n",
              "      <td>0.984110</td>\n",
              "    </tr>\n",
              "    <tr>\n",
              "      <th>1</th>\n",
              "      <td>1.051733</td>\n",
              "      <td>1.047636</td>\n",
              "    </tr>\n",
              "  </tbody>\n",
              "</table>\n",
              "</div>\n",
              "      <button class=\"colab-df-convert\" onclick=\"convertToInteractive('df-d6df6408-bb7b-4be2-932b-da2860da794f')\"\n",
              "              title=\"Convert this dataframe to an interactive table.\"\n",
              "              style=\"display:none;\">\n",
              "        \n",
              "  <svg xmlns=\"http://www.w3.org/2000/svg\" height=\"24px\"viewBox=\"0 0 24 24\"\n",
              "       width=\"24px\">\n",
              "    <path d=\"M0 0h24v24H0V0z\" fill=\"none\"/>\n",
              "    <path d=\"M18.56 5.44l.94 2.06.94-2.06 2.06-.94-2.06-.94-.94-2.06-.94 2.06-2.06.94zm-11 1L8.5 8.5l.94-2.06 2.06-.94-2.06-.94L8.5 2.5l-.94 2.06-2.06.94zm10 10l.94 2.06.94-2.06 2.06-.94-2.06-.94-.94-2.06-.94 2.06-2.06.94z\"/><path d=\"M17.41 7.96l-1.37-1.37c-.4-.4-.92-.59-1.43-.59-.52 0-1.04.2-1.43.59L10.3 9.45l-7.72 7.72c-.78.78-.78 2.05 0 2.83L4 21.41c.39.39.9.59 1.41.59.51 0 1.02-.2 1.41-.59l7.78-7.78 2.81-2.81c.8-.78.8-2.07 0-2.86zM5.41 20L4 18.59l7.72-7.72 1.47 1.35L5.41 20z\"/>\n",
              "  </svg>\n",
              "      </button>\n",
              "      \n",
              "  <style>\n",
              "    .colab-df-container {\n",
              "      display:flex;\n",
              "      flex-wrap:wrap;\n",
              "      gap: 12px;\n",
              "    }\n",
              "\n",
              "    .colab-df-convert {\n",
              "      background-color: #E8F0FE;\n",
              "      border: none;\n",
              "      border-radius: 50%;\n",
              "      cursor: pointer;\n",
              "      display: none;\n",
              "      fill: #1967D2;\n",
              "      height: 32px;\n",
              "      padding: 0 0 0 0;\n",
              "      width: 32px;\n",
              "    }\n",
              "\n",
              "    .colab-df-convert:hover {\n",
              "      background-color: #E2EBFA;\n",
              "      box-shadow: 0px 1px 2px rgba(60, 64, 67, 0.3), 0px 1px 3px 1px rgba(60, 64, 67, 0.15);\n",
              "      fill: #174EA6;\n",
              "    }\n",
              "\n",
              "    [theme=dark] .colab-df-convert {\n",
              "      background-color: #3B4455;\n",
              "      fill: #D2E3FC;\n",
              "    }\n",
              "\n",
              "    [theme=dark] .colab-df-convert:hover {\n",
              "      background-color: #434B5C;\n",
              "      box-shadow: 0px 1px 3px 1px rgba(0, 0, 0, 0.15);\n",
              "      filter: drop-shadow(0px 1px 2px rgba(0, 0, 0, 0.3));\n",
              "      fill: #FFFFFF;\n",
              "    }\n",
              "  </style>\n",
              "\n",
              "      <script>\n",
              "        const buttonEl =\n",
              "          document.querySelector('#df-d6df6408-bb7b-4be2-932b-da2860da794f button.colab-df-convert');\n",
              "        buttonEl.style.display =\n",
              "          google.colab.kernel.accessAllowed ? 'block' : 'none';\n",
              "\n",
              "        async function convertToInteractive(key) {\n",
              "          const element = document.querySelector('#df-d6df6408-bb7b-4be2-932b-da2860da794f');\n",
              "          const dataTable =\n",
              "            await google.colab.kernel.invokeFunction('convertToInteractive',\n",
              "                                                     [key], {});\n",
              "          if (!dataTable) return;\n",
              "\n",
              "          const docLinkHtml = 'Like what you see? Visit the ' +\n",
              "            '<a target=\"_blank\" href=https://colab.research.google.com/notebooks/data_table.ipynb>data table notebook</a>'\n",
              "            + ' to learn more about interactive tables.';\n",
              "          element.innerHTML = '';\n",
              "          dataTable['output_type'] = 'display_data';\n",
              "          await google.colab.output.renderOutput(dataTable, element);\n",
              "          const docLink = document.createElement('div');\n",
              "          docLink.innerHTML = docLinkHtml;\n",
              "          element.appendChild(docLink);\n",
              "        }\n",
              "      </script>\n",
              "    </div>\n",
              "  </div>\n",
              "  "
            ]
          },
          "metadata": {},
          "execution_count": 51
        }
      ],
      "source": [
        "summary=df_eda.groupby([\"smoking\"])[\"eyesight(left)\",\"eyesight(right)\"].mean()\n",
        "summary"
      ]
    },
    {
      "cell_type": "markdown",
      "metadata": {
        "id": "E3U4bh1M3r7T"
      },
      "source": [
        "Gráficamos:"
      ]
    },
    {
      "cell_type": "code",
      "execution_count": null,
      "metadata": {
        "id": "dsXtV1051tX2",
        "colab": {
          "base_uri": "https://localhost:8080/",
          "height": 442
        },
        "outputId": "e5696965-48d9-42df-f4c6-a6c7e962da96"
      },
      "outputs": [
        {
          "output_type": "display_data",
          "data": {
            "text/plain": [
              "<Figure size 1080x504 with 1 Axes>"
            ],
            "image/png": "[encoded data removed]"
          },
          "metadata": {
            "needs_background": "light"
          }
        }
      ],
      "source": [
        "ax = summary.plot(kind=\"bar\",color=['#6592b2','#143953'],figsize=(15,7))\n",
        "\n",
        "for p in ax.patches:\n",
        "    width = p.get_width()\n",
        "    height = p.get_height()\n",
        "    x, y = p.get_xy() \n",
        "    ax.annotate(f'{round(height,2)}', (x + width/2, y + height*1.02), ha='center')\n",
        "\n",
        "plt.show()"
      ]
    },
    {
      "cell_type": "markdown",
      "metadata": {
        "id": "EeNnamti78te"
      },
      "source": [
        "Resumen numerico:"
      ]
    },
    {
      "cell_type": "code",
      "execution_count": null,
      "metadata": {
        "id": "KW94Mcm0778S",
        "colab": {
          "base_uri": "https://localhost:8080/",
          "height": 300
        },
        "outputId": "3443b2e3-02b3-454f-9bd4-eb29a0629953"
      },
      "outputs": [
        {
          "output_type": "execute_result",
          "data": {
            "text/plain": [
              "       eyesight(left)  eyesight(right)\n",
              "count            2.00             2.00\n",
              "mean             1.02             1.02\n",
              "std              0.04             0.04\n",
              "min              0.99             0.98\n",
              "25%              1.01             1.00\n",
              "50%              1.02             1.02\n",
              "75%              1.04             1.03\n",
              "max              1.05             1.05"
            ],
            "text/html": [
              "\n",
              "  <div id=\"df-9ff06f64-0970-45fd-8f62-7a64033b5423\">\n",
              "    <div class=\"colab-df-container\">\n",
              "      <div>\n",
              "<style scoped>\n",
              "    .dataframe tbody tr th:only-of-type {\n",
              "        vertical-align: middle;\n",
              "    }\n",
              "\n",
              "    .dataframe tbody tr th {\n",
              "        vertical-align: top;\n",
              "    }\n",
              "\n",
              "    .dataframe thead th {\n",
              "        text-align: right;\n",
              "    }\n",
              "</style>\n",
              "<table border=\"1\" class=\"dataframe\">\n",
              "  <thead>\n",
              "    <tr style=\"text-align: right;\">\n",
              "      <th></th>\n",
              "      <th>eyesight(left)</th>\n",
              "      <th>eyesight(right)</th>\n",
              "    </tr>\n",
              "  </thead>\n",
              "  <tbody>\n",
              "    <tr>\n",
              "      <th>count</th>\n",
              "      <td>2.00</td>\n",
              "      <td>2.00</td>\n",
              "    </tr>\n",
              "    <tr>\n",
              "      <th>mean</th>\n",
              "      <td>1.02</td>\n",
              "      <td>1.02</td>\n",
              "    </tr>\n",
              "    <tr>\n",
              "      <th>std</th>\n",
              "      <td>0.04</td>\n",
              "      <td>0.04</td>\n",
              "    </tr>\n",
              "    <tr>\n",
              "      <th>min</th>\n",
              "      <td>0.99</td>\n",
              "      <td>0.98</td>\n",
              "    </tr>\n",
              "    <tr>\n",
              "      <th>25%</th>\n",
              "      <td>1.01</td>\n",
              "      <td>1.00</td>\n",
              "    </tr>\n",
              "    <tr>\n",
              "      <th>50%</th>\n",
              "      <td>1.02</td>\n",
              "      <td>1.02</td>\n",
              "    </tr>\n",
              "    <tr>\n",
              "      <th>75%</th>\n",
              "      <td>1.04</td>\n",
              "      <td>1.03</td>\n",
              "    </tr>\n",
              "    <tr>\n",
              "      <th>max</th>\n",
              "      <td>1.05</td>\n",
              "      <td>1.05</td>\n",
              "    </tr>\n",
              "  </tbody>\n",
              "</table>\n",
              "</div>\n",
              "      <button class=\"colab-df-convert\" onclick=\"convertToInteractive('df-9ff06f64-0970-45fd-8f62-7a64033b5423')\"\n",
              "              title=\"Convert this dataframe to an interactive table.\"\n",
              "              style=\"display:none;\">\n",
              "        \n",
              "  <svg xmlns=\"http://www.w3.org/2000/svg\" height=\"24px\"viewBox=\"0 0 24 24\"\n",
              "       width=\"24px\">\n",
              "    <path d=\"M0 0h24v24H0V0z\" fill=\"none\"/>\n",
              "    <path d=\"M18.56 5.44l.94 2.06.94-2.06 2.06-.94-2.06-.94-.94-2.06-.94 2.06-2.06.94zm-11 1L8.5 8.5l.94-2.06 2.06-.94-2.06-.94L8.5 2.5l-.94 2.06-2.06.94zm10 10l.94 2.06.94-2.06 2.06-.94-2.06-.94-.94-2.06-.94 2.06-2.06.94z\"/><path d=\"M17.41 7.96l-1.37-1.37c-.4-.4-.92-.59-1.43-.59-.52 0-1.04.2-1.43.59L10.3 9.45l-7.72 7.72c-.78.78-.78 2.05 0 2.83L4 21.41c.39.39.9.59 1.41.59.51 0 1.02-.2 1.41-.59l7.78-7.78 2.81-2.81c.8-.78.8-2.07 0-2.86zM5.41 20L4 18.59l7.72-7.72 1.47 1.35L5.41 20z\"/>\n",
              "  </svg>\n",
              "      </button>\n",
              "      \n",
              "  <style>\n",
              "    .colab-df-container {\n",
              "      display:flex;\n",
              "      flex-wrap:wrap;\n",
              "      gap: 12px;\n",
              "    }\n",
              "\n",
              "    .colab-df-convert {\n",
              "      background-color: #E8F0FE;\n",
              "      border: none;\n",
              "      border-radius: 50%;\n",
              "      cursor: pointer;\n",
              "      display: none;\n",
              "      fill: #1967D2;\n",
              "      height: 32px;\n",
              "      padding: 0 0 0 0;\n",
              "      width: 32px;\n",
              "    }\n",
              "\n",
              "    .colab-df-convert:hover {\n",
              "      background-color: #E2EBFA;\n",
              "      box-shadow: 0px 1px 2px rgba(60, 64, 67, 0.3), 0px 1px 3px 1px rgba(60, 64, 67, 0.15);\n",
              "      fill: #174EA6;\n",
              "    }\n",
              "\n",
              "    [theme=dark] .colab-df-convert {\n",
              "      background-color: #3B4455;\n",
              "      fill: #D2E3FC;\n",
              "    }\n",
              "\n",
              "    [theme=dark] .colab-df-convert:hover {\n",
              "      background-color: #434B5C;\n",
              "      box-shadow: 0px 1px 3px 1px rgba(0, 0, 0, 0.15);\n",
              "      filter: drop-shadow(0px 1px 2px rgba(0, 0, 0, 0.3));\n",
              "      fill: #FFFFFF;\n",
              "    }\n",
              "  </style>\n",
              "\n",
              "      <script>\n",
              "        const buttonEl =\n",
              "          document.querySelector('#df-9ff06f64-0970-45fd-8f62-7a64033b5423 button.colab-df-convert');\n",
              "        buttonEl.style.display =\n",
              "          google.colab.kernel.accessAllowed ? 'block' : 'none';\n",
              "\n",
              "        async function convertToInteractive(key) {\n",
              "          const element = document.querySelector('#df-9ff06f64-0970-45fd-8f62-7a64033b5423');\n",
              "          const dataTable =\n",
              "            await google.colab.kernel.invokeFunction('convertToInteractive',\n",
              "                                                     [key], {});\n",
              "          if (!dataTable) return;\n",
              "\n",
              "          const docLinkHtml = 'Like what you see? Visit the ' +\n",
              "            '<a target=\"_blank\" href=https://colab.research.google.com/notebooks/data_table.ipynb>data table notebook</a>'\n",
              "            + ' to learn more about interactive tables.';\n",
              "          element.innerHTML = '';\n",
              "          dataTable['output_type'] = 'display_data';\n",
              "          await google.colab.output.renderOutput(dataTable, element);\n",
              "          const docLink = document.createElement('div');\n",
              "          docLink.innerHTML = docLinkHtml;\n",
              "          element.appendChild(docLink);\n",
              "        }\n",
              "      </script>\n",
              "    </div>\n",
              "  </div>\n",
              "  "
            ]
          },
          "metadata": {},
          "execution_count": 53
        }
      ],
      "source": [
        "summary.describe().round(2)"
      ]
    },
    {
      "cell_type": "markdown",
      "metadata": {
        "id": "HpFw7Gkg1RCw"
      },
      "source": [
        "**Respuesta:**  \n",
        "Hipotesis correcta: Las personas que fuman tienen mayor poder visual que las que no fuman."
      ]
    },
    {
      "cell_type": "markdown",
      "metadata": {
        "id": "F79e0TivdZKO"
      },
      "source": [
        "##**¿Los fumadores tienen la hemoglobina mas alta?**"
      ]
    },
    {
      "cell_type": "code",
      "execution_count": null,
      "metadata": {
        "id": "MkXb4Fn3QhQN",
        "colab": {
          "base_uri": "https://localhost:8080/",
          "height": 300
        },
        "outputId": "a2a40291-e3da-4f4f-d65d-ece07c2b5603"
      },
      "outputs": [
        {
          "output_type": "execute_result",
          "data": {
            "text/plain": [
              "<matplotlib.axes._subplots.AxesSubplot at 0x7f3c5c35a950>"
            ]
          },
          "metadata": {},
          "execution_count": 54
        },
        {
          "output_type": "display_data",
          "data": {
            "text/plain": [
              "<Figure size 432x288 with 1 Axes>"
            ],
            "image/png": "[encoded data removed]"
          },
          "metadata": {
            "needs_background": "light"
          }
        }
      ],
      "source": [
        "sns.boxplot(x=\"smoking\",y=\"hemoglobin\", data=df_eda)"
      ]
    },
    {
      "cell_type": "markdown",
      "metadata": {
        "id": "1GQ-X5FbP_hh"
      },
      "source": [
        "Resumen númerico:"
      ]
    },
    {
      "cell_type": "code",
      "execution_count": null,
      "metadata": {
        "id": "nl_bBHG4QBwW",
        "colab": {
          "base_uri": "https://localhost:8080/"
        },
        "outputId": "9e1a3d3c-c699-4849-b641-61838aaa0cdf"
      },
      "outputs": [
        {
          "output_type": "execute_result",
          "data": {
            "text/plain": [
              "count    55692.000000\n",
              "mean        14.622592\n",
              "std          1.564498\n",
              "min          4.900000\n",
              "25%         13.600000\n",
              "50%         14.800000\n",
              "75%         15.800000\n",
              "max         21.100000\n",
              "Name: hemoglobin, dtype: float64"
            ]
          },
          "metadata": {},
          "execution_count": 55
        }
      ],
      "source": [
        "df_eda.hemoglobin.describe()"
      ]
    },
    {
      "cell_type": "markdown",
      "metadata": {
        "id": "OUgYVUeeQH1K"
      },
      "source": [
        "**Respuesta:**  \n",
        "El siguiente analisis nos dice que la hipotesis es correcta, los niveles son altos para fumadores que para no fumadores."
      ]
    },
    {
      "cell_type": "markdown",
      "metadata": {
        "id": "y9dgLXzlkYrx"
      },
      "source": [
        "**Para finalizar con el storytelling dejamos las conclusiones finales o resumen de todo lo visto anteriormente:**  \n",
        "El dataset arroja los siguientes resultados:  \n",
        "* Hombres = 63.6 %  \n",
        "* Mujeres = 36.4 %  \n",
        "* No fumadores = 63.3%  \n",
        "* Fumadores = 36.7%  \n",
        "* Hay mas hombres que mujeres.  \n",
        "* El rango de edad (18-60) tiene mas personas entre hombres y mujeres.  \n",
        "* Toda persona en el dataset es adulta.  \n",
        "* El 2.6% de las personas en el dataset tienen deficit auditivo en el oído izquierdo y un mismo porcentaje tiene deficit en el oído derecho.  \n",
        "Esto nos permite saber que el 2.6% obtenido mediante los gráficos anteriores no corresponde únicamente a personas con déficit en ambos oídos sino que existen personas con deficit únicamente en uno de sus oídos.  \n",
        "* el 94.4% de las personas de nuestro set de datos se encuentran entre los parametros normales de proteína en la orina mientras que el restante 5.6% presenta proteinuria en distintos rangos.  \n",
        "* un 21.3% de las personas porta caries mientras que un 44.4% de los mismos presentó sarro.  \n",
        "* Las personas que fuman tienen mayor poder visual que las que no fuman.  \n",
        "* El porcentaje de fumadores dentro de cada grupo de presión arterial, es el mas alto entre los que tienen crisis hipertensiva y el menor entre los que tienen presión arterial normal.\n",
        "* La cantidad máxima de personas en el conjunto de datos tiene presión arterial normal.\n",
        "* El mayor número de no fumadores se encuentra en la presión arterial normal.  \n",
        "* la mayoria de los no fumadores tienen un nivel alto de HDL y es menor en los fumadores.  \n",
        "* Al contrario del HDL, el analisis muestra que los no fumadores tienen mas LDL que los que fuman.  \n",
        "* el promedio de LDL es mas alto para ambos generos que no fuman.\n",
        "* El colesterol podria variar por otras causas ajenas al humo de tabaco.  \n",
        "* los niveles de hemoglobina son altos para fumadores que para no fumadores."
      ]
    },
    {
      "cell_type": "markdown",
      "source": [
        "# **FEATURE SELECTION**"
      ],
      "metadata": {
        "id": "7SDVJKZgleIS"
      }
    },
    {
      "cell_type": "markdown",
      "source": [
        "**Elegimos el método forward selection o selección hacia adelante para reducir la dimensionalidad del dataset**\n"
      ],
      "metadata": {
        "id": "egLp0nb8lhUX"
      }
    },
    {
      "cell_type": "code",
      "source": [
        "#Importamos las librerias basicas para construir modelos de clasificación\n",
        "from sklearn.model_selection import train_test_split\n",
        "from sklearn.metrics import accuracy_score,r2_score\n",
        "from sklearn.ensemble import RandomForestClassifier\n",
        "\n",
        "\n",
        "\n",
        "from sklearn.preprocessing import LabelEncoder\n",
        "from sklearn.inspection import permutation_importance\n",
        "\n",
        "!pip install mlxtend\n",
        "import sys\n",
        "import joblib\n",
        "sys.modules['sklearn.externals.joblib'] = joblib"
      ],
      "metadata": {
        "colab": {
          "base_uri": "https://localhost:8080/"
        },
        "id": "3FnxebL7lkji",
        "outputId": "1a3881d9-8042-4070-b18f-eec72473cb9c"
      },
      "execution_count": null,
      "outputs": [
        {
          "output_type": "stream",
          "name": "stdout",
          "text": [
            "Looking in indexes: https://pypi.org/simple, https://us-python.pkg.dev/colab-wheels/public/simple/\n",
            "Requirement already satisfied: mlxtend in /usr/local/lib/python3.7/dist-packages (0.14.0)\n",
            "Requirement already satisfied: matplotlib>=1.5.1 in /usr/local/lib/python3.7/dist-packages (from mlxtend) (3.2.2)\n",
            "Requirement already satisfied: pandas>=0.17.1 in /usr/local/lib/python3.7/dist-packages (from mlxtend) (1.3.5)\n",
            "Requirement already satisfied: setuptools in /usr/local/lib/python3.7/dist-packages (from mlxtend) (57.4.0)\n",
            "Requirement already satisfied: scipy>=0.17 in /usr/local/lib/python3.7/dist-packages (from mlxtend) (1.7.3)\n",
            "Requirement already satisfied: numpy>=1.10.4 in /usr/local/lib/python3.7/dist-packages (from mlxtend) (1.21.6)\n",
            "Requirement already satisfied: scikit-learn>=0.18 in /usr/local/lib/python3.7/dist-packages (from mlxtend) (1.0.2)\n",
            "Requirement already satisfied: cycler>=0.10 in /usr/local/lib/python3.7/dist-packages (from matplotlib>=1.5.1->mlxtend) (0.11.0)\n",
            "Requirement already satisfied: python-dateutil>=2.1 in /usr/local/lib/python3.7/dist-packages (from matplotlib>=1.5.1->mlxtend) (2.8.2)\n",
            "Requirement already satisfied: kiwisolver>=1.0.1 in /usr/local/lib/python3.7/dist-packages (from matplotlib>=1.5.1->mlxtend) (1.4.4)\n",
            "Requirement already satisfied: pyparsing!=2.0.4,!=2.1.2,!=2.1.6,>=2.0.1 in /usr/local/lib/python3.7/dist-packages (from matplotlib>=1.5.1->mlxtend) (3.0.9)\n",
            "Requirement already satisfied: typing-extensions in /usr/local/lib/python3.7/dist-packages (from kiwisolver>=1.0.1->matplotlib>=1.5.1->mlxtend) (4.1.1)\n",
            "Requirement already satisfied: pytz>=2017.3 in /usr/local/lib/python3.7/dist-packages (from pandas>=0.17.1->mlxtend) (2022.4)\n",
            "Requirement already satisfied: six>=1.5 in /usr/local/lib/python3.7/dist-packages (from python-dateutil>=2.1->matplotlib>=1.5.1->mlxtend) (1.15.0)\n",
            "Requirement already satisfied: joblib>=0.11 in /usr/local/lib/python3.7/dist-packages (from scikit-learn>=0.18->mlxtend) (1.2.0)\n",
            "Requirement already satisfied: threadpoolctl>=2.0.0 in /usr/local/lib/python3.7/dist-packages (from scikit-learn>=0.18->mlxtend) (3.1.0)\n"
          ]
        }
      ]
    },
    {
      "cell_type": "markdown",
      "source": [
        "Gracias al EDA, pudimos ver el tipo de datos de cada variable del dataset, y conocimos cuales son las variables object, para evaluar los modelos necesitamos cambiar el tipo de datos de las variables object a numero."
      ],
      "metadata": {
        "id": "BmMzdDYLlqt2"
      }
    },
    {
      "cell_type": "code",
      "source": [
        "# Cambiamos el tipo de datos de la columna gender\n",
        "\n",
        "le = LabelEncoder()\n",
        "le.fit(df_final[\"gender\"])\n",
        "df_final[\"gender\"]=le.transform(df_final[\"gender\"])  \n",
        "\n",
        "# Cambiamos el tipo de datos de la columna oral \n",
        "\n",
        "l = LabelEncoder()\n",
        "l.fit(df_final[\"oral\"])\n",
        "df_final[\"oral\"]=l.transform(df_final[\"oral\"])\n",
        "\n",
        "# Cambiamos el tipo de datos de la columna tartar \n",
        "\n",
        "a = LabelEncoder()\n",
        "a.fit(df_final[\"tartar\"])\n",
        "df_final[\"tartar\"]=a.transform(df_final[\"tartar\"])\n",
        "\n",
        "# Cambiamos el tipo de datos de la columna bmi_comp \n",
        "\n",
        "#a = LabelEncoder()\n",
        "#a.fit(df_final[\"bmi_comp\"])\n",
        "#df_final[\"bmi_comp\"]=a.transform(df_final[\"bmi_comp\"])"
      ],
      "metadata": {
        "id": "VVJ0AGjzluBI"
      },
      "execution_count": null,
      "outputs": []
    },
    {
      "cell_type": "markdown",
      "source": [
        "Se setean los parámetros necesarios para ejecutar el método de selección. Se decide escoger 15 variables (k_features=15) dado que mediante pruebas realizadas se llegó a la conclusión de que es lo que mejor se ajusta al problema."
      ],
      "metadata": {
        "id": "rz71vywll16c"
      }
    },
    {
      "cell_type": "code",
      "source": [
        "from mlxtend.feature_selection import SequentialFeatureSelector as SFS\n",
        "from sklearn.linear_model import LinearRegression\n",
        "\n",
        "# Sequential Forward Selection(sfs)\n",
        "sfs = SFS(LinearRegression(),\n",
        "          k_features=15,\n",
        "          forward=True,\n",
        "          floating=False,\n",
        "          scoring = 'r2',\n",
        "          cv = 0)"
      ],
      "metadata": {
        "id": "awRffETOl4pV"
      },
      "execution_count": null,
      "outputs": []
    },
    {
      "cell_type": "code",
      "source": [
        "#Definimos un valor X1 con las variables independientes y un valor Y1 con la variable objetivo\n",
        "X1 = df_final.drop(columns=\"smoking\")           \n",
        "y1 = df_final[\"smoking\"]   "
      ],
      "metadata": {
        "id": "F37eZgCTmAxC"
      },
      "execution_count": null,
      "outputs": []
    },
    {
      "cell_type": "code",
      "source": [
        "sfs.fit(X1, y1)\n",
        "print('Las variables seleccionadas por el método de forward selection fueron las siguientes:')\n",
        "sfs.k_feature_names_ #Lista final de features"
      ],
      "metadata": {
        "colab": {
          "base_uri": "https://localhost:8080/"
        },
        "id": "lUALeiYimJWM",
        "outputId": "02ddc8c8-5881-4549-8e27-9d8ec7451c3c"
      },
      "execution_count": null,
      "outputs": [
        {
          "output_type": "stream",
          "name": "stdout",
          "text": [
            "Las variables seleccionadas por el método de forward selection fueron las siguientes:\n"
          ]
        },
        {
          "output_type": "execute_result",
          "data": {
            "text/plain": [
              "('gender',\n",
              " 'systolic',\n",
              " 'relaxation',\n",
              " 'fasting blood sugar',\n",
              " 'Cholesterol',\n",
              " 'triglyceride',\n",
              " 'hemoglobin',\n",
              " 'serum creatinine',\n",
              " 'ALT',\n",
              " 'Gtp',\n",
              " 'dental caries',\n",
              " 'tartar',\n",
              " 'bmi',\n",
              " 'calc_bmi',\n",
              " 'bmi_comp')"
            ]
          },
          "metadata": {},
          "execution_count": 60
        }
      ]
    },
    {
      "cell_type": "code",
      "source": [],
      "metadata": {
        "id": "fee8WKX8nVu_"
      },
      "execution_count": null,
      "outputs": []
    },
    {
      "cell_type": "markdown",
      "source": [
        "Estas son las variables que nos importan mas la variable smoking que no se tuvo en cuenta para hacer el metodo de feature selection ya que es la variable principal que no debe ser descartada en ningun caso."
      ],
      "metadata": {
        "id": "qMBx2dxZnRso"
      }
    },
    {
      "cell_type": "markdown",
      "source": [
        "## **ELECCIÓN DEL MODELO DE CLASIFICACIÓN**"
      ],
      "metadata": {
        "id": "zjp6dI4lnU8c"
      }
    },
    {
      "cell_type": "markdown",
      "source": [
        "El algoritmo de clasificación escogido para entrenar con los datos es \"Random Forest\" ya que fue con el que se obtuvieron mejores resultados en el Proyecto Complementario."
      ],
      "metadata": {
        "id": "GaprFEAGnW4q"
      }
    },
    {
      "cell_type": "code",
      "source": [
        "#Definimos un valor X y un valor Y, y cortamos los datos entrenados\n",
        "X = df_final[list(sfs.k_feature_names_)] \n",
        "y = df_final[\"smoking\"]    # y = quality\n",
        "print(X.head())\n",
        "\n",
        "# split the data train and test\n",
        "X_train, X_test, y_train, y_test = train_test_split(X, y, test_size=0.25, random_state=42)\n",
        "\n",
        "print(\"X Train : \", X_train.shape)\n",
        "print(\"X Test  : \", X_test.shape)\n",
        "print(\"Y Train : \", y_train.shape)\n",
        "print(\"Y Test  : \", y_test.shape)\n",
        "\n",
        "\n",
        "RFR = RandomForestClassifier(n_estimators=150,random_state=250)\n",
        "RFR.fit(X_train,y_train)\n",
        "ypred = RFR.predict(X_test)\n",
        "print(RFR,\":\",accuracy_score(y_test,ypred)*100)"
      ],
      "metadata": {
        "colab": {
          "base_uri": "https://localhost:8080/"
        },
        "id": "fn7_sLZHndTY",
        "outputId": "4ef61f40-c61b-4c62-95b7-9e9b49359a10"
      },
      "execution_count": null,
      "outputs": [
        {
          "output_type": "stream",
          "name": "stdout",
          "text": [
            "   gender  systolic  relaxation  fasting blood sugar  Cholesterol  \\\n",
            "0       0     114.0        73.0                 94.0        215.0   \n",
            "1       0     119.0        70.0                130.0        192.0   \n",
            "2       1     138.0        86.0                 89.0        242.0   \n",
            "3       1     100.0        60.0                 96.0        322.0   \n",
            "4       0     120.0        74.0                 80.0        184.0   \n",
            "\n",
            "   triglyceride  hemoglobin  serum creatinine   ALT   Gtp  dental caries  \\\n",
            "0          82.0        12.9               0.7  19.0  27.0              0   \n",
            "1         115.0        12.7               0.6  19.0  18.0              0   \n",
            "2         182.0        15.8               1.0  16.0  22.0              0   \n",
            "3         254.0        14.7               1.0  26.0  18.0              0   \n",
            "4          74.0        12.5               0.6  14.0  22.0              0   \n",
            "\n",
            "   tartar        bmi   calc_bmi  bmi_comp  \n",
            "0       1  30.821418  24.973985     False  \n",
            "1       1  30.821418  23.437500     False  \n",
            "2       0  32.269048  20.761246     False  \n",
            "3       1  30.390882  25.711662     False  \n",
            "4       0  30.821418  24.973985     False  \n",
            "X Train :  (41769, 15)\n",
            "X Test  :  (13923, 15)\n",
            "Y Train :  (41769,)\n",
            "Y Test  :  (13923,)\n",
            "RandomForestClassifier(n_estimators=150, random_state=250) : 82.6115061409179\n"
          ]
        }
      ]
    },
    {
      "cell_type": "markdown",
      "source": [
        "## **CÁLCULO DE MÉTRICAS PARA VALIDAR EL MODELO**"
      ],
      "metadata": {
        "id": "XXOF5qaFnt87"
      }
    },
    {
      "cell_type": "code",
      "source": [
        "from sklearn import metrics # IMPORTAMOS METRICS PARA MEDIR EL DESEMPEÑO DEL MODELO"
      ],
      "metadata": {
        "id": "_spMDV9qnwTw"
      },
      "execution_count": null,
      "outputs": []
    },
    {
      "cell_type": "code",
      "source": [
        "preds = RFR.predict(X_test)"
      ],
      "metadata": {
        "id": "f59XO1_onyM9"
      },
      "execution_count": null,
      "outputs": []
    },
    {
      "cell_type": "code",
      "source": [
        "plt.figure(figsize=(10,6))\n",
        "metrics.plot_confusion_matrix(RFR, X_test, y_test, display_labels=['Negative', 'Positive'])"
      ],
      "metadata": {
        "colab": {
          "base_uri": "https://localhost:8080/",
          "height": 375
        },
        "id": "UzT-qBwMn1DP",
        "outputId": "08cba0b5-34c8-4277-f20e-7a9ef153deb7"
      },
      "execution_count": null,
      "outputs": [
        {
          "output_type": "stream",
          "name": "stderr",
          "text": [
            "/usr/local/lib/python3.7/dist-packages/sklearn/utils/deprecation.py:87: FutureWarning: Function plot_confusion_matrix is deprecated; Function `plot_confusion_matrix` is deprecated in 1.0 and will be removed in 1.2. Use one of the class methods: ConfusionMatrixDisplay.from_predictions or ConfusionMatrixDisplay.from_estimator.\n",
            "  warnings.warn(msg, category=FutureWarning)\n"
          ]
        },
        {
          "output_type": "execute_result",
          "data": {
            "text/plain": [
              "<sklearn.metrics._plot.confusion_matrix.ConfusionMatrixDisplay at 0x7f3c5c67a890>"
            ]
          },
          "metadata": {},
          "execution_count": 64
        },
        {
          "output_type": "display_data",
          "data": {
            "text/plain": [
              "<Figure size 720x432 with 0 Axes>"
            ]
          },
          "metadata": {}
        },
        {
          "output_type": "display_data",
          "data": {
            "text/plain": [
              "<Figure size 432x288 with 2 Axes>"
            ],
            "image/png": "[encoded data removed]"
          },
          "metadata": {
            "needs_background": "light"
          }
        }
      ]
    },
    {
      "cell_type": "code",
      "source": [
        "confusion = metrics.confusion_matrix(y_test, preds)\n",
        "confusion"
      ],
      "metadata": {
        "colab": {
          "base_uri": "https://localhost:8080/"
        },
        "id": "G7lTRB6yn6rz",
        "outputId": "7f2730e1-c044-459b-bc32-60139c83a3c3"
      },
      "execution_count": null,
      "outputs": [
        {
          "output_type": "execute_result",
          "data": {
            "text/plain": [
              "array([[7430, 1342],\n",
              "       [1079, 4072]])"
            ]
          },
          "metadata": {},
          "execution_count": 65
        }
      ]
    },
    {
      "cell_type": "markdown",
      "source": [
        "La matriz de confusión arroja los siguientes resultados:"
      ],
      "metadata": {
        "id": "yrqtBFd9n-Xr"
      }
    },
    {
      "cell_type": "code",
      "source": [
        "print('Verdaderos Positivos: ', confusion[1,1])\n",
        "print('Verdaderos Negativos: ', confusion[0,0])\n",
        "print('Falsos Positivos: ', confusion[0,1])\n",
        "print('Falsos Negativos: ', confusion[1,0])"
      ],
      "metadata": {
        "colab": {
          "base_uri": "https://localhost:8080/"
        },
        "id": "j3rAqD7roAuU",
        "outputId": "b03aab8c-807f-4307-c347-7a48e701d1c1"
      },
      "execution_count": null,
      "outputs": [
        {
          "output_type": "stream",
          "name": "stdout",
          "text": [
            "Verdaderos Positivos:  4072\n",
            "Verdaderos Negativos:  7430\n",
            "Falsos Positivos:  1342\n",
            "Falsos Negativos:  1079\n"
          ]
        }
      ]
    },
    {
      "cell_type": "markdown",
      "source": [
        "A simple vista gracias a la visual de la matriz podemos ver que el modelo es balanceado. Concentrandonos en las diagonales de color morado, podemos ver que en nuestro caso no supera ni el 20% del dataset.\n",
        "Si estuviera en overfitting el cuadrado morado que se encuentra arriba del cuadrado verde, tendria valores mucho mas bajos que el otro cuadrado morado.\n",
        "En nuestro caso habria que mantener o aumentar los verdaderos (positivos/negativos) y disminuir los falsos (positivos/negativos)."
      ],
      "metadata": {
        "id": "ghqWmAYOoEoy"
      }
    },
    {
      "cell_type": "code",
      "source": [
        "accuracy = metrics.accuracy_score(y_test, preds)\n",
        "accuracy"
      ],
      "metadata": {
        "colab": {
          "base_uri": "https://localhost:8080/"
        },
        "id": "tcBx1U2-oI7U",
        "outputId": "36c9d3c5-0002-48ec-e05f-090d4fe76082"
      },
      "execution_count": null,
      "outputs": [
        {
          "output_type": "execute_result",
          "data": {
            "text/plain": [
              "0.826115061409179"
            ]
          },
          "metadata": {},
          "execution_count": 67
        }
      ]
    },
    {
      "cell_type": "code",
      "source": [
        "print(\"Precisión positiva: \",metrics.precision_score(y_test, preds, pos_label=1),\" y precisión negativa: \",metrics.precision_score(y_test, preds, pos_label=0))"
      ],
      "metadata": {
        "colab": {
          "base_uri": "https://localhost:8080/"
        },
        "id": "7jTLIR2roLz-",
        "outputId": "c9ae67bd-8142-405f-8889-1e7abc227076"
      },
      "execution_count": null,
      "outputs": [
        {
          "output_type": "stream",
          "name": "stdout",
          "text": [
            "Precisión positiva:  0.7521241226449945  y precisión negativa:  0.8731930896697614\n"
          ]
        }
      ]
    },
    {
      "cell_type": "code",
      "source": [
        "print(\"Sensibilidad: \",metrics.recall_score(y_test, preds, pos_label=1),\" y Especificidad: \",metrics.recall_score(y_test, preds, pos_label=0))"
      ],
      "metadata": {
        "colab": {
          "base_uri": "https://localhost:8080/"
        },
        "id": "nMIwCvuwoQBE",
        "outputId": "3c1b105b-8aab-42d2-f5f2-5298f7a99f14"
      },
      "execution_count": null,
      "outputs": [
        {
          "output_type": "stream",
          "name": "stdout",
          "text": [
            "Sensibilidad:  0.7905261114346729  y Especificidad:  0.8470132238942089\n"
          ]
        }
      ]
    },
    {
      "cell_type": "code",
      "source": [
        "print(\"F1 Positivo: \",metrics.f1_score(y_test, preds, pos_label=1),\" y F1 Negativo: \",metrics.f1_score(y_test, preds, pos_label=0))"
      ],
      "metadata": {
        "colab": {
          "base_uri": "https://localhost:8080/"
        },
        "id": "uhbEdXxxoSuF",
        "outputId": "0492eeb9-1085-4dac-e9b5-a320848323d6"
      },
      "execution_count": null,
      "outputs": [
        {
          "output_type": "stream",
          "name": "stdout",
          "text": [
            "F1 Positivo:  0.7708471367723616  y F1 Negativo:  0.8599039407441699\n"
          ]
        }
      ]
    },
    {
      "cell_type": "markdown",
      "source": [
        "Si analizamos estos valores, la sensibilidad se encuentra en un 0.79 acercando al accuracy, igual que todos los otros valores.\n",
        "Por ejemplo el F1 Negativo se encuentra por encima pero por muy poco.\n",
        "Esto signica que hay una proporcion de clases muy buena en el dataset ya que el modelo es balanceado."
      ],
      "metadata": {
        "id": "hWKeMl03oW5n"
      }
    }
  ],
  "metadata": {
    "colab": {
      "collapsed_sections": [],
      "provenance": [],
      "include_colab_link": true
    },
    "kernelspec": {
      "display_name": "Python 3",
      "name": "python3"
    },
    "language_info": {
      "name": "python"
    }
  },
  "nbformat": 4,
  "nbformat_minor": 0
}